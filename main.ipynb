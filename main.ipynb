{
  "nbformat": 4,
  "nbformat_minor": 0,
  "metadata": {
    "colab": {
      "provenance": [],
      "collapsed_sections": [
        "bjujtGrDBs4g",
        "X-QmVJIondkK",
        "FxT2JH2LsiBi"
      ]
    },
    "kernelspec": {
      "name": "python3",
      "display_name": "Python 3"
    },
    "language_info": {
      "name": "python"
    }
  },
  "cells": [
    {
      "cell_type": "markdown",
      "source": [
        "# Постановка задачи"
      ],
      "metadata": {
        "id": "2G9ZWA3eApFh"
      }
    },
    {
      "cell_type": "markdown",
      "source": [
        "**Цель:** Выявить влияние продуктов на продолжительность жизни"
      ],
      "metadata": {
        "id": "0NaXLaiEBdzj"
      }
    },
    {
      "cell_type": "markdown",
      "source": [
        "**Данные:**\n",
        "\n",
        "**Ожидаемая продолжительность жизни при рождении (ЕМИСС):**\n",
        "\n",
        "https://www.fedstat.ru/indicator/31293\n",
        "\n",
        "**Потребление основных продуктов питания (Росстат):**\n",
        "\n",
        "https://rosstat.gov.ru/compendium/document/13278\n",
        "\n",
        "\n",
        "**Социально-экономические, демографические, здравоохрание:**\n",
        "\n",
        "https://tochno.st/datasets/regions_collection\n",
        "\n",
        "**Экология:**\n",
        "\n",
        "https://tochno.st/datasets/air_cities"
      ],
      "metadata": {
        "id": "A6ylDcdbAk0J"
      }
    },
    {
      "cell_type": "markdown",
      "source": [
        "**Целевая переменная:**\n",
        "\n",
        "Y - Ожидаемая продолжительность жизни ежегодно по регионам РФ 2011-2021г"
      ],
      "metadata": {
        "id": "I9cZpZ_xA3hv"
      }
    },
    {
      "cell_type": "markdown",
      "source": [
        "**Питание:**\n",
        "\n",
        "x1 - Потребление мяса (на душу населения в год, кг) по регионам РФ 2011-2021г\n",
        "\n",
        "x2 - Потребление молока (на душу населения в год, кг) по регионам РФ 2011-2021г\n",
        "\n",
        "x3 - Потребление яиц (на душу населения в год, кг) по регионам РФ 2011-2021г\n",
        "\n",
        "x4 - Потребление картофеля (на душу населения в год, кг) по регионам РФ 2011-2021г\n",
        "\n",
        "x5 - Потребление овощей (на душу населения в год, кг) по регионам РФ 2011-2021г\n",
        "\n",
        "x6 - Потребление фруктов (на душу населения в год, кг) по регионам РФ 2011-2021г\n",
        "\n",
        "x7 - Потребление хлебных продуктов (на душу населения в год, кг) по регионам РФ 2011-2021г\n",
        "\n",
        "x8 - Потребление масла растительного (на душу населения в год, кг) по регионам\n",
        "РФ 2011-2021г\n",
        "\n",
        "x9 - Потребление сахара (на душу населения в год, кг) по регионам РФ 2011-2021г\n"
      ],
      "metadata": {
        "id": "adHV69afBL7g"
      }
    },
    {
      "cell_type": "markdown",
      "source": [
        "**Социально-экономические:**\n",
        "\n",
        "x10 - Среднедушевые денежные доходы населения в месяц, рублей\n",
        "\n",
        "x11 - Численность населения с денежными доходами ниже границы бедности/величины прожиточного минимума в процентах от общей численности населения субъекта\n",
        "\n",
        "x12 - Выпуск бакалавров, специалистов, магистров (тысяч человек)"
      ],
      "metadata": {
        "id": "g5rxS9n0AsSu"
      }
    },
    {
      "cell_type": "markdown",
      "source": [
        "**Медицинские(здравоохранение):**\n",
        "\n",
        "x13 - Заболеваемость на 1000 человек населения, зарегистрировано заболеваний у пациентов с диагнозом, установленным впервые в жизни\n",
        "\n",
        "x14 - Численность врачей всех специальностей: На 10 000 человек населения (человек)\n",
        "\n",
        "x15 - Численность населения на одну больничную койку, на конец года, человек"
      ],
      "metadata": {
        "id": "104iKiD9BVA5"
      }
    },
    {
      "cell_type": "markdown",
      "source": [
        "**Демографические факторы:**\n",
        "\n",
        "x16 - Численность населения, оценка на конец года, тысяч человек\n",
        "\n",
        "x17 - Соотношение мужчин и женщин, оценка на конец года, на 1000 мужчин приходится женщин\n",
        "\n",
        "x18 - Численность пенсионеров на 1000 человек"
      ],
      "metadata": {
        "id": "cn9jmVGzBkyv"
      }
    },
    {
      "cell_type": "markdown",
      "source": [
        "**Экологические факторы:**\n",
        "\n",
        "x19 - Уровень загрязнения воздуха (низкий, повышенный, высокий, очень высокий)"
      ],
      "metadata": {
        "id": "iB4UDBmbBo4R"
      }
    },
    {
      "cell_type": "markdown",
      "source": [
        "# Предобработка данных"
      ],
      "metadata": {
        "id": "bjujtGrDBs4g"
      }
    },
    {
      "cell_type": "markdown",
      "source": [
        "Библиотеки"
      ],
      "metadata": {
        "id": "TPpzJDK1B3U4"
      }
    },
    {
      "cell_type": "code",
      "source": [
        "import pandas as pd"
      ],
      "metadata": {
        "id": "k9cibDrbBzjW"
      },
      "execution_count": null,
      "outputs": []
    },
    {
      "cell_type": "markdown",
      "source": [
        "Функции"
      ],
      "metadata": {
        "id": "JO5w7sKPB5MQ"
      }
    },
    {
      "cell_type": "code",
      "source": [
        "def clean_reg(name):\n",
        "  return name.replace(' ', '').replace('г.', '').replace('–', '').replace('-', '').lower()\n",
        "\n",
        "def del_reg(df):\n",
        "  return df.loc[\n",
        "    (df['region'] != 'Российская Федерация') & # не регион\n",
        "    (~df['region'].str.contains('округ', case=False)) & # не регион\n",
        "    (~df['region'].str.contains('Крым', case=False)) & # данные с 2014 года\n",
        "    (~df['region'].str.contains('Севастополь', case=False))& # данные с 2014 года\n",
        "    (~df['region'].str.contains('Чеченская и Ингушская', case=False)) & # неполнные данные\n",
        "    (~df['region'].str.contains('Костромская', case=False)) & # неполнные данные\n",
        "    (~df['region'].str.contains('Томская', case=False)) # неполнные данные\n",
        "    ].drop_duplicates(subset=['region'], keep='first').reset_index(drop=True)"
      ],
      "metadata": {
        "id": "jpjAuc5xB2G0"
      },
      "execution_count": null,
      "outputs": []
    },
    {
      "cell_type": "markdown",
      "source": [
        "Загружаем и фильтруем Y - ожидаемую продолжительность жизни"
      ],
      "metadata": {
        "id": "UE2DsEONB-Q4"
      }
    },
    {
      "cell_type": "code",
      "source": [
        "df_y = pd.read_excel('data.xls', header = 2)\n",
        "df_y.columns = ['region', 'gender', 'category', 'type'] + list(df_y.columns[4:])\n",
        "\n",
        "df_y = df_y[(df_y['gender'] == 'Оба пола') & (df_y['category'] == 'все население')] # Фильтрация\n",
        "df_y = df_y[['region'] + [str(year) for year in range(2011, 2022)]] # Оставляем только нужные нам даты и названия регионов\n",
        "df_y = df_y = df_y.reset_index(drop=True) # Сброс индексов"
      ],
      "metadata": {
        "id": "ebZS30AgCCHL"
      },
      "execution_count": null,
      "outputs": []
    },
    {
      "cell_type": "markdown",
      "source": [
        "Загружаем Иксы: потребление продуктов питания"
      ],
      "metadata": {
        "id": "YaquFO0iCMx0"
      }
    },
    {
      "cell_type": "code",
      "source": [
        "xls = pd.ExcelFile('Potreb_Svod_2011-2021.xlsx')\n",
        "\n",
        "dfs_x = {}\n",
        "for sheet_name in xls.sheet_names[1:]:  # Начинаем с индекса 1, чтобы пропустить первый лист \"содержание\"\n",
        "    df = pd.read_excel(xls, sheet_name=sheet_name, header=4)  # Читаем данные с заголовком на 4-й строке\n",
        "    df.columns = ['region'] + list(df.columns[1:])\n",
        "    dfs_x[sheet_name] = df  # Сохраняем DataFrame в словаре по имени листа"
      ],
      "metadata": {
        "id": "EtBYTwvRCPG0"
      },
      "execution_count": null,
      "outputs": []
    },
    {
      "cell_type": "markdown",
      "source": [
        "Чистим названия регионов у Y (они не совпдают с названиями регионов у Иксов)"
      ],
      "metadata": {
        "id": "YQIbfeRsCR-C"
      }
    },
    {
      "cell_type": "code",
      "source": [
        "for region in dfs_x['мясо'].region.unique():\n",
        "  for i in range(len(df_y)):\n",
        "    if clean_reg(region) in clean_reg(df_y.loc[i, 'region']):\n",
        "      df_y.at[i, 'region'] = region"
      ],
      "metadata": {
        "id": "dwc_V9PyCSpm"
      },
      "execution_count": null,
      "outputs": []
    },
    {
      "cell_type": "markdown",
      "source": [
        "Объединяем датасеты в один"
      ],
      "metadata": {
        "id": "-dqkJY1GCWy7"
      }
    },
    {
      "cell_type": "code",
      "source": [
        "df = del_reg(df_y)\n",
        "df = pd.melt(df, id_vars=['region'], var_name='year', value_name='y')\n",
        "df['year'] = df['year'].astype(int)\n",
        "\n",
        "k = 0\n",
        "x_names = ''\n",
        "for name, df_x in dfs_x.items():\n",
        "    k += 1\n",
        "    line = f\"Фактор: {name}, название: x{k}\"\n",
        "    x_names += line + '\\n'\n",
        "    print(line)\n",
        "    df_x = del_reg(df_x[:91])\n",
        "    df_x = pd.melt(df_x, id_vars=['region'], var_name='year', value_name='x'+str(k))\n",
        "    df = pd.merge(df, df_x, on=['region', 'year'], how='outer')"
      ],
      "metadata": {
        "colab": {
          "base_uri": "https://localhost:8080/"
        },
        "id": "DySTw8nOCWVk",
        "outputId": "08bcf644-8f6b-4c8d-ecd4-c01f3754f5c3"
      },
      "execution_count": null,
      "outputs": [
        {
          "output_type": "stream",
          "name": "stdout",
          "text": [
            "Фактор: мясо, название: x1\n",
            "Фактор: молоко, название: x2\n",
            "Фактор: яйца, название: x3\n",
            "Фактор: картофель, название: x4\n",
            "Фактор: овощи, название: x5\n",
            "Фактор: фрукты, название: x6\n",
            "Фактор: хлебные, название: x7\n",
            "Фактор: масло раст, название: x8\n",
            "Фактор: сахар, название: x9\n"
          ]
        }
      ]
    },
    {
      "cell_type": "markdown",
      "source": [
        "Меняем тип у year и и Y"
      ],
      "metadata": {
        "id": "KdxBIwvACujh"
      }
    },
    {
      "cell_type": "code",
      "source": [
        "df['year'], df['y'] = df['year'].astype(int), df['y'].astype(float) # стобцы year и y сделаем int и float соответственно"
      ],
      "metadata": {
        "id": "ySjdli1UCziK"
      },
      "execution_count": null,
      "outputs": []
    },
    {
      "cell_type": "markdown",
      "source": [
        "Промежуточная таблица"
      ],
      "metadata": {
        "id": "LXRLZKbjCc3-"
      }
    },
    {
      "cell_type": "code",
      "source": [
        "df"
      ],
      "metadata": {
        "colab": {
          "base_uri": "https://localhost:8080/"
        },
        "id": "Vqia8AH7CtDQ",
        "outputId": "2af64deb-9104-4203-fe3f-644fe46066c9"
      },
      "execution_count": null,
      "outputs": [
        {
          "output_type": "execute_result",
          "data": {
            "text/plain": [
              "                 region  year      y  x1   x2   x3     x4    x5    x6   x7  \\\n",
              "0        Алтайский край  2011  68.94  65  323  307  117.0  90.0  50.0  169   \n",
              "1        Алтайский край  2012  69.01  69  320  309  116.0  87.0  51.0  168   \n",
              "2        Алтайский край  2013  69.60  69  318  310  112.0  85.0  55.0  168   \n",
              "3        Алтайский край  2014  69.77  67  304  312  106.0  82.0  55.0  168   \n",
              "4        Алтайский край  2015  70.13  62  284  318   98.0  81.0  54.0  163   \n",
              "..                  ...   ...    ...  ..  ...  ...    ...   ...   ...  ...   \n",
              "842  г. Санкт-Петербург  2017  75.48  71  297  317   67.0  82.0  59.0   85   \n",
              "843  г. Санкт-Петербург  2018  75.97  71  289  319   63.0  82.0  58.0   82   \n",
              "844  г. Санкт-Петербург  2019  76.38  70  288  322   62.0  83.0  60.0   83   \n",
              "845  г. Санкт-Петербург  2020  74.23  71  300  335   60.0  83.0  58.0   83   \n",
              "846  г. Санкт-Петербург  2021  72.89  74  298  331   58.0  80.0  60.0   83   \n",
              "\n",
              "       x8    x9  \n",
              "0    12.8  40.0  \n",
              "1    13.6  38.0  \n",
              "2    13.9  39.0  \n",
              "3    14.5  39.0  \n",
              "4    14.3  38.0  \n",
              "..    ...   ...  \n",
              "842  11.0  36.0  \n",
              "843  10.8  36.0  \n",
              "844  10.8  36.0  \n",
              "845  10.8  36.0  \n",
              "846  10.9  36.0  \n",
              "\n",
              "[847 rows x 12 columns]"
            ],
            "text/html": [
              "\n",
              "  <div id=\"df-09477dbd-60b0-4de9-b22f-093a05ebf96a\" class=\"colab-df-container\">\n",
              "    <div>\n",
              "<style scoped>\n",
              "    .dataframe tbody tr th:only-of-type {\n",
              "        vertical-align: middle;\n",
              "    }\n",
              "\n",
              "    .dataframe tbody tr th {\n",
              "        vertical-align: top;\n",
              "    }\n",
              "\n",
              "    .dataframe thead th {\n",
              "        text-align: right;\n",
              "    }\n",
              "</style>\n",
              "<table border=\"1\" class=\"dataframe\">\n",
              "  <thead>\n",
              "    <tr style=\"text-align: right;\">\n",
              "      <th></th>\n",
              "      <th>region</th>\n",
              "      <th>year</th>\n",
              "      <th>y</th>\n",
              "      <th>x1</th>\n",
              "      <th>x2</th>\n",
              "      <th>x3</th>\n",
              "      <th>x4</th>\n",
              "      <th>x5</th>\n",
              "      <th>x6</th>\n",
              "      <th>x7</th>\n",
              "      <th>x8</th>\n",
              "      <th>x9</th>\n",
              "    </tr>\n",
              "  </thead>\n",
              "  <tbody>\n",
              "    <tr>\n",
              "      <th>0</th>\n",
              "      <td>Алтайский край</td>\n",
              "      <td>2011</td>\n",
              "      <td>68.94</td>\n",
              "      <td>65</td>\n",
              "      <td>323</td>\n",
              "      <td>307</td>\n",
              "      <td>117.0</td>\n",
              "      <td>90.0</td>\n",
              "      <td>50.0</td>\n",
              "      <td>169</td>\n",
              "      <td>12.8</td>\n",
              "      <td>40.0</td>\n",
              "    </tr>\n",
              "    <tr>\n",
              "      <th>1</th>\n",
              "      <td>Алтайский край</td>\n",
              "      <td>2012</td>\n",
              "      <td>69.01</td>\n",
              "      <td>69</td>\n",
              "      <td>320</td>\n",
              "      <td>309</td>\n",
              "      <td>116.0</td>\n",
              "      <td>87.0</td>\n",
              "      <td>51.0</td>\n",
              "      <td>168</td>\n",
              "      <td>13.6</td>\n",
              "      <td>38.0</td>\n",
              "    </tr>\n",
              "    <tr>\n",
              "      <th>2</th>\n",
              "      <td>Алтайский край</td>\n",
              "      <td>2013</td>\n",
              "      <td>69.60</td>\n",
              "      <td>69</td>\n",
              "      <td>318</td>\n",
              "      <td>310</td>\n",
              "      <td>112.0</td>\n",
              "      <td>85.0</td>\n",
              "      <td>55.0</td>\n",
              "      <td>168</td>\n",
              "      <td>13.9</td>\n",
              "      <td>39.0</td>\n",
              "    </tr>\n",
              "    <tr>\n",
              "      <th>3</th>\n",
              "      <td>Алтайский край</td>\n",
              "      <td>2014</td>\n",
              "      <td>69.77</td>\n",
              "      <td>67</td>\n",
              "      <td>304</td>\n",
              "      <td>312</td>\n",
              "      <td>106.0</td>\n",
              "      <td>82.0</td>\n",
              "      <td>55.0</td>\n",
              "      <td>168</td>\n",
              "      <td>14.5</td>\n",
              "      <td>39.0</td>\n",
              "    </tr>\n",
              "    <tr>\n",
              "      <th>4</th>\n",
              "      <td>Алтайский край</td>\n",
              "      <td>2015</td>\n",
              "      <td>70.13</td>\n",
              "      <td>62</td>\n",
              "      <td>284</td>\n",
              "      <td>318</td>\n",
              "      <td>98.0</td>\n",
              "      <td>81.0</td>\n",
              "      <td>54.0</td>\n",
              "      <td>163</td>\n",
              "      <td>14.3</td>\n",
              "      <td>38.0</td>\n",
              "    </tr>\n",
              "    <tr>\n",
              "      <th>...</th>\n",
              "      <td>...</td>\n",
              "      <td>...</td>\n",
              "      <td>...</td>\n",
              "      <td>...</td>\n",
              "      <td>...</td>\n",
              "      <td>...</td>\n",
              "      <td>...</td>\n",
              "      <td>...</td>\n",
              "      <td>...</td>\n",
              "      <td>...</td>\n",
              "      <td>...</td>\n",
              "      <td>...</td>\n",
              "    </tr>\n",
              "    <tr>\n",
              "      <th>842</th>\n",
              "      <td>г. Санкт-Петербург</td>\n",
              "      <td>2017</td>\n",
              "      <td>75.48</td>\n",
              "      <td>71</td>\n",
              "      <td>297</td>\n",
              "      <td>317</td>\n",
              "      <td>67.0</td>\n",
              "      <td>82.0</td>\n",
              "      <td>59.0</td>\n",
              "      <td>85</td>\n",
              "      <td>11.0</td>\n",
              "      <td>36.0</td>\n",
              "    </tr>\n",
              "    <tr>\n",
              "      <th>843</th>\n",
              "      <td>г. Санкт-Петербург</td>\n",
              "      <td>2018</td>\n",
              "      <td>75.97</td>\n",
              "      <td>71</td>\n",
              "      <td>289</td>\n",
              "      <td>319</td>\n",
              "      <td>63.0</td>\n",
              "      <td>82.0</td>\n",
              "      <td>58.0</td>\n",
              "      <td>82</td>\n",
              "      <td>10.8</td>\n",
              "      <td>36.0</td>\n",
              "    </tr>\n",
              "    <tr>\n",
              "      <th>844</th>\n",
              "      <td>г. Санкт-Петербург</td>\n",
              "      <td>2019</td>\n",
              "      <td>76.38</td>\n",
              "      <td>70</td>\n",
              "      <td>288</td>\n",
              "      <td>322</td>\n",
              "      <td>62.0</td>\n",
              "      <td>83.0</td>\n",
              "      <td>60.0</td>\n",
              "      <td>83</td>\n",
              "      <td>10.8</td>\n",
              "      <td>36.0</td>\n",
              "    </tr>\n",
              "    <tr>\n",
              "      <th>845</th>\n",
              "      <td>г. Санкт-Петербург</td>\n",
              "      <td>2020</td>\n",
              "      <td>74.23</td>\n",
              "      <td>71</td>\n",
              "      <td>300</td>\n",
              "      <td>335</td>\n",
              "      <td>60.0</td>\n",
              "      <td>83.0</td>\n",
              "      <td>58.0</td>\n",
              "      <td>83</td>\n",
              "      <td>10.8</td>\n",
              "      <td>36.0</td>\n",
              "    </tr>\n",
              "    <tr>\n",
              "      <th>846</th>\n",
              "      <td>г. Санкт-Петербург</td>\n",
              "      <td>2021</td>\n",
              "      <td>72.89</td>\n",
              "      <td>74</td>\n",
              "      <td>298</td>\n",
              "      <td>331</td>\n",
              "      <td>58.0</td>\n",
              "      <td>80.0</td>\n",
              "      <td>60.0</td>\n",
              "      <td>83</td>\n",
              "      <td>10.9</td>\n",
              "      <td>36.0</td>\n",
              "    </tr>\n",
              "  </tbody>\n",
              "</table>\n",
              "<p>847 rows × 12 columns</p>\n",
              "</div>\n",
              "    <div class=\"colab-df-buttons\">\n",
              "\n",
              "  <div class=\"colab-df-container\">\n",
              "    <button class=\"colab-df-convert\" onclick=\"convertToInteractive('df-09477dbd-60b0-4de9-b22f-093a05ebf96a')\"\n",
              "            title=\"Convert this dataframe to an interactive table.\"\n",
              "            style=\"display:none;\">\n",
              "\n",
              "  <svg xmlns=\"http://www.w3.org/2000/svg\" height=\"24px\" viewBox=\"0 -960 960 960\">\n",
              "    <path d=\"M120-120v-720h720v720H120Zm60-500h600v-160H180v160Zm220 220h160v-160H400v160Zm0 220h160v-160H400v160ZM180-400h160v-160H180v160Zm440 0h160v-160H620v160ZM180-180h160v-160H180v160Zm440 0h160v-160H620v160Z\"/>\n",
              "  </svg>\n",
              "    </button>\n",
              "\n",
              "  <style>\n",
              "    .colab-df-container {\n",
              "      display:flex;\n",
              "      gap: 12px;\n",
              "    }\n",
              "\n",
              "    .colab-df-convert {\n",
              "      background-color: #E8F0FE;\n",
              "      border: none;\n",
              "      border-radius: 50%;\n",
              "      cursor: pointer;\n",
              "      display: none;\n",
              "      fill: #1967D2;\n",
              "      height: 32px;\n",
              "      padding: 0 0 0 0;\n",
              "      width: 32px;\n",
              "    }\n",
              "\n",
              "    .colab-df-convert:hover {\n",
              "      background-color: #E2EBFA;\n",
              "      box-shadow: 0px 1px 2px rgba(60, 64, 67, 0.3), 0px 1px 3px 1px rgba(60, 64, 67, 0.15);\n",
              "      fill: #174EA6;\n",
              "    }\n",
              "\n",
              "    .colab-df-buttons div {\n",
              "      margin-bottom: 4px;\n",
              "    }\n",
              "\n",
              "    [theme=dark] .colab-df-convert {\n",
              "      background-color: #3B4455;\n",
              "      fill: #D2E3FC;\n",
              "    }\n",
              "\n",
              "    [theme=dark] .colab-df-convert:hover {\n",
              "      background-color: #434B5C;\n",
              "      box-shadow: 0px 1px 3px 1px rgba(0, 0, 0, 0.15);\n",
              "      filter: drop-shadow(0px 1px 2px rgba(0, 0, 0, 0.3));\n",
              "      fill: #FFFFFF;\n",
              "    }\n",
              "  </style>\n",
              "\n",
              "    <script>\n",
              "      const buttonEl =\n",
              "        document.querySelector('#df-09477dbd-60b0-4de9-b22f-093a05ebf96a button.colab-df-convert');\n",
              "      buttonEl.style.display =\n",
              "        google.colab.kernel.accessAllowed ? 'block' : 'none';\n",
              "\n",
              "      async function convertToInteractive(key) {\n",
              "        const element = document.querySelector('#df-09477dbd-60b0-4de9-b22f-093a05ebf96a');\n",
              "        const dataTable =\n",
              "          await google.colab.kernel.invokeFunction('convertToInteractive',\n",
              "                                                    [key], {});\n",
              "        if (!dataTable) return;\n",
              "\n",
              "        const docLinkHtml = 'Like what you see? Visit the ' +\n",
              "          '<a target=\"_blank\" href=https://colab.research.google.com/notebooks/data_table.ipynb>data table notebook</a>'\n",
              "          + ' to learn more about interactive tables.';\n",
              "        element.innerHTML = '';\n",
              "        dataTable['output_type'] = 'display_data';\n",
              "        await google.colab.output.renderOutput(dataTable, element);\n",
              "        const docLink = document.createElement('div');\n",
              "        docLink.innerHTML = docLinkHtml;\n",
              "        element.appendChild(docLink);\n",
              "      }\n",
              "    </script>\n",
              "  </div>\n",
              "\n",
              "\n",
              "<div id=\"df-b25fcf22-83a3-44af-b2e4-e9210932465c\">\n",
              "  <button class=\"colab-df-quickchart\" onclick=\"quickchart('df-b25fcf22-83a3-44af-b2e4-e9210932465c')\"\n",
              "            title=\"Suggest charts\"\n",
              "            style=\"display:none;\">\n",
              "\n",
              "<svg xmlns=\"http://www.w3.org/2000/svg\" height=\"24px\"viewBox=\"0 0 24 24\"\n",
              "     width=\"24px\">\n",
              "    <g>\n",
              "        <path d=\"M19 3H5c-1.1 0-2 .9-2 2v14c0 1.1.9 2 2 2h14c1.1 0 2-.9 2-2V5c0-1.1-.9-2-2-2zM9 17H7v-7h2v7zm4 0h-2V7h2v10zm4 0h-2v-4h2v4z\"/>\n",
              "    </g>\n",
              "</svg>\n",
              "  </button>\n",
              "\n",
              "<style>\n",
              "  .colab-df-quickchart {\n",
              "      --bg-color: #E8F0FE;\n",
              "      --fill-color: #1967D2;\n",
              "      --hover-bg-color: #E2EBFA;\n",
              "      --hover-fill-color: #174EA6;\n",
              "      --disabled-fill-color: #AAA;\n",
              "      --disabled-bg-color: #DDD;\n",
              "  }\n",
              "\n",
              "  [theme=dark] .colab-df-quickchart {\n",
              "      --bg-color: #3B4455;\n",
              "      --fill-color: #D2E3FC;\n",
              "      --hover-bg-color: #434B5C;\n",
              "      --hover-fill-color: #FFFFFF;\n",
              "      --disabled-bg-color: #3B4455;\n",
              "      --disabled-fill-color: #666;\n",
              "  }\n",
              "\n",
              "  .colab-df-quickchart {\n",
              "    background-color: var(--bg-color);\n",
              "    border: none;\n",
              "    border-radius: 50%;\n",
              "    cursor: pointer;\n",
              "    display: none;\n",
              "    fill: var(--fill-color);\n",
              "    height: 32px;\n",
              "    padding: 0;\n",
              "    width: 32px;\n",
              "  }\n",
              "\n",
              "  .colab-df-quickchart:hover {\n",
              "    background-color: var(--hover-bg-color);\n",
              "    box-shadow: 0 1px 2px rgba(60, 64, 67, 0.3), 0 1px 3px 1px rgba(60, 64, 67, 0.15);\n",
              "    fill: var(--button-hover-fill-color);\n",
              "  }\n",
              "\n",
              "  .colab-df-quickchart-complete:disabled,\n",
              "  .colab-df-quickchart-complete:disabled:hover {\n",
              "    background-color: var(--disabled-bg-color);\n",
              "    fill: var(--disabled-fill-color);\n",
              "    box-shadow: none;\n",
              "  }\n",
              "\n",
              "  .colab-df-spinner {\n",
              "    border: 2px solid var(--fill-color);\n",
              "    border-color: transparent;\n",
              "    border-bottom-color: var(--fill-color);\n",
              "    animation:\n",
              "      spin 1s steps(1) infinite;\n",
              "  }\n",
              "\n",
              "  @keyframes spin {\n",
              "    0% {\n",
              "      border-color: transparent;\n",
              "      border-bottom-color: var(--fill-color);\n",
              "      border-left-color: var(--fill-color);\n",
              "    }\n",
              "    20% {\n",
              "      border-color: transparent;\n",
              "      border-left-color: var(--fill-color);\n",
              "      border-top-color: var(--fill-color);\n",
              "    }\n",
              "    30% {\n",
              "      border-color: transparent;\n",
              "      border-left-color: var(--fill-color);\n",
              "      border-top-color: var(--fill-color);\n",
              "      border-right-color: var(--fill-color);\n",
              "    }\n",
              "    40% {\n",
              "      border-color: transparent;\n",
              "      border-right-color: var(--fill-color);\n",
              "      border-top-color: var(--fill-color);\n",
              "    }\n",
              "    60% {\n",
              "      border-color: transparent;\n",
              "      border-right-color: var(--fill-color);\n",
              "    }\n",
              "    80% {\n",
              "      border-color: transparent;\n",
              "      border-right-color: var(--fill-color);\n",
              "      border-bottom-color: var(--fill-color);\n",
              "    }\n",
              "    90% {\n",
              "      border-color: transparent;\n",
              "      border-bottom-color: var(--fill-color);\n",
              "    }\n",
              "  }\n",
              "</style>\n",
              "\n",
              "  <script>\n",
              "    async function quickchart(key) {\n",
              "      const quickchartButtonEl =\n",
              "        document.querySelector('#' + key + ' button');\n",
              "      quickchartButtonEl.disabled = true;  // To prevent multiple clicks.\n",
              "      quickchartButtonEl.classList.add('colab-df-spinner');\n",
              "      try {\n",
              "        const charts = await google.colab.kernel.invokeFunction(\n",
              "            'suggestCharts', [key], {});\n",
              "      } catch (error) {\n",
              "        console.error('Error during call to suggestCharts:', error);\n",
              "      }\n",
              "      quickchartButtonEl.classList.remove('colab-df-spinner');\n",
              "      quickchartButtonEl.classList.add('colab-df-quickchart-complete');\n",
              "    }\n",
              "    (() => {\n",
              "      let quickchartButtonEl =\n",
              "        document.querySelector('#df-b25fcf22-83a3-44af-b2e4-e9210932465c button');\n",
              "      quickchartButtonEl.style.display =\n",
              "        google.colab.kernel.accessAllowed ? 'block' : 'none';\n",
              "    })();\n",
              "  </script>\n",
              "</div>\n",
              "    </div>\n",
              "  </div>\n"
            ],
            "application/vnd.google.colaboratory.intrinsic+json": {
              "type": "dataframe",
              "variable_name": "df",
              "summary": "{\n  \"name\": \"df\",\n  \"rows\": 847,\n  \"fields\": [\n    {\n      \"column\": \"region\",\n      \"properties\": {\n        \"dtype\": \"category\",\n        \"num_unique_values\": 77,\n        \"samples\": [\n          \"\\u0411\\u0435\\u043b\\u0433\\u043e\\u0440\\u043e\\u0434\\u0441\\u043a\\u0430\\u044f \\u043e\\u0431\\u043b\\u0430\\u0441\\u0442\\u044c\",\n          \"\\u041e\\u0440\\u043b\\u043e\\u0432\\u0441\\u043a\\u0430\\u044f \\u043e\\u0431\\u043b\\u0430\\u0441\\u0442\\u044c\",\n          \"\\u0415\\u0432\\u0440\\u0435\\u0439\\u0441\\u043a\\u0430\\u044f \\u0430\\u0432\\u0442\\u043e\\u043d\\u043e\\u043c\\u043d\\u0430\\u044f \\u043e\\u0431\\u043b\\u0430\\u0441\\u0442\\u044c\"\n        ],\n        \"semantic_type\": \"\",\n        \"description\": \"\"\n      }\n    },\n    {\n      \"column\": \"year\",\n      \"properties\": {\n        \"dtype\": \"number\",\n        \"std\": 3,\n        \"min\": 2011,\n        \"max\": 2021,\n        \"num_unique_values\": 11,\n        \"samples\": [\n          2016,\n          2011,\n          2020\n        ],\n        \"semantic_type\": \"\",\n        \"description\": \"\"\n      }\n    },\n    {\n      \"column\": \"y\",\n      \"properties\": {\n        \"dtype\": \"number\",\n        \"std\": 2.5564602709453927,\n        \"min\": 61.1,\n        \"max\": 79.64,\n        \"num_unique_values\": 547,\n        \"samples\": [\n          69.56,\n          70.99,\n          75.79\n        ],\n        \"semantic_type\": \"\",\n        \"description\": \"\"\n      }\n    },\n    {\n      \"column\": \"x1\",\n      \"properties\": {\n        \"dtype\": \"number\",\n        \"std\": 12,\n        \"min\": 36,\n        \"max\": 120,\n        \"num_unique_values\": 71,\n        \"samples\": [\n          97,\n          65,\n          110\n        ],\n        \"semantic_type\": \"\",\n        \"description\": \"\"\n      }\n    },\n    {\n      \"column\": \"x2\",\n      \"properties\": {\n        \"dtype\": \"number\",\n        \"std\": 43,\n        \"min\": 105,\n        \"max\": 366,\n        \"num_unique_values\": 187,\n        \"samples\": [\n          306,\n          180,\n          236\n        ],\n        \"semantic_type\": \"\",\n        \"description\": \"\"\n      }\n    },\n    {\n      \"column\": \"x3\",\n      \"properties\": {\n        \"dtype\": \"number\",\n        \"std\": 48,\n        \"min\": 89,\n        \"max\": 400,\n        \"num_unique_values\": 199,\n        \"samples\": [\n          172,\n          335,\n          226\n        ],\n        \"semantic_type\": \"\",\n        \"description\": \"\"\n      }\n    },\n    {\n      \"column\": \"x4\",\n      \"properties\": {\n        \"dtype\": \"number\",\n        \"std\": 25.111664509565163,\n        \"min\": 36.0,\n        \"max\": 176.0,\n        \"num_unique_values\": 125,\n        \"samples\": [\n          69.0,\n          85.0,\n          153.0\n        ],\n        \"semantic_type\": \"\",\n        \"description\": \"\"\n      }\n    },\n    {\n      \"column\": \"x5\",\n      \"properties\": {\n        \"dtype\": \"number\",\n        \"std\": 28.07518230204802,\n        \"min\": 38.0,\n        \"max\": 245.0,\n        \"num_unique_values\": 119,\n        \"samples\": [\n          77.0,\n          59.0,\n          81.0\n        ],\n        \"semantic_type\": \"\",\n        \"description\": \"\"\n      }\n    },\n    {\n      \"column\": \"x6\",\n      \"properties\": {\n        \"dtype\": \"number\",\n        \"std\": 14.12666057145243,\n        \"min\": 20.0,\n        \"max\": 117.0,\n        \"num_unique_values\": 70,\n        \"samples\": [\n          49.0,\n          50.0,\n          81.0\n        ],\n        \"semantic_type\": \"\",\n        \"description\": \"\"\n      }\n    },\n    {\n      \"column\": \"x7\",\n      \"properties\": {\n        \"dtype\": \"number\",\n        \"std\": 17,\n        \"min\": 30,\n        \"max\": 405,\n        \"num_unique_values\": 75,\n        \"samples\": [\n          161,\n          141,\n          128\n        ],\n        \"semantic_type\": \"\",\n        \"description\": \"\"\n      }\n    },\n    {\n      \"column\": \"x8\",\n      \"properties\": {\n        \"dtype\": \"number\",\n        \"std\": 2.4046329497520653,\n        \"min\": 7.9,\n        \"max\": 23.2,\n        \"num_unique_values\": 117,\n        \"samples\": [\n          15.5,\n          14.3,\n          13.3\n        ],\n        \"semantic_type\": \"\",\n        \"description\": \"\"\n      }\n    },\n    {\n      \"column\": \"x9\",\n      \"properties\": {\n        \"dtype\": \"number\",\n        \"std\": 7.07838039842339,\n        \"min\": 11.0,\n        \"max\": 116.0,\n        \"num_unique_values\": 37,\n        \"samples\": [\n          32.0,\n          48.0,\n          36.0\n        ],\n        \"semantic_type\": \"\",\n        \"description\": \"\"\n      }\n    }\n  ]\n}"
            }
          },
          "metadata": {},
          "execution_count": 8
        }
      ]
    },
    {
      "cell_type": "markdown",
      "source": [
        "Выгружаем таблицу, чтобы в программе Excel добавить остальные факторы из-за сильных различий в названии регионов у разных источников, пришлось дальше добавить факторы вручную"
      ],
      "metadata": {
        "id": "1oPkWL-EiZ8J"
      }
    },
    {
      "cell_type": "code",
      "source": [
        "#df.to_excel('test.xlsx')"
      ],
      "metadata": {
        "id": "SlrrQ7XYC335"
      },
      "execution_count": null,
      "outputs": []
    },
    {
      "cell_type": "code",
      "source": [
        "df = pd.read_excel('all_data_merged.xlsx')"
      ],
      "metadata": {
        "id": "nVZLEmisiksx"
      },
      "execution_count": null,
      "outputs": []
    },
    {
      "cell_type": "code",
      "source": [
        "df.head()"
      ],
      "metadata": {
        "colab": {
          "base_uri": "https://localhost:8080/"
        },
        "id": "LCMzybHQmCKx",
        "outputId": "4a84b182-6058-4edf-c3f4-fdf4c19b1273"
      },
      "execution_count": null,
      "outputs": [
        {
          "output_type": "execute_result",
          "data": {
            "text/plain": [
              "           region  year      y  x1   x2   x3   x4  x5  x6   x7  ...    x10  \\\n",
              "0  Алтайский край  2011  68.94  65  323  307  117  90  50  169  ...  12500   \n",
              "1  Алтайский край  2012  69.01  69  320  309  116  87  51  168  ...  13617   \n",
              "2  Алтайский край  2013  69.60  69  318  310  112  85  55  168  ...  15896   \n",
              "3  Алтайский край  2014  69.77  67  304  312  106  82  55  168  ...  18291   \n",
              "4  Алтайский край  2015  70.13  62  284  318   98  81  54  163  ...  20860   \n",
              "\n",
              "    x11   x12     x13   x14    x15     x16   x17    x18       x19  \n",
              "0  22.6  16.8  1054.7  50.7   92.1  2396.8  1159  292.7  3.333333  \n",
              "1  20.6  16.5  1094.6  46.4   94.4  2378.0  1159  296.8  3.000000  \n",
              "2  17.6  14.3  1102.2  46.3   95.3  2359.5  1160  300.7  2.333333  \n",
              "3  17.1  14.8  1099.0  45.7   97.5  2343.4  1162  305.4  2.000000  \n",
              "4  18.0  15.1  1118.4  43.9  100.2  2325.0  1162  309.2  1.333333  \n",
              "\n",
              "[5 rows x 22 columns]"
            ],
            "text/html": [
              "\n",
              "  <div id=\"df-05460512-7561-4cf1-99a4-568502ff7510\" class=\"colab-df-container\">\n",
              "    <div>\n",
              "<style scoped>\n",
              "    .dataframe tbody tr th:only-of-type {\n",
              "        vertical-align: middle;\n",
              "    }\n",
              "\n",
              "    .dataframe tbody tr th {\n",
              "        vertical-align: top;\n",
              "    }\n",
              "\n",
              "    .dataframe thead th {\n",
              "        text-align: right;\n",
              "    }\n",
              "</style>\n",
              "<table border=\"1\" class=\"dataframe\">\n",
              "  <thead>\n",
              "    <tr style=\"text-align: right;\">\n",
              "      <th></th>\n",
              "      <th>region</th>\n",
              "      <th>year</th>\n",
              "      <th>y</th>\n",
              "      <th>x1</th>\n",
              "      <th>x2</th>\n",
              "      <th>x3</th>\n",
              "      <th>x4</th>\n",
              "      <th>x5</th>\n",
              "      <th>x6</th>\n",
              "      <th>x7</th>\n",
              "      <th>...</th>\n",
              "      <th>x10</th>\n",
              "      <th>x11</th>\n",
              "      <th>x12</th>\n",
              "      <th>x13</th>\n",
              "      <th>x14</th>\n",
              "      <th>x15</th>\n",
              "      <th>x16</th>\n",
              "      <th>x17</th>\n",
              "      <th>x18</th>\n",
              "      <th>x19</th>\n",
              "    </tr>\n",
              "  </thead>\n",
              "  <tbody>\n",
              "    <tr>\n",
              "      <th>0</th>\n",
              "      <td>Алтайский край</td>\n",
              "      <td>2011</td>\n",
              "      <td>68.94</td>\n",
              "      <td>65</td>\n",
              "      <td>323</td>\n",
              "      <td>307</td>\n",
              "      <td>117</td>\n",
              "      <td>90</td>\n",
              "      <td>50</td>\n",
              "      <td>169</td>\n",
              "      <td>...</td>\n",
              "      <td>12500</td>\n",
              "      <td>22.6</td>\n",
              "      <td>16.8</td>\n",
              "      <td>1054.7</td>\n",
              "      <td>50.7</td>\n",
              "      <td>92.1</td>\n",
              "      <td>2396.8</td>\n",
              "      <td>1159</td>\n",
              "      <td>292.7</td>\n",
              "      <td>3.333333</td>\n",
              "    </tr>\n",
              "    <tr>\n",
              "      <th>1</th>\n",
              "      <td>Алтайский край</td>\n",
              "      <td>2012</td>\n",
              "      <td>69.01</td>\n",
              "      <td>69</td>\n",
              "      <td>320</td>\n",
              "      <td>309</td>\n",
              "      <td>116</td>\n",
              "      <td>87</td>\n",
              "      <td>51</td>\n",
              "      <td>168</td>\n",
              "      <td>...</td>\n",
              "      <td>13617</td>\n",
              "      <td>20.6</td>\n",
              "      <td>16.5</td>\n",
              "      <td>1094.6</td>\n",
              "      <td>46.4</td>\n",
              "      <td>94.4</td>\n",
              "      <td>2378.0</td>\n",
              "      <td>1159</td>\n",
              "      <td>296.8</td>\n",
              "      <td>3.000000</td>\n",
              "    </tr>\n",
              "    <tr>\n",
              "      <th>2</th>\n",
              "      <td>Алтайский край</td>\n",
              "      <td>2013</td>\n",
              "      <td>69.60</td>\n",
              "      <td>69</td>\n",
              "      <td>318</td>\n",
              "      <td>310</td>\n",
              "      <td>112</td>\n",
              "      <td>85</td>\n",
              "      <td>55</td>\n",
              "      <td>168</td>\n",
              "      <td>...</td>\n",
              "      <td>15896</td>\n",
              "      <td>17.6</td>\n",
              "      <td>14.3</td>\n",
              "      <td>1102.2</td>\n",
              "      <td>46.3</td>\n",
              "      <td>95.3</td>\n",
              "      <td>2359.5</td>\n",
              "      <td>1160</td>\n",
              "      <td>300.7</td>\n",
              "      <td>2.333333</td>\n",
              "    </tr>\n",
              "    <tr>\n",
              "      <th>3</th>\n",
              "      <td>Алтайский край</td>\n",
              "      <td>2014</td>\n",
              "      <td>69.77</td>\n",
              "      <td>67</td>\n",
              "      <td>304</td>\n",
              "      <td>312</td>\n",
              "      <td>106</td>\n",
              "      <td>82</td>\n",
              "      <td>55</td>\n",
              "      <td>168</td>\n",
              "      <td>...</td>\n",
              "      <td>18291</td>\n",
              "      <td>17.1</td>\n",
              "      <td>14.8</td>\n",
              "      <td>1099.0</td>\n",
              "      <td>45.7</td>\n",
              "      <td>97.5</td>\n",
              "      <td>2343.4</td>\n",
              "      <td>1162</td>\n",
              "      <td>305.4</td>\n",
              "      <td>2.000000</td>\n",
              "    </tr>\n",
              "    <tr>\n",
              "      <th>4</th>\n",
              "      <td>Алтайский край</td>\n",
              "      <td>2015</td>\n",
              "      <td>70.13</td>\n",
              "      <td>62</td>\n",
              "      <td>284</td>\n",
              "      <td>318</td>\n",
              "      <td>98</td>\n",
              "      <td>81</td>\n",
              "      <td>54</td>\n",
              "      <td>163</td>\n",
              "      <td>...</td>\n",
              "      <td>20860</td>\n",
              "      <td>18.0</td>\n",
              "      <td>15.1</td>\n",
              "      <td>1118.4</td>\n",
              "      <td>43.9</td>\n",
              "      <td>100.2</td>\n",
              "      <td>2325.0</td>\n",
              "      <td>1162</td>\n",
              "      <td>309.2</td>\n",
              "      <td>1.333333</td>\n",
              "    </tr>\n",
              "  </tbody>\n",
              "</table>\n",
              "<p>5 rows × 22 columns</p>\n",
              "</div>\n",
              "    <div class=\"colab-df-buttons\">\n",
              "\n",
              "  <div class=\"colab-df-container\">\n",
              "    <button class=\"colab-df-convert\" onclick=\"convertToInteractive('df-05460512-7561-4cf1-99a4-568502ff7510')\"\n",
              "            title=\"Convert this dataframe to an interactive table.\"\n",
              "            style=\"display:none;\">\n",
              "\n",
              "  <svg xmlns=\"http://www.w3.org/2000/svg\" height=\"24px\" viewBox=\"0 -960 960 960\">\n",
              "    <path d=\"M120-120v-720h720v720H120Zm60-500h600v-160H180v160Zm220 220h160v-160H400v160Zm0 220h160v-160H400v160ZM180-400h160v-160H180v160Zm440 0h160v-160H620v160ZM180-180h160v-160H180v160Zm440 0h160v-160H620v160Z\"/>\n",
              "  </svg>\n",
              "    </button>\n",
              "\n",
              "  <style>\n",
              "    .colab-df-container {\n",
              "      display:flex;\n",
              "      gap: 12px;\n",
              "    }\n",
              "\n",
              "    .colab-df-convert {\n",
              "      background-color: #E8F0FE;\n",
              "      border: none;\n",
              "      border-radius: 50%;\n",
              "      cursor: pointer;\n",
              "      display: none;\n",
              "      fill: #1967D2;\n",
              "      height: 32px;\n",
              "      padding: 0 0 0 0;\n",
              "      width: 32px;\n",
              "    }\n",
              "\n",
              "    .colab-df-convert:hover {\n",
              "      background-color: #E2EBFA;\n",
              "      box-shadow: 0px 1px 2px rgba(60, 64, 67, 0.3), 0px 1px 3px 1px rgba(60, 64, 67, 0.15);\n",
              "      fill: #174EA6;\n",
              "    }\n",
              "\n",
              "    .colab-df-buttons div {\n",
              "      margin-bottom: 4px;\n",
              "    }\n",
              "\n",
              "    [theme=dark] .colab-df-convert {\n",
              "      background-color: #3B4455;\n",
              "      fill: #D2E3FC;\n",
              "    }\n",
              "\n",
              "    [theme=dark] .colab-df-convert:hover {\n",
              "      background-color: #434B5C;\n",
              "      box-shadow: 0px 1px 3px 1px rgba(0, 0, 0, 0.15);\n",
              "      filter: drop-shadow(0px 1px 2px rgba(0, 0, 0, 0.3));\n",
              "      fill: #FFFFFF;\n",
              "    }\n",
              "  </style>\n",
              "\n",
              "    <script>\n",
              "      const buttonEl =\n",
              "        document.querySelector('#df-05460512-7561-4cf1-99a4-568502ff7510 button.colab-df-convert');\n",
              "      buttonEl.style.display =\n",
              "        google.colab.kernel.accessAllowed ? 'block' : 'none';\n",
              "\n",
              "      async function convertToInteractive(key) {\n",
              "        const element = document.querySelector('#df-05460512-7561-4cf1-99a4-568502ff7510');\n",
              "        const dataTable =\n",
              "          await google.colab.kernel.invokeFunction('convertToInteractive',\n",
              "                                                    [key], {});\n",
              "        if (!dataTable) return;\n",
              "\n",
              "        const docLinkHtml = 'Like what you see? Visit the ' +\n",
              "          '<a target=\"_blank\" href=https://colab.research.google.com/notebooks/data_table.ipynb>data table notebook</a>'\n",
              "          + ' to learn more about interactive tables.';\n",
              "        element.innerHTML = '';\n",
              "        dataTable['output_type'] = 'display_data';\n",
              "        await google.colab.output.renderOutput(dataTable, element);\n",
              "        const docLink = document.createElement('div');\n",
              "        docLink.innerHTML = docLinkHtml;\n",
              "        element.appendChild(docLink);\n",
              "      }\n",
              "    </script>\n",
              "  </div>\n",
              "\n",
              "\n",
              "<div id=\"df-405b2234-55a4-439b-a951-b1f45fe2773d\">\n",
              "  <button class=\"colab-df-quickchart\" onclick=\"quickchart('df-405b2234-55a4-439b-a951-b1f45fe2773d')\"\n",
              "            title=\"Suggest charts\"\n",
              "            style=\"display:none;\">\n",
              "\n",
              "<svg xmlns=\"http://www.w3.org/2000/svg\" height=\"24px\"viewBox=\"0 0 24 24\"\n",
              "     width=\"24px\">\n",
              "    <g>\n",
              "        <path d=\"M19 3H5c-1.1 0-2 .9-2 2v14c0 1.1.9 2 2 2h14c1.1 0 2-.9 2-2V5c0-1.1-.9-2-2-2zM9 17H7v-7h2v7zm4 0h-2V7h2v10zm4 0h-2v-4h2v4z\"/>\n",
              "    </g>\n",
              "</svg>\n",
              "  </button>\n",
              "\n",
              "<style>\n",
              "  .colab-df-quickchart {\n",
              "      --bg-color: #E8F0FE;\n",
              "      --fill-color: #1967D2;\n",
              "      --hover-bg-color: #E2EBFA;\n",
              "      --hover-fill-color: #174EA6;\n",
              "      --disabled-fill-color: #AAA;\n",
              "      --disabled-bg-color: #DDD;\n",
              "  }\n",
              "\n",
              "  [theme=dark] .colab-df-quickchart {\n",
              "      --bg-color: #3B4455;\n",
              "      --fill-color: #D2E3FC;\n",
              "      --hover-bg-color: #434B5C;\n",
              "      --hover-fill-color: #FFFFFF;\n",
              "      --disabled-bg-color: #3B4455;\n",
              "      --disabled-fill-color: #666;\n",
              "  }\n",
              "\n",
              "  .colab-df-quickchart {\n",
              "    background-color: var(--bg-color);\n",
              "    border: none;\n",
              "    border-radius: 50%;\n",
              "    cursor: pointer;\n",
              "    display: none;\n",
              "    fill: var(--fill-color);\n",
              "    height: 32px;\n",
              "    padding: 0;\n",
              "    width: 32px;\n",
              "  }\n",
              "\n",
              "  .colab-df-quickchart:hover {\n",
              "    background-color: var(--hover-bg-color);\n",
              "    box-shadow: 0 1px 2px rgba(60, 64, 67, 0.3), 0 1px 3px 1px rgba(60, 64, 67, 0.15);\n",
              "    fill: var(--button-hover-fill-color);\n",
              "  }\n",
              "\n",
              "  .colab-df-quickchart-complete:disabled,\n",
              "  .colab-df-quickchart-complete:disabled:hover {\n",
              "    background-color: var(--disabled-bg-color);\n",
              "    fill: var(--disabled-fill-color);\n",
              "    box-shadow: none;\n",
              "  }\n",
              "\n",
              "  .colab-df-spinner {\n",
              "    border: 2px solid var(--fill-color);\n",
              "    border-color: transparent;\n",
              "    border-bottom-color: var(--fill-color);\n",
              "    animation:\n",
              "      spin 1s steps(1) infinite;\n",
              "  }\n",
              "\n",
              "  @keyframes spin {\n",
              "    0% {\n",
              "      border-color: transparent;\n",
              "      border-bottom-color: var(--fill-color);\n",
              "      border-left-color: var(--fill-color);\n",
              "    }\n",
              "    20% {\n",
              "      border-color: transparent;\n",
              "      border-left-color: var(--fill-color);\n",
              "      border-top-color: var(--fill-color);\n",
              "    }\n",
              "    30% {\n",
              "      border-color: transparent;\n",
              "      border-left-color: var(--fill-color);\n",
              "      border-top-color: var(--fill-color);\n",
              "      border-right-color: var(--fill-color);\n",
              "    }\n",
              "    40% {\n",
              "      border-color: transparent;\n",
              "      border-right-color: var(--fill-color);\n",
              "      border-top-color: var(--fill-color);\n",
              "    }\n",
              "    60% {\n",
              "      border-color: transparent;\n",
              "      border-right-color: var(--fill-color);\n",
              "    }\n",
              "    80% {\n",
              "      border-color: transparent;\n",
              "      border-right-color: var(--fill-color);\n",
              "      border-bottom-color: var(--fill-color);\n",
              "    }\n",
              "    90% {\n",
              "      border-color: transparent;\n",
              "      border-bottom-color: var(--fill-color);\n",
              "    }\n",
              "  }\n",
              "</style>\n",
              "\n",
              "  <script>\n",
              "    async function quickchart(key) {\n",
              "      const quickchartButtonEl =\n",
              "        document.querySelector('#' + key + ' button');\n",
              "      quickchartButtonEl.disabled = true;  // To prevent multiple clicks.\n",
              "      quickchartButtonEl.classList.add('colab-df-spinner');\n",
              "      try {\n",
              "        const charts = await google.colab.kernel.invokeFunction(\n",
              "            'suggestCharts', [key], {});\n",
              "      } catch (error) {\n",
              "        console.error('Error during call to suggestCharts:', error);\n",
              "      }\n",
              "      quickchartButtonEl.classList.remove('colab-df-spinner');\n",
              "      quickchartButtonEl.classList.add('colab-df-quickchart-complete');\n",
              "    }\n",
              "    (() => {\n",
              "      let quickchartButtonEl =\n",
              "        document.querySelector('#df-405b2234-55a4-439b-a951-b1f45fe2773d button');\n",
              "      quickchartButtonEl.style.display =\n",
              "        google.colab.kernel.accessAllowed ? 'block' : 'none';\n",
              "    })();\n",
              "  </script>\n",
              "</div>\n",
              "    </div>\n",
              "  </div>\n"
            ],
            "application/vnd.google.colaboratory.intrinsic+json": {
              "type": "dataframe",
              "variable_name": "df"
            }
          },
          "metadata": {},
          "execution_count": 11
        }
      ]
    },
    {
      "cell_type": "code",
      "source": [
        "df.isnull().sum()"
      ],
      "metadata": {
        "colab": {
          "base_uri": "https://localhost:8080/"
        },
        "id": "Pyd81lLYmHW2",
        "outputId": "c04cb64a-90ac-4eb4-c1ab-d7b58fe2df52"
      },
      "execution_count": null,
      "outputs": [
        {
          "output_type": "execute_result",
          "data": {
            "text/plain": [
              "region    0\n",
              "year      0\n",
              "y         0\n",
              "x1        0\n",
              "x2        0\n",
              "x3        0\n",
              "x4        0\n",
              "x5        0\n",
              "x6        0\n",
              "x7        0\n",
              "x8        0\n",
              "x9        0\n",
              "x10       0\n",
              "x11       0\n",
              "x12       0\n",
              "x13       0\n",
              "x14       0\n",
              "x15       0\n",
              "x16       0\n",
              "x17       0\n",
              "x18       0\n",
              "x19       0\n",
              "dtype: int64"
            ],
            "text/html": [
              "<div>\n",
              "<style scoped>\n",
              "    .dataframe tbody tr th:only-of-type {\n",
              "        vertical-align: middle;\n",
              "    }\n",
              "\n",
              "    .dataframe tbody tr th {\n",
              "        vertical-align: top;\n",
              "    }\n",
              "\n",
              "    .dataframe thead th {\n",
              "        text-align: right;\n",
              "    }\n",
              "</style>\n",
              "<table border=\"1\" class=\"dataframe\">\n",
              "  <thead>\n",
              "    <tr style=\"text-align: right;\">\n",
              "      <th></th>\n",
              "      <th>0</th>\n",
              "    </tr>\n",
              "  </thead>\n",
              "  <tbody>\n",
              "    <tr>\n",
              "      <th>region</th>\n",
              "      <td>0</td>\n",
              "    </tr>\n",
              "    <tr>\n",
              "      <th>year</th>\n",
              "      <td>0</td>\n",
              "    </tr>\n",
              "    <tr>\n",
              "      <th>y</th>\n",
              "      <td>0</td>\n",
              "    </tr>\n",
              "    <tr>\n",
              "      <th>x1</th>\n",
              "      <td>0</td>\n",
              "    </tr>\n",
              "    <tr>\n",
              "      <th>x2</th>\n",
              "      <td>0</td>\n",
              "    </tr>\n",
              "    <tr>\n",
              "      <th>x3</th>\n",
              "      <td>0</td>\n",
              "    </tr>\n",
              "    <tr>\n",
              "      <th>x4</th>\n",
              "      <td>0</td>\n",
              "    </tr>\n",
              "    <tr>\n",
              "      <th>x5</th>\n",
              "      <td>0</td>\n",
              "    </tr>\n",
              "    <tr>\n",
              "      <th>x6</th>\n",
              "      <td>0</td>\n",
              "    </tr>\n",
              "    <tr>\n",
              "      <th>x7</th>\n",
              "      <td>0</td>\n",
              "    </tr>\n",
              "    <tr>\n",
              "      <th>x8</th>\n",
              "      <td>0</td>\n",
              "    </tr>\n",
              "    <tr>\n",
              "      <th>x9</th>\n",
              "      <td>0</td>\n",
              "    </tr>\n",
              "    <tr>\n",
              "      <th>x10</th>\n",
              "      <td>0</td>\n",
              "    </tr>\n",
              "    <tr>\n",
              "      <th>x11</th>\n",
              "      <td>0</td>\n",
              "    </tr>\n",
              "    <tr>\n",
              "      <th>x12</th>\n",
              "      <td>0</td>\n",
              "    </tr>\n",
              "    <tr>\n",
              "      <th>x13</th>\n",
              "      <td>0</td>\n",
              "    </tr>\n",
              "    <tr>\n",
              "      <th>x14</th>\n",
              "      <td>0</td>\n",
              "    </tr>\n",
              "    <tr>\n",
              "      <th>x15</th>\n",
              "      <td>0</td>\n",
              "    </tr>\n",
              "    <tr>\n",
              "      <th>x16</th>\n",
              "      <td>0</td>\n",
              "    </tr>\n",
              "    <tr>\n",
              "      <th>x17</th>\n",
              "      <td>0</td>\n",
              "    </tr>\n",
              "    <tr>\n",
              "      <th>x18</th>\n",
              "      <td>0</td>\n",
              "    </tr>\n",
              "    <tr>\n",
              "      <th>x19</th>\n",
              "      <td>0</td>\n",
              "    </tr>\n",
              "  </tbody>\n",
              "</table>\n",
              "</div><br><label><b>dtype:</b> int64</label>"
            ]
          },
          "metadata": {},
          "execution_count": 12
        }
      ]
    },
    {
      "cell_type": "code",
      "source": [
        "df.dtypes"
      ],
      "metadata": {
        "colab": {
          "base_uri": "https://localhost:8080/"
        },
        "id": "Zjp2EdwvmLCV",
        "outputId": "d4337e30-4c43-47e7-8356-b6593bba0207"
      },
      "execution_count": null,
      "outputs": [
        {
          "output_type": "execute_result",
          "data": {
            "text/plain": [
              "region     object\n",
              "year        int64\n",
              "y         float64\n",
              "x1          int64\n",
              "x2          int64\n",
              "x3          int64\n",
              "x4          int64\n",
              "x5          int64\n",
              "x6          int64\n",
              "x7          int64\n",
              "x8        float64\n",
              "x9          int64\n",
              "x10         int64\n",
              "x11       float64\n",
              "x12       float64\n",
              "x13       float64\n",
              "x14       float64\n",
              "x15       float64\n",
              "x16       float64\n",
              "x17         int64\n",
              "x18       float64\n",
              "x19       float64\n",
              "dtype: object"
            ],
            "text/html": [
              "<div>\n",
              "<style scoped>\n",
              "    .dataframe tbody tr th:only-of-type {\n",
              "        vertical-align: middle;\n",
              "    }\n",
              "\n",
              "    .dataframe tbody tr th {\n",
              "        vertical-align: top;\n",
              "    }\n",
              "\n",
              "    .dataframe thead th {\n",
              "        text-align: right;\n",
              "    }\n",
              "</style>\n",
              "<table border=\"1\" class=\"dataframe\">\n",
              "  <thead>\n",
              "    <tr style=\"text-align: right;\">\n",
              "      <th></th>\n",
              "      <th>0</th>\n",
              "    </tr>\n",
              "  </thead>\n",
              "  <tbody>\n",
              "    <tr>\n",
              "      <th>region</th>\n",
              "      <td>object</td>\n",
              "    </tr>\n",
              "    <tr>\n",
              "      <th>year</th>\n",
              "      <td>int64</td>\n",
              "    </tr>\n",
              "    <tr>\n",
              "      <th>y</th>\n",
              "      <td>float64</td>\n",
              "    </tr>\n",
              "    <tr>\n",
              "      <th>x1</th>\n",
              "      <td>int64</td>\n",
              "    </tr>\n",
              "    <tr>\n",
              "      <th>x2</th>\n",
              "      <td>int64</td>\n",
              "    </tr>\n",
              "    <tr>\n",
              "      <th>x3</th>\n",
              "      <td>int64</td>\n",
              "    </tr>\n",
              "    <tr>\n",
              "      <th>x4</th>\n",
              "      <td>int64</td>\n",
              "    </tr>\n",
              "    <tr>\n",
              "      <th>x5</th>\n",
              "      <td>int64</td>\n",
              "    </tr>\n",
              "    <tr>\n",
              "      <th>x6</th>\n",
              "      <td>int64</td>\n",
              "    </tr>\n",
              "    <tr>\n",
              "      <th>x7</th>\n",
              "      <td>int64</td>\n",
              "    </tr>\n",
              "    <tr>\n",
              "      <th>x8</th>\n",
              "      <td>float64</td>\n",
              "    </tr>\n",
              "    <tr>\n",
              "      <th>x9</th>\n",
              "      <td>int64</td>\n",
              "    </tr>\n",
              "    <tr>\n",
              "      <th>x10</th>\n",
              "      <td>int64</td>\n",
              "    </tr>\n",
              "    <tr>\n",
              "      <th>x11</th>\n",
              "      <td>float64</td>\n",
              "    </tr>\n",
              "    <tr>\n",
              "      <th>x12</th>\n",
              "      <td>float64</td>\n",
              "    </tr>\n",
              "    <tr>\n",
              "      <th>x13</th>\n",
              "      <td>float64</td>\n",
              "    </tr>\n",
              "    <tr>\n",
              "      <th>x14</th>\n",
              "      <td>float64</td>\n",
              "    </tr>\n",
              "    <tr>\n",
              "      <th>x15</th>\n",
              "      <td>float64</td>\n",
              "    </tr>\n",
              "    <tr>\n",
              "      <th>x16</th>\n",
              "      <td>float64</td>\n",
              "    </tr>\n",
              "    <tr>\n",
              "      <th>x17</th>\n",
              "      <td>int64</td>\n",
              "    </tr>\n",
              "    <tr>\n",
              "      <th>x18</th>\n",
              "      <td>float64</td>\n",
              "    </tr>\n",
              "    <tr>\n",
              "      <th>x19</th>\n",
              "      <td>float64</td>\n",
              "    </tr>\n",
              "  </tbody>\n",
              "</table>\n",
              "</div><br><label><b>dtype:</b> object</label>"
            ]
          },
          "metadata": {},
          "execution_count": 13
        }
      ]
    },
    {
      "cell_type": "code",
      "source": [
        "df.describe()"
      ],
      "metadata": {
        "colab": {
          "base_uri": "https://localhost:8080/"
        },
        "id": "E3wBcGAOmQE_",
        "outputId": "834d18f9-641c-4b23-eb6f-83ad7422cacf"
      },
      "execution_count": null,
      "outputs": [
        {
          "output_type": "execute_result",
          "data": {
            "text/plain": [
              "              year           y          x1          x2          x3  \\\n",
              "count   847.000000  847.000000  847.000000  847.000000  847.000000   \n",
              "mean   2016.000000   70.667745   73.694215  232.413223  262.916175   \n",
              "std       3.164146    2.556460   12.231697   43.232936   48.731971   \n",
              "min    2011.000000   61.100000   36.000000  105.000000   89.000000   \n",
              "25%    2013.000000   69.090000   66.000000  200.000000  232.000000   \n",
              "50%    2016.000000   70.450000   73.000000  232.000000  265.000000   \n",
              "75%    2019.000000   72.115000   80.000000  262.500000  299.500000   \n",
              "max    2021.000000   79.640000  120.000000  366.000000  400.000000   \n",
              "\n",
              "               x4          x5          x6          x7          x8  ...  \\\n",
              "count  847.000000  847.000000  847.000000  847.000000  847.000000  ...   \n",
              "mean    95.850059  102.439197   57.596222  118.419126   12.893270  ...   \n",
              "std     25.111665   28.075182   14.126661   17.609576    2.404633  ...   \n",
              "min     36.000000   38.000000   20.000000   30.000000    7.900000  ...   \n",
              "25%     81.000000   86.000000   48.000000  108.000000   11.300000  ...   \n",
              "50%     94.000000   99.000000   57.000000  117.000000   12.400000  ...   \n",
              "75%    111.000000  110.000000   67.000000  127.000000   14.100000  ...   \n",
              "max    176.000000  245.000000  117.000000  405.000000   23.200000  ...   \n",
              "\n",
              "                x10         x11         x12          x13         x14  \\\n",
              "count    847.000000  847.000000  847.000000   847.000000  847.000000   \n",
              "mean   26278.030697   14.490555   14.185950   799.629280   47.360921   \n",
              "std    10052.622854    4.960592   25.433688   152.756106    9.411053   \n",
              "min     8829.000000    5.000000    0.300000   309.200000   26.300000   \n",
              "25%    19750.000000   11.300000    4.000000   690.550000   40.650000   \n",
              "50%    24392.000000   13.800000    7.700000   789.300000   46.700000   \n",
              "75%    29909.000000   16.800000   15.950000   899.300000   53.100000   \n",
              "max    88831.000000   37.800000  262.300000  1407.500000   87.900000   \n",
              "\n",
              "              x15           x16          x17         x18         x19  \n",
              "count  847.000000    847.000000   847.000000  847.000000  847.000000  \n",
              "mean   116.210626   1855.860685  1151.696576  298.553601    1.947512  \n",
              "std     21.466303   1864.151592    47.526166   34.784407    0.908496  \n",
              "min     68.300000    135.900000   995.000000  180.400000    1.000000  \n",
              "25%    102.200000    796.300000  1123.000000  275.850000    1.000000  \n",
              "50%    115.200000   1218.000000  1156.000000  299.400000    1.888889  \n",
              "75%    126.700000   2515.050000  1184.000000  322.700000    3.000000  \n",
              "max    222.000000  13015.100000  1239.000000  384.900000    4.000000  \n",
              "\n",
              "[8 rows x 21 columns]"
            ],
            "text/html": [
              "\n",
              "  <div id=\"df-4fe13405-471d-4335-bc1f-001682c3f35f\" class=\"colab-df-container\">\n",
              "    <div>\n",
              "<style scoped>\n",
              "    .dataframe tbody tr th:only-of-type {\n",
              "        vertical-align: middle;\n",
              "    }\n",
              "\n",
              "    .dataframe tbody tr th {\n",
              "        vertical-align: top;\n",
              "    }\n",
              "\n",
              "    .dataframe thead th {\n",
              "        text-align: right;\n",
              "    }\n",
              "</style>\n",
              "<table border=\"1\" class=\"dataframe\">\n",
              "  <thead>\n",
              "    <tr style=\"text-align: right;\">\n",
              "      <th></th>\n",
              "      <th>year</th>\n",
              "      <th>y</th>\n",
              "      <th>x1</th>\n",
              "      <th>x2</th>\n",
              "      <th>x3</th>\n",
              "      <th>x4</th>\n",
              "      <th>x5</th>\n",
              "      <th>x6</th>\n",
              "      <th>x7</th>\n",
              "      <th>x8</th>\n",
              "      <th>...</th>\n",
              "      <th>x10</th>\n",
              "      <th>x11</th>\n",
              "      <th>x12</th>\n",
              "      <th>x13</th>\n",
              "      <th>x14</th>\n",
              "      <th>x15</th>\n",
              "      <th>x16</th>\n",
              "      <th>x17</th>\n",
              "      <th>x18</th>\n",
              "      <th>x19</th>\n",
              "    </tr>\n",
              "  </thead>\n",
              "  <tbody>\n",
              "    <tr>\n",
              "      <th>count</th>\n",
              "      <td>847.000000</td>\n",
              "      <td>847.000000</td>\n",
              "      <td>847.000000</td>\n",
              "      <td>847.000000</td>\n",
              "      <td>847.000000</td>\n",
              "      <td>847.000000</td>\n",
              "      <td>847.000000</td>\n",
              "      <td>847.000000</td>\n",
              "      <td>847.000000</td>\n",
              "      <td>847.000000</td>\n",
              "      <td>...</td>\n",
              "      <td>847.000000</td>\n",
              "      <td>847.000000</td>\n",
              "      <td>847.000000</td>\n",
              "      <td>847.000000</td>\n",
              "      <td>847.000000</td>\n",
              "      <td>847.000000</td>\n",
              "      <td>847.000000</td>\n",
              "      <td>847.000000</td>\n",
              "      <td>847.000000</td>\n",
              "      <td>847.000000</td>\n",
              "    </tr>\n",
              "    <tr>\n",
              "      <th>mean</th>\n",
              "      <td>2016.000000</td>\n",
              "      <td>70.667745</td>\n",
              "      <td>73.694215</td>\n",
              "      <td>232.413223</td>\n",
              "      <td>262.916175</td>\n",
              "      <td>95.850059</td>\n",
              "      <td>102.439197</td>\n",
              "      <td>57.596222</td>\n",
              "      <td>118.419126</td>\n",
              "      <td>12.893270</td>\n",
              "      <td>...</td>\n",
              "      <td>26278.030697</td>\n",
              "      <td>14.490555</td>\n",
              "      <td>14.185950</td>\n",
              "      <td>799.629280</td>\n",
              "      <td>47.360921</td>\n",
              "      <td>116.210626</td>\n",
              "      <td>1855.860685</td>\n",
              "      <td>1151.696576</td>\n",
              "      <td>298.553601</td>\n",
              "      <td>1.947512</td>\n",
              "    </tr>\n",
              "    <tr>\n",
              "      <th>std</th>\n",
              "      <td>3.164146</td>\n",
              "      <td>2.556460</td>\n",
              "      <td>12.231697</td>\n",
              "      <td>43.232936</td>\n",
              "      <td>48.731971</td>\n",
              "      <td>25.111665</td>\n",
              "      <td>28.075182</td>\n",
              "      <td>14.126661</td>\n",
              "      <td>17.609576</td>\n",
              "      <td>2.404633</td>\n",
              "      <td>...</td>\n",
              "      <td>10052.622854</td>\n",
              "      <td>4.960592</td>\n",
              "      <td>25.433688</td>\n",
              "      <td>152.756106</td>\n",
              "      <td>9.411053</td>\n",
              "      <td>21.466303</td>\n",
              "      <td>1864.151592</td>\n",
              "      <td>47.526166</td>\n",
              "      <td>34.784407</td>\n",
              "      <td>0.908496</td>\n",
              "    </tr>\n",
              "    <tr>\n",
              "      <th>min</th>\n",
              "      <td>2011.000000</td>\n",
              "      <td>61.100000</td>\n",
              "      <td>36.000000</td>\n",
              "      <td>105.000000</td>\n",
              "      <td>89.000000</td>\n",
              "      <td>36.000000</td>\n",
              "      <td>38.000000</td>\n",
              "      <td>20.000000</td>\n",
              "      <td>30.000000</td>\n",
              "      <td>7.900000</td>\n",
              "      <td>...</td>\n",
              "      <td>8829.000000</td>\n",
              "      <td>5.000000</td>\n",
              "      <td>0.300000</td>\n",
              "      <td>309.200000</td>\n",
              "      <td>26.300000</td>\n",
              "      <td>68.300000</td>\n",
              "      <td>135.900000</td>\n",
              "      <td>995.000000</td>\n",
              "      <td>180.400000</td>\n",
              "      <td>1.000000</td>\n",
              "    </tr>\n",
              "    <tr>\n",
              "      <th>25%</th>\n",
              "      <td>2013.000000</td>\n",
              "      <td>69.090000</td>\n",
              "      <td>66.000000</td>\n",
              "      <td>200.000000</td>\n",
              "      <td>232.000000</td>\n",
              "      <td>81.000000</td>\n",
              "      <td>86.000000</td>\n",
              "      <td>48.000000</td>\n",
              "      <td>108.000000</td>\n",
              "      <td>11.300000</td>\n",
              "      <td>...</td>\n",
              "      <td>19750.000000</td>\n",
              "      <td>11.300000</td>\n",
              "      <td>4.000000</td>\n",
              "      <td>690.550000</td>\n",
              "      <td>40.650000</td>\n",
              "      <td>102.200000</td>\n",
              "      <td>796.300000</td>\n",
              "      <td>1123.000000</td>\n",
              "      <td>275.850000</td>\n",
              "      <td>1.000000</td>\n",
              "    </tr>\n",
              "    <tr>\n",
              "      <th>50%</th>\n",
              "      <td>2016.000000</td>\n",
              "      <td>70.450000</td>\n",
              "      <td>73.000000</td>\n",
              "      <td>232.000000</td>\n",
              "      <td>265.000000</td>\n",
              "      <td>94.000000</td>\n",
              "      <td>99.000000</td>\n",
              "      <td>57.000000</td>\n",
              "      <td>117.000000</td>\n",
              "      <td>12.400000</td>\n",
              "      <td>...</td>\n",
              "      <td>24392.000000</td>\n",
              "      <td>13.800000</td>\n",
              "      <td>7.700000</td>\n",
              "      <td>789.300000</td>\n",
              "      <td>46.700000</td>\n",
              "      <td>115.200000</td>\n",
              "      <td>1218.000000</td>\n",
              "      <td>1156.000000</td>\n",
              "      <td>299.400000</td>\n",
              "      <td>1.888889</td>\n",
              "    </tr>\n",
              "    <tr>\n",
              "      <th>75%</th>\n",
              "      <td>2019.000000</td>\n",
              "      <td>72.115000</td>\n",
              "      <td>80.000000</td>\n",
              "      <td>262.500000</td>\n",
              "      <td>299.500000</td>\n",
              "      <td>111.000000</td>\n",
              "      <td>110.000000</td>\n",
              "      <td>67.000000</td>\n",
              "      <td>127.000000</td>\n",
              "      <td>14.100000</td>\n",
              "      <td>...</td>\n",
              "      <td>29909.000000</td>\n",
              "      <td>16.800000</td>\n",
              "      <td>15.950000</td>\n",
              "      <td>899.300000</td>\n",
              "      <td>53.100000</td>\n",
              "      <td>126.700000</td>\n",
              "      <td>2515.050000</td>\n",
              "      <td>1184.000000</td>\n",
              "      <td>322.700000</td>\n",
              "      <td>3.000000</td>\n",
              "    </tr>\n",
              "    <tr>\n",
              "      <th>max</th>\n",
              "      <td>2021.000000</td>\n",
              "      <td>79.640000</td>\n",
              "      <td>120.000000</td>\n",
              "      <td>366.000000</td>\n",
              "      <td>400.000000</td>\n",
              "      <td>176.000000</td>\n",
              "      <td>245.000000</td>\n",
              "      <td>117.000000</td>\n",
              "      <td>405.000000</td>\n",
              "      <td>23.200000</td>\n",
              "      <td>...</td>\n",
              "      <td>88831.000000</td>\n",
              "      <td>37.800000</td>\n",
              "      <td>262.300000</td>\n",
              "      <td>1407.500000</td>\n",
              "      <td>87.900000</td>\n",
              "      <td>222.000000</td>\n",
              "      <td>13015.100000</td>\n",
              "      <td>1239.000000</td>\n",
              "      <td>384.900000</td>\n",
              "      <td>4.000000</td>\n",
              "    </tr>\n",
              "  </tbody>\n",
              "</table>\n",
              "<p>8 rows × 21 columns</p>\n",
              "</div>\n",
              "    <div class=\"colab-df-buttons\">\n",
              "\n",
              "  <div class=\"colab-df-container\">\n",
              "    <button class=\"colab-df-convert\" onclick=\"convertToInteractive('df-4fe13405-471d-4335-bc1f-001682c3f35f')\"\n",
              "            title=\"Convert this dataframe to an interactive table.\"\n",
              "            style=\"display:none;\">\n",
              "\n",
              "  <svg xmlns=\"http://www.w3.org/2000/svg\" height=\"24px\" viewBox=\"0 -960 960 960\">\n",
              "    <path d=\"M120-120v-720h720v720H120Zm60-500h600v-160H180v160Zm220 220h160v-160H400v160Zm0 220h160v-160H400v160ZM180-400h160v-160H180v160Zm440 0h160v-160H620v160ZM180-180h160v-160H180v160Zm440 0h160v-160H620v160Z\"/>\n",
              "  </svg>\n",
              "    </button>\n",
              "\n",
              "  <style>\n",
              "    .colab-df-container {\n",
              "      display:flex;\n",
              "      gap: 12px;\n",
              "    }\n",
              "\n",
              "    .colab-df-convert {\n",
              "      background-color: #E8F0FE;\n",
              "      border: none;\n",
              "      border-radius: 50%;\n",
              "      cursor: pointer;\n",
              "      display: none;\n",
              "      fill: #1967D2;\n",
              "      height: 32px;\n",
              "      padding: 0 0 0 0;\n",
              "      width: 32px;\n",
              "    }\n",
              "\n",
              "    .colab-df-convert:hover {\n",
              "      background-color: #E2EBFA;\n",
              "      box-shadow: 0px 1px 2px rgba(60, 64, 67, 0.3), 0px 1px 3px 1px rgba(60, 64, 67, 0.15);\n",
              "      fill: #174EA6;\n",
              "    }\n",
              "\n",
              "    .colab-df-buttons div {\n",
              "      margin-bottom: 4px;\n",
              "    }\n",
              "\n",
              "    [theme=dark] .colab-df-convert {\n",
              "      background-color: #3B4455;\n",
              "      fill: #D2E3FC;\n",
              "    }\n",
              "\n",
              "    [theme=dark] .colab-df-convert:hover {\n",
              "      background-color: #434B5C;\n",
              "      box-shadow: 0px 1px 3px 1px rgba(0, 0, 0, 0.15);\n",
              "      filter: drop-shadow(0px 1px 2px rgba(0, 0, 0, 0.3));\n",
              "      fill: #FFFFFF;\n",
              "    }\n",
              "  </style>\n",
              "\n",
              "    <script>\n",
              "      const buttonEl =\n",
              "        document.querySelector('#df-4fe13405-471d-4335-bc1f-001682c3f35f button.colab-df-convert');\n",
              "      buttonEl.style.display =\n",
              "        google.colab.kernel.accessAllowed ? 'block' : 'none';\n",
              "\n",
              "      async function convertToInteractive(key) {\n",
              "        const element = document.querySelector('#df-4fe13405-471d-4335-bc1f-001682c3f35f');\n",
              "        const dataTable =\n",
              "          await google.colab.kernel.invokeFunction('convertToInteractive',\n",
              "                                                    [key], {});\n",
              "        if (!dataTable) return;\n",
              "\n",
              "        const docLinkHtml = 'Like what you see? Visit the ' +\n",
              "          '<a target=\"_blank\" href=https://colab.research.google.com/notebooks/data_table.ipynb>data table notebook</a>'\n",
              "          + ' to learn more about interactive tables.';\n",
              "        element.innerHTML = '';\n",
              "        dataTable['output_type'] = 'display_data';\n",
              "        await google.colab.output.renderOutput(dataTable, element);\n",
              "        const docLink = document.createElement('div');\n",
              "        docLink.innerHTML = docLinkHtml;\n",
              "        element.appendChild(docLink);\n",
              "      }\n",
              "    </script>\n",
              "  </div>\n",
              "\n",
              "\n",
              "<div id=\"df-9a5e0b03-2446-486a-9862-e089126150cd\">\n",
              "  <button class=\"colab-df-quickchart\" onclick=\"quickchart('df-9a5e0b03-2446-486a-9862-e089126150cd')\"\n",
              "            title=\"Suggest charts\"\n",
              "            style=\"display:none;\">\n",
              "\n",
              "<svg xmlns=\"http://www.w3.org/2000/svg\" height=\"24px\"viewBox=\"0 0 24 24\"\n",
              "     width=\"24px\">\n",
              "    <g>\n",
              "        <path d=\"M19 3H5c-1.1 0-2 .9-2 2v14c0 1.1.9 2 2 2h14c1.1 0 2-.9 2-2V5c0-1.1-.9-2-2-2zM9 17H7v-7h2v7zm4 0h-2V7h2v10zm4 0h-2v-4h2v4z\"/>\n",
              "    </g>\n",
              "</svg>\n",
              "  </button>\n",
              "\n",
              "<style>\n",
              "  .colab-df-quickchart {\n",
              "      --bg-color: #E8F0FE;\n",
              "      --fill-color: #1967D2;\n",
              "      --hover-bg-color: #E2EBFA;\n",
              "      --hover-fill-color: #174EA6;\n",
              "      --disabled-fill-color: #AAA;\n",
              "      --disabled-bg-color: #DDD;\n",
              "  }\n",
              "\n",
              "  [theme=dark] .colab-df-quickchart {\n",
              "      --bg-color: #3B4455;\n",
              "      --fill-color: #D2E3FC;\n",
              "      --hover-bg-color: #434B5C;\n",
              "      --hover-fill-color: #FFFFFF;\n",
              "      --disabled-bg-color: #3B4455;\n",
              "      --disabled-fill-color: #666;\n",
              "  }\n",
              "\n",
              "  .colab-df-quickchart {\n",
              "    background-color: var(--bg-color);\n",
              "    border: none;\n",
              "    border-radius: 50%;\n",
              "    cursor: pointer;\n",
              "    display: none;\n",
              "    fill: var(--fill-color);\n",
              "    height: 32px;\n",
              "    padding: 0;\n",
              "    width: 32px;\n",
              "  }\n",
              "\n",
              "  .colab-df-quickchart:hover {\n",
              "    background-color: var(--hover-bg-color);\n",
              "    box-shadow: 0 1px 2px rgba(60, 64, 67, 0.3), 0 1px 3px 1px rgba(60, 64, 67, 0.15);\n",
              "    fill: var(--button-hover-fill-color);\n",
              "  }\n",
              "\n",
              "  .colab-df-quickchart-complete:disabled,\n",
              "  .colab-df-quickchart-complete:disabled:hover {\n",
              "    background-color: var(--disabled-bg-color);\n",
              "    fill: var(--disabled-fill-color);\n",
              "    box-shadow: none;\n",
              "  }\n",
              "\n",
              "  .colab-df-spinner {\n",
              "    border: 2px solid var(--fill-color);\n",
              "    border-color: transparent;\n",
              "    border-bottom-color: var(--fill-color);\n",
              "    animation:\n",
              "      spin 1s steps(1) infinite;\n",
              "  }\n",
              "\n",
              "  @keyframes spin {\n",
              "    0% {\n",
              "      border-color: transparent;\n",
              "      border-bottom-color: var(--fill-color);\n",
              "      border-left-color: var(--fill-color);\n",
              "    }\n",
              "    20% {\n",
              "      border-color: transparent;\n",
              "      border-left-color: var(--fill-color);\n",
              "      border-top-color: var(--fill-color);\n",
              "    }\n",
              "    30% {\n",
              "      border-color: transparent;\n",
              "      border-left-color: var(--fill-color);\n",
              "      border-top-color: var(--fill-color);\n",
              "      border-right-color: var(--fill-color);\n",
              "    }\n",
              "    40% {\n",
              "      border-color: transparent;\n",
              "      border-right-color: var(--fill-color);\n",
              "      border-top-color: var(--fill-color);\n",
              "    }\n",
              "    60% {\n",
              "      border-color: transparent;\n",
              "      border-right-color: var(--fill-color);\n",
              "    }\n",
              "    80% {\n",
              "      border-color: transparent;\n",
              "      border-right-color: var(--fill-color);\n",
              "      border-bottom-color: var(--fill-color);\n",
              "    }\n",
              "    90% {\n",
              "      border-color: transparent;\n",
              "      border-bottom-color: var(--fill-color);\n",
              "    }\n",
              "  }\n",
              "</style>\n",
              "\n",
              "  <script>\n",
              "    async function quickchart(key) {\n",
              "      const quickchartButtonEl =\n",
              "        document.querySelector('#' + key + ' button');\n",
              "      quickchartButtonEl.disabled = true;  // To prevent multiple clicks.\n",
              "      quickchartButtonEl.classList.add('colab-df-spinner');\n",
              "      try {\n",
              "        const charts = await google.colab.kernel.invokeFunction(\n",
              "            'suggestCharts', [key], {});\n",
              "      } catch (error) {\n",
              "        console.error('Error during call to suggestCharts:', error);\n",
              "      }\n",
              "      quickchartButtonEl.classList.remove('colab-df-spinner');\n",
              "      quickchartButtonEl.classList.add('colab-df-quickchart-complete');\n",
              "    }\n",
              "    (() => {\n",
              "      let quickchartButtonEl =\n",
              "        document.querySelector('#df-9a5e0b03-2446-486a-9862-e089126150cd button');\n",
              "      quickchartButtonEl.style.display =\n",
              "        google.colab.kernel.accessAllowed ? 'block' : 'none';\n",
              "    })();\n",
              "  </script>\n",
              "</div>\n",
              "    </div>\n",
              "  </div>\n"
            ],
            "application/vnd.google.colaboratory.intrinsic+json": {
              "type": "dataframe"
            }
          },
          "metadata": {},
          "execution_count": 14
        }
      ]
    },
    {
      "cell_type": "markdown",
      "source": [
        "Для дальнейшего удобства сделаем словарь с пояснениями про что каждый фактор"
      ],
      "metadata": {
        "id": "tlQpYDKqqcdf"
      }
    },
    {
      "cell_type": "code",
      "source": [
        "factors = {'x1' : 'Потребление мяса (на душу населения в год, кг)',\n",
        "           'x2' : 'Потребление молока (на душу населения в год, кг)',\n",
        "           'x3' : 'Потребление яиц (на душу населения в год, кг)',\n",
        "           'x4' : 'Потребление картофеля (на душу населения в год, кг)' ,\n",
        "           'x5' : 'Потребление овощей (на душу населения в год, кг)' ,\n",
        "           'x6' : 'Потребление фруктов (на душу населения в год, кг)',\n",
        "           'x7' : 'Потребление хлебных продуктов (на душу населения в год, кг)' ,\n",
        "           'x8' : 'Потребление масла растительного (на душу населения в год, кг)',\n",
        "           'x9' : 'Потребление сахара (на душу населения в год, кг)',\n",
        "           'x10' : 'Среднедушевые денежные доходы населения в месяц, рублей',\n",
        "           'x11' : 'Численность населения с денежными доходами ниже границы бедности/величины прожиточного минимума в процентах от общей численности населения субъекта',\n",
        "           'x12' : 'Выпуск бакалавров, специалистов, магистров (тысяч человек)',\n",
        "           'x13' : 'Заболеваемость на 1000 человек населения, зарегистрировано заболеваний у пациентов с диагнозом, установленным впервые в жизни',\n",
        "           'x14' : 'Численность врачей всех специальностей: На 10 000 человек населения (человек)',\n",
        "           'x15' : 'Численность населения на одну больничную койку, на конец года, человек',\n",
        "           'x16' : 'Численность населения, оценка на конец года, тысяч человек',\n",
        "           'x17' : 'Соотношение мужчин и женщин, оценка на конец года, на 1000 мужчин приходится женщин',\n",
        "           'x18' : 'Численность пенсионеров на 1000 человек',\n",
        "           'x19' : 'Уровень загрязнения воздуха (низкий, повышенный, высокий, очень высокий)'\n",
        "\n",
        "}"
      ],
      "metadata": {
        "id": "7T3Bpclpqgwa"
      },
      "execution_count": null,
      "outputs": []
    },
    {
      "cell_type": "code",
      "source": [
        "df.head()"
      ],
      "metadata": {
        "colab": {
          "base_uri": "https://localhost:8080/"
        },
        "id": "z-ObB2Arrfl4",
        "outputId": "d807c1d8-53eb-4ac2-d7d9-6e73f395cc4c"
      },
      "execution_count": null,
      "outputs": [
        {
          "output_type": "execute_result",
          "data": {
            "text/plain": [
              "           region  year      y  x1   x2   x3   x4  x5  x6   x7  ...    x10  \\\n",
              "0  Алтайский край  2011  68.94  65  323  307  117  90  50  169  ...  12500   \n",
              "1  Алтайский край  2012  69.01  69  320  309  116  87  51  168  ...  13617   \n",
              "2  Алтайский край  2013  69.60  69  318  310  112  85  55  168  ...  15896   \n",
              "3  Алтайский край  2014  69.77  67  304  312  106  82  55  168  ...  18291   \n",
              "4  Алтайский край  2015  70.13  62  284  318   98  81  54  163  ...  20860   \n",
              "\n",
              "    x11   x12     x13   x14    x15     x16   x17    x18       x19  \n",
              "0  22.6  16.8  1054.7  50.7   92.1  2396.8  1159  292.7  3.333333  \n",
              "1  20.6  16.5  1094.6  46.4   94.4  2378.0  1159  296.8  3.000000  \n",
              "2  17.6  14.3  1102.2  46.3   95.3  2359.5  1160  300.7  2.333333  \n",
              "3  17.1  14.8  1099.0  45.7   97.5  2343.4  1162  305.4  2.000000  \n",
              "4  18.0  15.1  1118.4  43.9  100.2  2325.0  1162  309.2  1.333333  \n",
              "\n",
              "[5 rows x 22 columns]"
            ],
            "text/html": [
              "\n",
              "  <div id=\"df-eb2aba13-0e4c-4b48-bdd4-c83f0261b94c\" class=\"colab-df-container\">\n",
              "    <div>\n",
              "<style scoped>\n",
              "    .dataframe tbody tr th:only-of-type {\n",
              "        vertical-align: middle;\n",
              "    }\n",
              "\n",
              "    .dataframe tbody tr th {\n",
              "        vertical-align: top;\n",
              "    }\n",
              "\n",
              "    .dataframe thead th {\n",
              "        text-align: right;\n",
              "    }\n",
              "</style>\n",
              "<table border=\"1\" class=\"dataframe\">\n",
              "  <thead>\n",
              "    <tr style=\"text-align: right;\">\n",
              "      <th></th>\n",
              "      <th>region</th>\n",
              "      <th>year</th>\n",
              "      <th>y</th>\n",
              "      <th>x1</th>\n",
              "      <th>x2</th>\n",
              "      <th>x3</th>\n",
              "      <th>x4</th>\n",
              "      <th>x5</th>\n",
              "      <th>x6</th>\n",
              "      <th>x7</th>\n",
              "      <th>...</th>\n",
              "      <th>x10</th>\n",
              "      <th>x11</th>\n",
              "      <th>x12</th>\n",
              "      <th>x13</th>\n",
              "      <th>x14</th>\n",
              "      <th>x15</th>\n",
              "      <th>x16</th>\n",
              "      <th>x17</th>\n",
              "      <th>x18</th>\n",
              "      <th>x19</th>\n",
              "    </tr>\n",
              "  </thead>\n",
              "  <tbody>\n",
              "    <tr>\n",
              "      <th>0</th>\n",
              "      <td>Алтайский край</td>\n",
              "      <td>2011</td>\n",
              "      <td>68.94</td>\n",
              "      <td>65</td>\n",
              "      <td>323</td>\n",
              "      <td>307</td>\n",
              "      <td>117</td>\n",
              "      <td>90</td>\n",
              "      <td>50</td>\n",
              "      <td>169</td>\n",
              "      <td>...</td>\n",
              "      <td>12500</td>\n",
              "      <td>22.6</td>\n",
              "      <td>16.8</td>\n",
              "      <td>1054.7</td>\n",
              "      <td>50.7</td>\n",
              "      <td>92.1</td>\n",
              "      <td>2396.8</td>\n",
              "      <td>1159</td>\n",
              "      <td>292.7</td>\n",
              "      <td>3.333333</td>\n",
              "    </tr>\n",
              "    <tr>\n",
              "      <th>1</th>\n",
              "      <td>Алтайский край</td>\n",
              "      <td>2012</td>\n",
              "      <td>69.01</td>\n",
              "      <td>69</td>\n",
              "      <td>320</td>\n",
              "      <td>309</td>\n",
              "      <td>116</td>\n",
              "      <td>87</td>\n",
              "      <td>51</td>\n",
              "      <td>168</td>\n",
              "      <td>...</td>\n",
              "      <td>13617</td>\n",
              "      <td>20.6</td>\n",
              "      <td>16.5</td>\n",
              "      <td>1094.6</td>\n",
              "      <td>46.4</td>\n",
              "      <td>94.4</td>\n",
              "      <td>2378.0</td>\n",
              "      <td>1159</td>\n",
              "      <td>296.8</td>\n",
              "      <td>3.000000</td>\n",
              "    </tr>\n",
              "    <tr>\n",
              "      <th>2</th>\n",
              "      <td>Алтайский край</td>\n",
              "      <td>2013</td>\n",
              "      <td>69.60</td>\n",
              "      <td>69</td>\n",
              "      <td>318</td>\n",
              "      <td>310</td>\n",
              "      <td>112</td>\n",
              "      <td>85</td>\n",
              "      <td>55</td>\n",
              "      <td>168</td>\n",
              "      <td>...</td>\n",
              "      <td>15896</td>\n",
              "      <td>17.6</td>\n",
              "      <td>14.3</td>\n",
              "      <td>1102.2</td>\n",
              "      <td>46.3</td>\n",
              "      <td>95.3</td>\n",
              "      <td>2359.5</td>\n",
              "      <td>1160</td>\n",
              "      <td>300.7</td>\n",
              "      <td>2.333333</td>\n",
              "    </tr>\n",
              "    <tr>\n",
              "      <th>3</th>\n",
              "      <td>Алтайский край</td>\n",
              "      <td>2014</td>\n",
              "      <td>69.77</td>\n",
              "      <td>67</td>\n",
              "      <td>304</td>\n",
              "      <td>312</td>\n",
              "      <td>106</td>\n",
              "      <td>82</td>\n",
              "      <td>55</td>\n",
              "      <td>168</td>\n",
              "      <td>...</td>\n",
              "      <td>18291</td>\n",
              "      <td>17.1</td>\n",
              "      <td>14.8</td>\n",
              "      <td>1099.0</td>\n",
              "      <td>45.7</td>\n",
              "      <td>97.5</td>\n",
              "      <td>2343.4</td>\n",
              "      <td>1162</td>\n",
              "      <td>305.4</td>\n",
              "      <td>2.000000</td>\n",
              "    </tr>\n",
              "    <tr>\n",
              "      <th>4</th>\n",
              "      <td>Алтайский край</td>\n",
              "      <td>2015</td>\n",
              "      <td>70.13</td>\n",
              "      <td>62</td>\n",
              "      <td>284</td>\n",
              "      <td>318</td>\n",
              "      <td>98</td>\n",
              "      <td>81</td>\n",
              "      <td>54</td>\n",
              "      <td>163</td>\n",
              "      <td>...</td>\n",
              "      <td>20860</td>\n",
              "      <td>18.0</td>\n",
              "      <td>15.1</td>\n",
              "      <td>1118.4</td>\n",
              "      <td>43.9</td>\n",
              "      <td>100.2</td>\n",
              "      <td>2325.0</td>\n",
              "      <td>1162</td>\n",
              "      <td>309.2</td>\n",
              "      <td>1.333333</td>\n",
              "    </tr>\n",
              "  </tbody>\n",
              "</table>\n",
              "<p>5 rows × 22 columns</p>\n",
              "</div>\n",
              "    <div class=\"colab-df-buttons\">\n",
              "\n",
              "  <div class=\"colab-df-container\">\n",
              "    <button class=\"colab-df-convert\" onclick=\"convertToInteractive('df-eb2aba13-0e4c-4b48-bdd4-c83f0261b94c')\"\n",
              "            title=\"Convert this dataframe to an interactive table.\"\n",
              "            style=\"display:none;\">\n",
              "\n",
              "  <svg xmlns=\"http://www.w3.org/2000/svg\" height=\"24px\" viewBox=\"0 -960 960 960\">\n",
              "    <path d=\"M120-120v-720h720v720H120Zm60-500h600v-160H180v160Zm220 220h160v-160H400v160Zm0 220h160v-160H400v160ZM180-400h160v-160H180v160Zm440 0h160v-160H620v160ZM180-180h160v-160H180v160Zm440 0h160v-160H620v160Z\"/>\n",
              "  </svg>\n",
              "    </button>\n",
              "\n",
              "  <style>\n",
              "    .colab-df-container {\n",
              "      display:flex;\n",
              "      gap: 12px;\n",
              "    }\n",
              "\n",
              "    .colab-df-convert {\n",
              "      background-color: #E8F0FE;\n",
              "      border: none;\n",
              "      border-radius: 50%;\n",
              "      cursor: pointer;\n",
              "      display: none;\n",
              "      fill: #1967D2;\n",
              "      height: 32px;\n",
              "      padding: 0 0 0 0;\n",
              "      width: 32px;\n",
              "    }\n",
              "\n",
              "    .colab-df-convert:hover {\n",
              "      background-color: #E2EBFA;\n",
              "      box-shadow: 0px 1px 2px rgba(60, 64, 67, 0.3), 0px 1px 3px 1px rgba(60, 64, 67, 0.15);\n",
              "      fill: #174EA6;\n",
              "    }\n",
              "\n",
              "    .colab-df-buttons div {\n",
              "      margin-bottom: 4px;\n",
              "    }\n",
              "\n",
              "    [theme=dark] .colab-df-convert {\n",
              "      background-color: #3B4455;\n",
              "      fill: #D2E3FC;\n",
              "    }\n",
              "\n",
              "    [theme=dark] .colab-df-convert:hover {\n",
              "      background-color: #434B5C;\n",
              "      box-shadow: 0px 1px 3px 1px rgba(0, 0, 0, 0.15);\n",
              "      filter: drop-shadow(0px 1px 2px rgba(0, 0, 0, 0.3));\n",
              "      fill: #FFFFFF;\n",
              "    }\n",
              "  </style>\n",
              "\n",
              "    <script>\n",
              "      const buttonEl =\n",
              "        document.querySelector('#df-eb2aba13-0e4c-4b48-bdd4-c83f0261b94c button.colab-df-convert');\n",
              "      buttonEl.style.display =\n",
              "        google.colab.kernel.accessAllowed ? 'block' : 'none';\n",
              "\n",
              "      async function convertToInteractive(key) {\n",
              "        const element = document.querySelector('#df-eb2aba13-0e4c-4b48-bdd4-c83f0261b94c');\n",
              "        const dataTable =\n",
              "          await google.colab.kernel.invokeFunction('convertToInteractive',\n",
              "                                                    [key], {});\n",
              "        if (!dataTable) return;\n",
              "\n",
              "        const docLinkHtml = 'Like what you see? Visit the ' +\n",
              "          '<a target=\"_blank\" href=https://colab.research.google.com/notebooks/data_table.ipynb>data table notebook</a>'\n",
              "          + ' to learn more about interactive tables.';\n",
              "        element.innerHTML = '';\n",
              "        dataTable['output_type'] = 'display_data';\n",
              "        await google.colab.output.renderOutput(dataTable, element);\n",
              "        const docLink = document.createElement('div');\n",
              "        docLink.innerHTML = docLinkHtml;\n",
              "        element.appendChild(docLink);\n",
              "      }\n",
              "    </script>\n",
              "  </div>\n",
              "\n",
              "\n",
              "<div id=\"df-e92ff4b6-ea5f-4bbe-a5b9-37ff36c2f1f3\">\n",
              "  <button class=\"colab-df-quickchart\" onclick=\"quickchart('df-e92ff4b6-ea5f-4bbe-a5b9-37ff36c2f1f3')\"\n",
              "            title=\"Suggest charts\"\n",
              "            style=\"display:none;\">\n",
              "\n",
              "<svg xmlns=\"http://www.w3.org/2000/svg\" height=\"24px\"viewBox=\"0 0 24 24\"\n",
              "     width=\"24px\">\n",
              "    <g>\n",
              "        <path d=\"M19 3H5c-1.1 0-2 .9-2 2v14c0 1.1.9 2 2 2h14c1.1 0 2-.9 2-2V5c0-1.1-.9-2-2-2zM9 17H7v-7h2v7zm4 0h-2V7h2v10zm4 0h-2v-4h2v4z\"/>\n",
              "    </g>\n",
              "</svg>\n",
              "  </button>\n",
              "\n",
              "<style>\n",
              "  .colab-df-quickchart {\n",
              "      --bg-color: #E8F0FE;\n",
              "      --fill-color: #1967D2;\n",
              "      --hover-bg-color: #E2EBFA;\n",
              "      --hover-fill-color: #174EA6;\n",
              "      --disabled-fill-color: #AAA;\n",
              "      --disabled-bg-color: #DDD;\n",
              "  }\n",
              "\n",
              "  [theme=dark] .colab-df-quickchart {\n",
              "      --bg-color: #3B4455;\n",
              "      --fill-color: #D2E3FC;\n",
              "      --hover-bg-color: #434B5C;\n",
              "      --hover-fill-color: #FFFFFF;\n",
              "      --disabled-bg-color: #3B4455;\n",
              "      --disabled-fill-color: #666;\n",
              "  }\n",
              "\n",
              "  .colab-df-quickchart {\n",
              "    background-color: var(--bg-color);\n",
              "    border: none;\n",
              "    border-radius: 50%;\n",
              "    cursor: pointer;\n",
              "    display: none;\n",
              "    fill: var(--fill-color);\n",
              "    height: 32px;\n",
              "    padding: 0;\n",
              "    width: 32px;\n",
              "  }\n",
              "\n",
              "  .colab-df-quickchart:hover {\n",
              "    background-color: var(--hover-bg-color);\n",
              "    box-shadow: 0 1px 2px rgba(60, 64, 67, 0.3), 0 1px 3px 1px rgba(60, 64, 67, 0.15);\n",
              "    fill: var(--button-hover-fill-color);\n",
              "  }\n",
              "\n",
              "  .colab-df-quickchart-complete:disabled,\n",
              "  .colab-df-quickchart-complete:disabled:hover {\n",
              "    background-color: var(--disabled-bg-color);\n",
              "    fill: var(--disabled-fill-color);\n",
              "    box-shadow: none;\n",
              "  }\n",
              "\n",
              "  .colab-df-spinner {\n",
              "    border: 2px solid var(--fill-color);\n",
              "    border-color: transparent;\n",
              "    border-bottom-color: var(--fill-color);\n",
              "    animation:\n",
              "      spin 1s steps(1) infinite;\n",
              "  }\n",
              "\n",
              "  @keyframes spin {\n",
              "    0% {\n",
              "      border-color: transparent;\n",
              "      border-bottom-color: var(--fill-color);\n",
              "      border-left-color: var(--fill-color);\n",
              "    }\n",
              "    20% {\n",
              "      border-color: transparent;\n",
              "      border-left-color: var(--fill-color);\n",
              "      border-top-color: var(--fill-color);\n",
              "    }\n",
              "    30% {\n",
              "      border-color: transparent;\n",
              "      border-left-color: var(--fill-color);\n",
              "      border-top-color: var(--fill-color);\n",
              "      border-right-color: var(--fill-color);\n",
              "    }\n",
              "    40% {\n",
              "      border-color: transparent;\n",
              "      border-right-color: var(--fill-color);\n",
              "      border-top-color: var(--fill-color);\n",
              "    }\n",
              "    60% {\n",
              "      border-color: transparent;\n",
              "      border-right-color: var(--fill-color);\n",
              "    }\n",
              "    80% {\n",
              "      border-color: transparent;\n",
              "      border-right-color: var(--fill-color);\n",
              "      border-bottom-color: var(--fill-color);\n",
              "    }\n",
              "    90% {\n",
              "      border-color: transparent;\n",
              "      border-bottom-color: var(--fill-color);\n",
              "    }\n",
              "  }\n",
              "</style>\n",
              "\n",
              "  <script>\n",
              "    async function quickchart(key) {\n",
              "      const quickchartButtonEl =\n",
              "        document.querySelector('#' + key + ' button');\n",
              "      quickchartButtonEl.disabled = true;  // To prevent multiple clicks.\n",
              "      quickchartButtonEl.classList.add('colab-df-spinner');\n",
              "      try {\n",
              "        const charts = await google.colab.kernel.invokeFunction(\n",
              "            'suggestCharts', [key], {});\n",
              "      } catch (error) {\n",
              "        console.error('Error during call to suggestCharts:', error);\n",
              "      }\n",
              "      quickchartButtonEl.classList.remove('colab-df-spinner');\n",
              "      quickchartButtonEl.classList.add('colab-df-quickchart-complete');\n",
              "    }\n",
              "    (() => {\n",
              "      let quickchartButtonEl =\n",
              "        document.querySelector('#df-e92ff4b6-ea5f-4bbe-a5b9-37ff36c2f1f3 button');\n",
              "      quickchartButtonEl.style.display =\n",
              "        google.colab.kernel.accessAllowed ? 'block' : 'none';\n",
              "    })();\n",
              "  </script>\n",
              "</div>\n",
              "    </div>\n",
              "  </div>\n"
            ],
            "application/vnd.google.colaboratory.intrinsic+json": {
              "type": "dataframe",
              "variable_name": "df"
            }
          },
          "metadata": {},
          "execution_count": 16
        }
      ]
    },
    {
      "cell_type": "markdown",
      "source": [
        "# Корреляция"
      ],
      "metadata": {
        "id": "X-QmVJIondkK"
      }
    },
    {
      "cell_type": "markdown",
      "source": [
        "Библиотеки"
      ],
      "metadata": {
        "id": "FQFgMXybnhOg"
      }
    },
    {
      "cell_type": "code",
      "source": [
        "import pandas as pd\n",
        "import seaborn as sns\n",
        "import matplotlib.pyplot as plt"
      ],
      "metadata": {
        "id": "sv3W4e1Tni4E"
      },
      "execution_count": null,
      "outputs": []
    },
    {
      "cell_type": "markdown",
      "source": [
        "Оценка корреляции продуктов питания"
      ],
      "metadata": {
        "id": "3hyj2jeVnhUr"
      }
    },
    {
      "cell_type": "code",
      "source": [
        "df_corr = df.drop(columns=['region', 'year'])\n",
        "\n",
        "correlation_matrix = df_corr.corr()\n",
        "\n",
        "y_corr = correlation_matrix.loc['y', 'x1':'x9']\n",
        "\n",
        "plt.figure(figsize=(10, 1))\n",
        "sns.heatmap(y_corr.to_frame().T, annot=True, cmap='coolwarm', fmt='.2f', linewidths=0.5)\n",
        "plt.title('Корреляция между \"Продолжительность жизни\" и \"Потребление продуктов питания\"', fontsize=10)\n",
        "plt.show()"
      ],
      "metadata": {
        "colab": {
          "base_uri": "https://localhost:8080/"
        },
        "id": "1Rc28M3InmlS",
        "outputId": "dcad38ae-8caf-4045-9a4e-bb4ed93af05f"
      },
      "execution_count": null,
      "outputs": [
        {
          "output_type": "display_data",
          "data": {
            "text/plain": [
              "<Figure size 1000x100 with 2 Axes>"
            ],
            "image/png": "[encoded data removed]"
          },
          "metadata": {}
        }
      ]
    },
    {
      "cell_type": "markdown",
      "source": [
        "Корреляция всех"
      ],
      "metadata": {
        "id": "IHH6l5efnt9a"
      }
    },
    {
      "cell_type": "code",
      "source": [
        "df_corr = df.drop(columns=['region', 'year'])\n",
        "\n",
        "correlation_matrix = df_corr.corr()\n",
        "\n",
        "y_corr = correlation_matrix.loc['y', 'x1':'x19']\n",
        "\n",
        "plt.figure(figsize=(20, 1))\n",
        "sns.heatmap(y_corr.to_frame().T, annot=True, cmap='coolwarm', fmt='.2f', linewidths=0.5)\n",
        "plt.title('Корреляция между \"Продолжительность жизни\" и \"Факторами\"', fontsize=10)\n",
        "plt.show()"
      ],
      "metadata": {
        "colab": {
          "base_uri": "https://localhost:8080/"
        },
        "id": "eSUeLpOhnwsI",
        "outputId": "d4d34452-b8d7-4e50-ff1f-014ee65a2195"
      },
      "execution_count": null,
      "outputs": [
        {
          "output_type": "display_data",
          "data": {
            "text/plain": [
              "<Figure size 2000x100 with 2 Axes>"
            ],
            "image/png": "[encoded data removed]"
          },
          "metadata": {}
        }
      ]
    },
    {
      "cell_type": "markdown",
      "source": [
        "# Статистическая значимость перменных"
      ],
      "metadata": {
        "id": "JQapAnCOoeHo"
      }
    },
    {
      "cell_type": "markdown",
      "source": [
        "Проверим статистическую значимость перменных, построив линейную модель на каждом из факторов по-очереди"
      ],
      "metadata": {
        "id": "m2Ohup60ojGc"
      }
    },
    {
      "cell_type": "markdown",
      "source": [
        "H0: Нет связи между Y и Xi\n",
        "\n",
        "H1: Есть связь между Y и Xi\n",
        "\n",
        "Значение p-value > 0.05 => H0\n",
        "\n",
        "Значение p-value < 0.05 => H1"
      ],
      "metadata": {
        "id": "6manO_-RowDH"
      }
    },
    {
      "cell_type": "code",
      "source": [
        "import statsmodels.api as sm"
      ],
      "metadata": {
        "id": "0nCDasnLoinT"
      },
      "execution_count": null,
      "outputs": []
    },
    {
      "cell_type": "code",
      "source": [
        "h0_factors = [] # сюда незначимые факторы добавим\n",
        "\n",
        "for i in range(1, 20):\n",
        "  y = df['y']\n",
        "  X = df[f'x{i}']\n",
        "  X = sm.add_constant(X)\n",
        "  model = sm.OLS(y, X).fit()\n",
        "  p_value = model.pvalues[f'x{i}']\n",
        "  h = 'H1' if p_value<0.05 else 'H0'\n",
        "  if h == 'H0': h0_factors.append(f'x{i}')\n",
        "  print(f'X{i}, pvalue: {round(p_value, 4)}, => {h}')"
      ],
      "metadata": {
        "colab": {
          "base_uri": "https://localhost:8080/"
        },
        "id": "WRoXIWDOpFBF",
        "outputId": "2d358928-103a-4e3f-99ae-4dc90273a3ca"
      },
      "execution_count": null,
      "outputs": [
        {
          "output_type": "stream",
          "name": "stdout",
          "text": [
            "X1, pvalue: 0.3299, => H0\n",
            "X2, pvalue: 0.0021, => H1\n",
            "X3, pvalue: 0.0049, => H1\n",
            "X4, pvalue: 0.0237, => H1\n",
            "X5, pvalue: 0.0, => H1\n",
            "X6, pvalue: 0.0, => H1\n",
            "X7, pvalue: 0.1847, => H0\n",
            "X8, pvalue: 0.1842, => H0\n",
            "X9, pvalue: 0.0, => H1\n",
            "X10, pvalue: 0.0001, => H1\n",
            "X11, pvalue: 0.0, => H1\n",
            "X12, pvalue: 0.0, => H1\n",
            "X13, pvalue: 0.0, => H1\n",
            "X14, pvalue: 0.4055, => H0\n",
            "X15, pvalue: 0.0, => H1\n",
            "X16, pvalue: 0.0, => H1\n",
            "X17, pvalue: 0.8575, => H0\n",
            "X18, pvalue: 0.0, => H1\n",
            "X19, pvalue: 0.0, => H1\n"
          ]
        }
      ]
    },
    {
      "cell_type": "markdown",
      "source": [
        "Незначимые факторы"
      ],
      "metadata": {
        "id": "qSimRHN5rl_P"
      }
    },
    {
      "cell_type": "code",
      "source": [
        "for factor in h0_factors:\n",
        "  print(factor, factors[factor])"
      ],
      "metadata": {
        "colab": {
          "base_uri": "https://localhost:8080/"
        },
        "id": "2aee05lIrlcZ",
        "outputId": "8ecdb087-70d4-4b9f-c6f8-8f5c4b565028"
      },
      "execution_count": null,
      "outputs": [
        {
          "output_type": "stream",
          "name": "stdout",
          "text": [
            "x1 Потребление мяса (на душу населения в год, кг)\n",
            "x7 Потребление хлебных продуктов (на душу населения в год, кг)\n",
            "x8 Потребление масла растительного (на душу населения в год, кг)\n",
            "x14 Численность врачей всех специальностей: На 10 000 человек населения (человек)\n",
            "x17 Соотношение мужчин и женщин, оценка на конец года, на 1000 мужчин приходится женщин\n"
          ]
        }
      ]
    },
    {
      "cell_type": "markdown",
      "source": [
        "# Мультиколлинеарность"
      ],
      "metadata": {
        "id": "FxT2JH2LsiBi"
      }
    },
    {
      "cell_type": "code",
      "source": [
        "from statsmodels.stats.outliers_influence import variance_inflation_factor"
      ],
      "metadata": {
        "id": "zc7xhu3Zsk_P"
      },
      "execution_count": null,
      "outputs": []
    },
    {
      "cell_type": "code",
      "source": [
        "# Функция для вычисления VIF для каждой переменной\n",
        "def find_vif(X):\n",
        "  vif_data = pd.DataFrame()\n",
        "  vif_data[\"Variable\"] = X.columns\n",
        "  vif_data[\"VIF\"] = [variance_inflation_factor(X.values, i) for i in range(X.shape[1])]\n",
        "  print(vif_data)\n",
        "  max_vif_row = vif_data.loc[vif_data['VIF'].idxmax()] # id строки с max vif\n",
        "  variable_with_max_vif = max_vif_row['Variable'] # фактор\n",
        "  max_vif_value = max_vif_row['VIF'] # значение vif\n",
        "  print('----------------------------')\n",
        "  print(f'Max VIF: {max_vif_value}')\n",
        "  print(f'Factor: {variable_with_max_vif} - {factors[variable_with_max_vif]}')"
      ],
      "metadata": {
        "id": "JkjxDXm9soNN"
      },
      "execution_count": null,
      "outputs": []
    },
    {
      "cell_type": "code",
      "source": [
        "X = df.drop(['region', 'year', 'y'], axis=1)\n",
        "y = df['y']"
      ],
      "metadata": {
        "id": "fY6F9eZeswYE"
      },
      "execution_count": null,
      "outputs": []
    },
    {
      "cell_type": "code",
      "source": [
        "find_vif(X)"
      ],
      "metadata": {
        "colab": {
          "base_uri": "https://localhost:8080/"
        },
        "id": "-1cJx_nJte8D",
        "outputId": "87277e1e-57bb-43a7-cb0a-e32d3f522b18"
      },
      "execution_count": null,
      "outputs": [
        {
          "output_type": "stream",
          "name": "stdout",
          "text": [
            "   Variable         VIF\n",
            "0        x1   46.749035\n",
            "1        x2   41.167883\n",
            "2        x3   62.605747\n",
            "3        x4   18.800480\n",
            "4        x5   22.527192\n",
            "5        x6   30.213664\n",
            "6        x7   54.845533\n",
            "7        x8   42.780010\n",
            "8        x9   47.891171\n",
            "9       x10   16.986040\n",
            "10      x11   19.329184\n",
            "11      x12    6.265058\n",
            "12      x13   39.393596\n",
            "13      x14   44.826281\n",
            "14      x15   51.206165\n",
            "15      x16   11.994759\n",
            "16      x17  591.040254\n",
            "17      x18  236.875830\n",
            "18      x19    7.106786\n",
            "----------------------------\n",
            "Max VIF: 591.0402541478541\n",
            "Factor: x17 - Соотношение мужчин и женщин, оценка на конец года, на 1000 мужчин приходится женщин\n"
          ]
        }
      ]
    },
    {
      "cell_type": "markdown",
      "source": [
        "Избавляемся от переменных"
      ],
      "metadata": {
        "id": "wy9tqxu8tBf1"
      }
    },
    {
      "cell_type": "code",
      "source": [
        "X = X.drop(['x17'], axis=1)"
      ],
      "metadata": {
        "id": "2GtaMYKbti9X"
      },
      "execution_count": null,
      "outputs": []
    },
    {
      "cell_type": "code",
      "source": [
        "find_vif(X)"
      ],
      "metadata": {
        "colab": {
          "base_uri": "https://localhost:8080/"
        },
        "id": "gL_PmlWjtniO",
        "outputId": "c01521af-add0-4213-fa73-6d8f5cc85979"
      },
      "execution_count": null,
      "outputs": [
        {
          "output_type": "stream",
          "name": "stdout",
          "text": [
            "   Variable         VIF\n",
            "0        x1   46.564275\n",
            "1        x2   37.890785\n",
            "2        x3   62.372232\n",
            "3        x4   18.282951\n",
            "4        x5   22.212707\n",
            "5        x6   30.046547\n",
            "6        x7   54.401448\n",
            "7        x8   42.345242\n",
            "8        x9   46.859739\n",
            "9       x10   16.775792\n",
            "10      x11   16.496996\n",
            "11      x12    6.228528\n",
            "12      x13   39.284085\n",
            "13      x14   40.312906\n",
            "14      x15   40.780172\n",
            "15      x16   11.875550\n",
            "16      x18  114.754442\n",
            "17      x19    6.880291\n",
            "----------------------------\n",
            "Max VIF: 114.75444169921929\n",
            "Factor: x18 - Численность пенсионеров на 1000 человек\n"
          ]
        }
      ]
    },
    {
      "cell_type": "code",
      "source": [
        "X = X.drop(['x18'], axis=1)"
      ],
      "metadata": {
        "id": "0_nxkVF_tpI7"
      },
      "execution_count": null,
      "outputs": []
    },
    {
      "cell_type": "code",
      "source": [
        "find_vif(X)"
      ],
      "metadata": {
        "colab": {
          "base_uri": "https://localhost:8080/"
        },
        "id": "6O1T2nQ6tr5S",
        "outputId": "224e86c5-e569-4b25-ec27-af1739bd29d0"
      },
      "execution_count": null,
      "outputs": [
        {
          "output_type": "stream",
          "name": "stdout",
          "text": [
            "   Variable        VIF\n",
            "0        x1  44.011570\n",
            "1        x2  37.041989\n",
            "2        x3  56.381809\n",
            "3        x4  17.921540\n",
            "4        x5  21.065860\n",
            "5        x6  29.347534\n",
            "6        x7  53.916927\n",
            "7        x8  38.756269\n",
            "8        x9  45.957897\n",
            "9       x10  16.438297\n",
            "10      x11  16.496994\n",
            "11      x12   6.212941\n",
            "12      x13  31.094421\n",
            "13      x14  40.287922\n",
            "14      x15  40.025083\n",
            "15      x16  10.766529\n",
            "16      x19   6.754443\n",
            "----------------------------\n",
            "Max VIF: 56.381809388564974\n",
            "Factor: x3 - Потребление яиц (на душу населения в год, кг)\n"
          ]
        }
      ]
    },
    {
      "cell_type": "code",
      "source": [
        "X = X.drop(['x3'], axis=1)"
      ],
      "metadata": {
        "id": "0PSrSl34tto6"
      },
      "execution_count": null,
      "outputs": []
    },
    {
      "cell_type": "code",
      "source": [
        "find_vif(X)"
      ],
      "metadata": {
        "colab": {
          "base_uri": "https://localhost:8080/"
        },
        "id": "tP5RMDWTtxMJ",
        "outputId": "12aca5bf-252f-4e8d-d27d-cd93cff4ba4a"
      },
      "execution_count": null,
      "outputs": [
        {
          "output_type": "stream",
          "name": "stdout",
          "text": [
            "   Variable        VIF\n",
            "0        x1  43.032185\n",
            "1        x2  35.998752\n",
            "2        x4  17.857609\n",
            "3        x5  21.063450\n",
            "4        x6  28.639017\n",
            "5        x7  53.697603\n",
            "6        x8  34.315460\n",
            "7        x9  45.878322\n",
            "8       x10  15.839907\n",
            "9       x11  14.667590\n",
            "10      x12   5.530864\n",
            "11      x13  28.942240\n",
            "12      x14  37.287750\n",
            "13      x15  39.969382\n",
            "14      x16   9.851668\n",
            "15      x19   6.719599\n",
            "----------------------------\n",
            "Max VIF: 53.6976030860921\n",
            "Factor: x7 - Потребление хлебных продуктов (на душу населения в год, кг)\n"
          ]
        }
      ]
    },
    {
      "cell_type": "code",
      "source": [
        "X = X.drop(['x7'], axis=1)"
      ],
      "metadata": {
        "id": "eW_CMCGat2gi"
      },
      "execution_count": null,
      "outputs": []
    },
    {
      "cell_type": "code",
      "source": [
        "find_vif(X)"
      ],
      "metadata": {
        "colab": {
          "base_uri": "https://localhost:8080/"
        },
        "id": "vAil-iyGt4g7",
        "outputId": "31213af0-cce7-45c1-be39-3392cb595615"
      },
      "execution_count": null,
      "outputs": [
        {
          "output_type": "stream",
          "name": "stdout",
          "text": [
            "   Variable        VIF\n",
            "0        x1  42.920090\n",
            "1        x2  35.967277\n",
            "2        x4  17.348485\n",
            "3        x5  20.827773\n",
            "4        x6  27.905989\n",
            "5        x8  33.466079\n",
            "6        x9  40.161357\n",
            "7       x10  15.801617\n",
            "8       x11  13.824627\n",
            "9       x12   5.482730\n",
            "10      x13  28.564491\n",
            "11      x14  37.182059\n",
            "12      x15  39.267974\n",
            "13      x16   9.841531\n",
            "14      x19   6.536386\n",
            "----------------------------\n",
            "Max VIF: 42.92009036126923\n",
            "Factor: x1 - Потребление мяса (на душу населения в год, кг)\n"
          ]
        }
      ]
    },
    {
      "cell_type": "code",
      "source": [
        "X = X.drop(['x1'], axis=1)"
      ],
      "metadata": {
        "id": "C3bBXRXvt7Ew"
      },
      "execution_count": null,
      "outputs": []
    },
    {
      "cell_type": "code",
      "source": [
        "find_vif(X)"
      ],
      "metadata": {
        "colab": {
          "base_uri": "https://localhost:8080/"
        },
        "id": "1IMQrK-yt8cI",
        "outputId": "83a98c27-365f-49bf-b4f1-71671e7d0f52"
      },
      "execution_count": null,
      "outputs": [
        {
          "output_type": "stream",
          "name": "stdout",
          "text": [
            "   Variable        VIF\n",
            "0        x2  32.503661\n",
            "1        x4  17.082546\n",
            "2        x5  20.684378\n",
            "3        x6  27.846901\n",
            "4        x8  32.698101\n",
            "5        x9  38.222684\n",
            "6       x10  14.545450\n",
            "7       x11  13.401176\n",
            "8       x12   5.416225\n",
            "9       x13  28.554843\n",
            "10      x14  36.818143\n",
            "11      x15  39.236023\n",
            "12      x16   9.824282\n",
            "13      x19   6.518141\n",
            "----------------------------\n",
            "Max VIF: 39.23602277826294\n",
            "Factor: x15 - Численность населения на одну больничную койку, на конец года, человек\n"
          ]
        }
      ]
    },
    {
      "cell_type": "code",
      "source": [
        "X = X.drop(['x15'], axis=1)"
      ],
      "metadata": {
        "id": "aRiS3HFzvgRx"
      },
      "execution_count": null,
      "outputs": []
    },
    {
      "cell_type": "code",
      "source": [
        "find_vif(X)"
      ],
      "metadata": {
        "colab": {
          "base_uri": "https://localhost:8080/"
        },
        "id": "983HfsH2vj8g",
        "outputId": "c14a38bd-2b09-43d5-c875-edbec5f28578"
      },
      "execution_count": null,
      "outputs": [
        {
          "output_type": "stream",
          "name": "stdout",
          "text": [
            "   Variable        VIF\n",
            "0        x2  30.371661\n",
            "1        x4  15.855781\n",
            "2        x5  19.957528\n",
            "3        x6  27.804845\n",
            "4        x8  32.407594\n",
            "5        x9  34.841691\n",
            "6       x10  13.807134\n",
            "7       x11  11.277051\n",
            "8       x12   5.380404\n",
            "9       x13  28.425689\n",
            "10      x14  35.059960\n",
            "11      x16   9.100020\n",
            "12      x19   6.307219\n",
            "----------------------------\n",
            "Max VIF: 35.05995996073462\n",
            "Factor: x14 - Численность врачей всех специальностей: На 10 000 человек населения (человек)\n"
          ]
        }
      ]
    },
    {
      "cell_type": "code",
      "source": [
        "X = X.drop(['x14'], axis=1)"
      ],
      "metadata": {
        "id": "VpxFVXB7vlVa"
      },
      "execution_count": null,
      "outputs": []
    },
    {
      "cell_type": "code",
      "source": [
        "find_vif(X)"
      ],
      "metadata": {
        "colab": {
          "base_uri": "https://localhost:8080/"
        },
        "id": "XuhyG0PUvooL",
        "outputId": "433aa9c4-65f5-4d82-e138-446a21fc54d9"
      },
      "execution_count": null,
      "outputs": [
        {
          "output_type": "stream",
          "name": "stdout",
          "text": [
            "   Variable        VIF\n",
            "0        x2  29.784251\n",
            "1        x4  15.799409\n",
            "2        x5  19.919589\n",
            "3        x6  27.721139\n",
            "4        x8  32.314814\n",
            "5        x9  34.169208\n",
            "6       x10  11.079403\n",
            "7       x11  10.763360\n",
            "8       x12   4.904102\n",
            "9       x13  26.688248\n",
            "10      x16   8.357211\n",
            "11      x19   6.059217\n",
            "----------------------------\n",
            "Max VIF: 34.169208360410764\n",
            "Factor: x9 - Потребление сахара (на душу населения в год, кг)\n"
          ]
        }
      ]
    },
    {
      "cell_type": "code",
      "source": [
        "X = X.drop(['x9'], axis=1)"
      ],
      "metadata": {
        "id": "It8yn6ljvrCF"
      },
      "execution_count": null,
      "outputs": []
    },
    {
      "cell_type": "code",
      "source": [
        "find_vif(X)"
      ],
      "metadata": {
        "colab": {
          "base_uri": "https://localhost:8080/"
        },
        "id": "N-ymM3Hivs-m",
        "outputId": "ed0bbe73-1bed-4130-94a9-d9be3cbc905c"
      },
      "execution_count": null,
      "outputs": [
        {
          "output_type": "stream",
          "name": "stdout",
          "text": [
            "   Variable        VIF\n",
            "0        x2  29.025116\n",
            "1        x4  14.502966\n",
            "2        x5  19.718269\n",
            "3        x6  25.543981\n",
            "4        x8  29.061408\n",
            "5       x10  10.966331\n",
            "6       x11  10.763267\n",
            "7       x12   4.904087\n",
            "8       x13  26.683919\n",
            "9       x16   8.350926\n",
            "10      x19   6.007994\n",
            "----------------------------\n",
            "Max VIF: 29.061407827770704\n",
            "Factor: x8 - Потребление масла растительного (на душу населения в год, кг)\n"
          ]
        }
      ]
    },
    {
      "cell_type": "code",
      "source": [
        "X = X.drop(['x8'], axis=1)"
      ],
      "metadata": {
        "id": "sTuHUzWYvumv"
      },
      "execution_count": null,
      "outputs": []
    },
    {
      "cell_type": "code",
      "source": [
        "find_vif(X)"
      ],
      "metadata": {
        "colab": {
          "base_uri": "https://localhost:8080/"
        },
        "id": "46AjXXjZvv-N",
        "outputId": "32712a86-8af5-452b-df72-0073874403eb"
      },
      "execution_count": null,
      "outputs": [
        {
          "output_type": "stream",
          "name": "stdout",
          "text": [
            "  Variable        VIF\n",
            "0       x2  27.717819\n",
            "1       x4  14.152702\n",
            "2       x5  18.984221\n",
            "3       x6  25.178960\n",
            "4      x10  10.418060\n",
            "5      x11  10.538823\n",
            "6      x12   4.896733\n",
            "7      x13  26.021539\n",
            "8      x16   8.234812\n",
            "9      x19   6.003003\n",
            "----------------------------\n",
            "Max VIF: 27.71781912804073\n",
            "Factor: x2 - Потребление молока (на душу населения в год, кг)\n"
          ]
        }
      ]
    },
    {
      "cell_type": "code",
      "source": [
        "X = X.drop(['x2'], axis=1)"
      ],
      "metadata": {
        "id": "RrdocGlNvxVj"
      },
      "execution_count": null,
      "outputs": []
    },
    {
      "cell_type": "code",
      "source": [
        "find_vif(X)"
      ],
      "metadata": {
        "colab": {
          "base_uri": "https://localhost:8080/"
        },
        "id": "mCF-YicKvy6r",
        "outputId": "af731582-a35e-4184-a87a-f72dff6ee769"
      },
      "execution_count": null,
      "outputs": [
        {
          "output_type": "stream",
          "name": "stdout",
          "text": [
            "  Variable        VIF\n",
            "0       x4  13.943837\n",
            "1       x5  18.096913\n",
            "2       x6  24.613551\n",
            "3      x10  10.412489\n",
            "4      x11   9.915311\n",
            "5      x12   4.896621\n",
            "6      x13  21.680368\n",
            "7      x16   8.091401\n",
            "8      x19   5.995525\n",
            "----------------------------\n",
            "Max VIF: 24.613551080978205\n",
            "Factor: x6 - Потребление фруктов (на душу населения в год, кг)\n"
          ]
        }
      ]
    },
    {
      "cell_type": "code",
      "source": [
        "X = X.drop(['x6'], axis=1)"
      ],
      "metadata": {
        "id": "ba4tRYtCv0HO"
      },
      "execution_count": null,
      "outputs": []
    },
    {
      "cell_type": "code",
      "source": [
        "find_vif(X)"
      ],
      "metadata": {
        "colab": {
          "base_uri": "https://localhost:8080/"
        },
        "id": "XwzqEyUSv2ZD",
        "outputId": "ef354cd5-5093-42fb-e682-b88702bec982"
      },
      "execution_count": null,
      "outputs": [
        {
          "output_type": "stream",
          "name": "stdout",
          "text": [
            "  Variable        VIF\n",
            "0       x4  13.548681\n",
            "1       x5  11.294185\n",
            "2      x10   9.283453\n",
            "3      x11   9.614674\n",
            "4      x12   4.884793\n",
            "5      x13  20.897810\n",
            "6      x16   8.046323\n",
            "7      x19   5.933507\n",
            "----------------------------\n",
            "Max VIF: 20.897810384665025\n",
            "Factor: x13 - Заболеваемость на 1000 человек населения, зарегистрировано заболеваний у пациентов с диагнозом, установленным впервые в жизни\n"
          ]
        }
      ]
    },
    {
      "cell_type": "code",
      "source": [
        "X = X.drop(['x13'], axis=1)"
      ],
      "metadata": {
        "id": "dPds9qusv3kK"
      },
      "execution_count": null,
      "outputs": []
    },
    {
      "cell_type": "code",
      "source": [
        "find_vif(X)"
      ],
      "metadata": {
        "colab": {
          "base_uri": "https://localhost:8080/"
        },
        "id": "w1CkUHoav5VN",
        "outputId": "71ddd891-c0cf-4515-d3df-89cd16ff9933"
      },
      "execution_count": null,
      "outputs": [
        {
          "output_type": "stream",
          "name": "stdout",
          "text": [
            "  Variable        VIF\n",
            "0       x4  11.852822\n",
            "1       x5  11.202036\n",
            "2      x10   7.162615\n",
            "3      x11   8.429334\n",
            "4      x12   4.825977\n",
            "5      x16   8.002733\n",
            "6      x19   5.676290\n",
            "----------------------------\n",
            "Max VIF: 11.852822428283824\n",
            "Factor: x4 - Потребление картофеля (на душу населения в год, кг)\n"
          ]
        }
      ]
    },
    {
      "cell_type": "code",
      "source": [
        "X = X.drop(['x4'], axis=1)"
      ],
      "metadata": {
        "id": "dM9M6HVbv7Gd"
      },
      "execution_count": null,
      "outputs": []
    },
    {
      "cell_type": "code",
      "source": [
        "find_vif(X)"
      ],
      "metadata": {
        "colab": {
          "base_uri": "https://localhost:8080/"
        },
        "id": "NX6z_9b3v8vZ",
        "outputId": "3e3a6bbb-6755-4c4c-d483-4b048f20db9d"
      },
      "execution_count": null,
      "outputs": [
        {
          "output_type": "stream",
          "name": "stdout",
          "text": [
            "  Variable       VIF\n",
            "0       x5  9.439803\n",
            "1      x10  6.921307\n",
            "2      x11  7.495760\n",
            "3      x12  4.793158\n",
            "4      x16  7.999198\n",
            "5      x19  5.162128\n",
            "----------------------------\n",
            "Max VIF: 9.43980330930749\n",
            "Factor: x5 - Потребление овощей (на душу населения в год, кг)\n"
          ]
        }
      ]
    },
    {
      "cell_type": "code",
      "source": [
        "X = X.drop(['x5'], axis=1)"
      ],
      "metadata": {
        "id": "3mfsjbGzwAOq"
      },
      "execution_count": null,
      "outputs": []
    },
    {
      "cell_type": "code",
      "source": [
        "find_vif(X)"
      ],
      "metadata": {
        "colab": {
          "base_uri": "https://localhost:8080/"
        },
        "id": "3PgeVPK5wB9O",
        "outputId": "9dedc6fb-2ff9-4980-81c7-633768da645b"
      },
      "execution_count": null,
      "outputs": [
        {
          "output_type": "stream",
          "name": "stdout",
          "text": [
            "  Variable       VIF\n",
            "0      x10  5.853441\n",
            "1      x11  5.463994\n",
            "2      x12  4.529420\n",
            "3      x16  7.451493\n",
            "4      x19  5.067744\n",
            "----------------------------\n",
            "Max VIF: 7.451492709143343\n",
            "Factor: x16 - Численность населения, оценка на конец года, тысяч человек\n"
          ]
        }
      ]
    },
    {
      "cell_type": "code",
      "source": [
        "X = X.drop(['x16'], axis=1)"
      ],
      "metadata": {
        "id": "ia-tdJ3jwDVp"
      },
      "execution_count": null,
      "outputs": []
    },
    {
      "cell_type": "code",
      "source": [
        "find_vif(X)"
      ],
      "metadata": {
        "colab": {
          "base_uri": "https://localhost:8080/"
        },
        "id": "7iocMjizwG2k",
        "outputId": "f74c2ec9-68aa-460f-d31a-6831b593ea15"
      },
      "execution_count": null,
      "outputs": [
        {
          "output_type": "stream",
          "name": "stdout",
          "text": [
            "  Variable       VIF\n",
            "0      x10  4.676528\n",
            "1      x11  5.418519\n",
            "2      x12  1.677704\n",
            "3      x19  4.995283\n",
            "----------------------------\n",
            "Max VIF: 5.418518607920792\n",
            "Factor: x11 - Численность населения с денежными доходами ниже границы бедности/величины прожиточного минимума в процентах от общей численности населения субъекта\n"
          ]
        }
      ]
    },
    {
      "cell_type": "code",
      "source": [
        "X = X.drop(['x11'], axis=1)"
      ],
      "metadata": {
        "id": "JU6QcduXwIJP"
      },
      "execution_count": null,
      "outputs": []
    },
    {
      "cell_type": "code",
      "source": [
        "find_vif(X)"
      ],
      "metadata": {
        "colab": {
          "base_uri": "https://localhost:8080/"
        },
        "id": "ahzlKRbVwKJd",
        "outputId": "b0975818-bd1d-4426-a0f4-aff388efbaee"
      },
      "execution_count": null,
      "outputs": [
        {
          "output_type": "stream",
          "name": "stdout",
          "text": [
            "  Variable       VIF\n",
            "0      x10  3.584105\n",
            "1      x12  1.509722\n",
            "2      x19  3.139488\n",
            "----------------------------\n",
            "Max VIF: 3.5841047774563415\n",
            "Factor: x10 - Среднедушевые денежные доходы населения в месяц, рублей\n"
          ]
        }
      ]
    },
    {
      "cell_type": "markdown",
      "source": [
        "после чистки осталось совсем мало факторов, однако в них нет эффекта мультиколлинеарности"
      ],
      "metadata": {
        "id": "VQ01KfHtwMhM"
      }
    },
    {
      "cell_type": "code",
      "source": [
        "for factor in X:\n",
        "  print(factor, factors[factor])"
      ],
      "metadata": {
        "colab": {
          "base_uri": "https://localhost:8080/"
        },
        "id": "nRraT56MwUKj",
        "outputId": "0d50b1b2-0de2-45f4-c710-9380fbaec489"
      },
      "execution_count": null,
      "outputs": [
        {
          "output_type": "stream",
          "name": "stdout",
          "text": [
            "x10 Среднедушевые денежные доходы населения в месяц, рублей\n",
            "x12 Выпуск бакалавров, специалистов, магистров (тысяч человек)\n",
            "x19 Уровень загрязнения воздуха (низкий, повышенный, высокий, очень высокий)\n"
          ]
        }
      ]
    },
    {
      "cell_type": "markdown",
      "source": [
        "# Модель на всех факторах без преобразования данных"
      ],
      "metadata": {
        "id": "8mTl5Ch5waVA"
      }
    },
    {
      "cell_type": "code",
      "source": [
        "import statsmodels.api as sm"
      ],
      "metadata": {
        "id": "71aABDxIwqM_"
      },
      "execution_count": null,
      "outputs": []
    },
    {
      "cell_type": "code",
      "source": [
        "X = df.drop(['region', 'year', 'y'], axis=1)\n",
        "y = df['y']\n",
        "X = sm.add_constant(X)\n",
        "model = sm.OLS(y, X).fit()\n",
        "print(model.summary())"
      ],
      "metadata": {
        "colab": {
          "base_uri": "https://localhost:8080/"
        },
        "id": "TNuNFqBcwiIO",
        "outputId": "9070b959-1bfc-4264-df70-a0690827e804"
      },
      "execution_count": null,
      "outputs": [
        {
          "output_type": "stream",
          "name": "stdout",
          "text": [
            "                            OLS Regression Results                            \n",
            "==============================================================================\n",
            "Dep. Variable:                      y   R-squared:                       0.713\n",
            "Model:                            OLS   Adj. R-squared:                  0.707\n",
            "Method:                 Least Squares   F-statistic:                     108.3\n",
            "Date:                Fri, 21 Mar 2025   Prob (F-statistic):          3.48e-209\n",
            "Time:                        11:13:13   Log-Likelihood:                -1467.1\n",
            "No. Observations:                 847   AIC:                             2974.\n",
            "Df Residuals:                     827   BIC:                             3069.\n",
            "Df Model:                          19                                         \n",
            "Covariance Type:            nonrobust                                         \n",
            "==============================================================================\n",
            "                 coef    std err          t      P>|t|      [0.025      0.975]\n",
            "------------------------------------------------------------------------------\n",
            "const         62.3924      1.863     33.487      0.000      58.735      66.050\n",
            "x1            -0.0119      0.004     -2.662      0.008      -0.021      -0.003\n",
            "x2             0.0008      0.001      0.601      0.548      -0.002       0.003\n",
            "x3             0.0022      0.001      1.555      0.120      -0.001       0.005\n",
            "x4            -0.0025      0.002     -1.184      0.237      -0.007       0.002\n",
            "x5             0.0192      0.002      8.739      0.000       0.015       0.023\n",
            "x6             0.0068      0.004      1.530      0.126      -0.002       0.016\n",
            "x7            -0.0069      0.003     -2.334      0.020      -0.013      -0.001\n",
            "x8            -0.0965      0.024     -4.006      0.000      -0.144      -0.049\n",
            "x9             0.0146      0.008      1.738      0.082      -0.002       0.031\n",
            "x10        -2.267e-05   7.36e-06     -3.080      0.002   -3.71e-05   -8.22e-06\n",
            "x11            0.0115      0.015      0.756      0.450      -0.018       0.041\n",
            "x12            0.0249      0.004      5.883      0.000       0.017       0.033\n",
            "x13           -0.0021      0.000     -5.764      0.000      -0.003      -0.001\n",
            "x14            0.0575      0.007      8.477      0.000       0.044       0.071\n",
            "x15            0.0725      0.003     24.310      0.000       0.067       0.078\n",
            "x16         5.794e-05   6.33e-05      0.915      0.360   -6.64e-05       0.000\n",
            "x17           -0.0021      0.001     -1.419      0.156      -0.005       0.001\n",
            "x18            0.0067      0.002      2.756      0.006       0.002       0.011\n",
            "x19           -0.6847      0.062    -10.986      0.000      -0.807      -0.562\n",
            "==============================================================================\n",
            "Omnibus:                        3.615   Durbin-Watson:                   0.585\n",
            "Prob(Omnibus):                  0.164   Jarque-Bera (JB):                3.453\n",
            "Skew:                          -0.144   Prob(JB):                        0.178\n",
            "Kurtosis:                       3.122   Cond. No.                     1.11e+06\n",
            "==============================================================================\n",
            "\n",
            "Notes:\n",
            "[1] Standard Errors assume that the covariance matrix of the errors is correctly specified.\n",
            "[2] The condition number is large, 1.11e+06. This might indicate that there are\n",
            "strong multicollinearity or other numerical problems.\n"
          ]
        }
      ]
    }
  ]
}