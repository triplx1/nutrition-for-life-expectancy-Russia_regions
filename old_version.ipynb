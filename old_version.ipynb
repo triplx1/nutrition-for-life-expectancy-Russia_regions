{
  "nbformat": 4,
  "nbformat_minor": 0,
  "metadata": {
    "colab": {
      "provenance": [],
      "collapsed_sections": [
        "tPcpbv_oZVUE"
      ]
    },
    "kernelspec": {
      "name": "python3",
      "display_name": "Python 3"
    },
    "language_info": {
      "name": "python"
    }
  },
  "cells": [
    {
      "cell_type": "markdown",
      "source": [
        "# Постановка задачи"
      ],
      "metadata": {
        "id": "msINdy0AZGNO"
      }
    },
    {
      "cell_type": "markdown",
      "source": [
        "Выявить влияние продуктов на продолжительность жизни"
      ],
      "metadata": {
        "id": "c9pQedHjZKi9"
      }
    },
    {
      "cell_type": "markdown",
      "source": [
        "**Данные:**\n",
        "\n",
        "**Ожидаемая продолжительность жизни при рождении (ЕМИСС):**\n",
        "\n",
        "https://www.fedstat.ru/indicator/31293\n",
        "\n",
        "**Потребление основных продуктов питания (Росстат):**\n",
        "\n",
        "https://rosstat.gov.ru/compendium/document/13278\n",
        "\n",
        "\n",
        "**Социально-экономические, демографические, здравоохрание:**\n",
        "\n",
        "https://tochno.st/datasets/regions_collection\n",
        "\n",
        "**Экология:**\n",
        "\n",
        "https://tochno.st/datasets/air_cities\n"
      ],
      "metadata": {
        "id": "6lKsPs9dFOi3"
      }
    },
    {
      "cell_type": "markdown",
      "source": [
        "# Предобработка данных"
      ],
      "metadata": {
        "id": "tPcpbv_oZVUE"
      }
    },
    {
      "cell_type": "markdown",
      "source": [
        "Библиотеки"
      ],
      "metadata": {
        "id": "iPRN2yCsZZoW"
      }
    },
    {
      "cell_type": "code",
      "source": [
        "import pandas as pd"
      ],
      "metadata": {
        "id": "0BAYEAsa_nI2"
      },
      "execution_count": null,
      "outputs": []
    },
    {
      "cell_type": "markdown",
      "source": [
        "Функции"
      ],
      "metadata": {
        "id": "cyk0YjcNZa3d"
      }
    },
    {
      "cell_type": "code",
      "source": [
        "def clean_reg(name):\n",
        "  return name.replace(' ', '').replace('г.', '').replace('–', '').replace('-', '').lower()\n",
        "\n",
        "def del_reg(df):\n",
        "  return df.loc[\n",
        "    (df['region'] != 'Российская Федерация') & # не регион\n",
        "    (~df['region'].str.contains('округ', case=False)) & # не регион\n",
        "    (~df['region'].str.contains('Крым', case=False)) & # данные с 2014 года\n",
        "    (~df['region'].str.contains('Севастополь', case=False))& # данные с 2014 года\n",
        "    (~df['region'].str.contains('Чеченская и Ингушская', case=False)) & # неполнные данные\n",
        "    (~df['region'].str.contains('Костромская', case=False)) & # неполнные данные\n",
        "    (~df['region'].str.contains('Томская', case=False)) # неполнные данные\n",
        "    ].drop_duplicates(subset=['region'], keep='first').reset_index(drop=True)"
      ],
      "metadata": {
        "id": "X6fKY1twRFb6"
      },
      "execution_count": null,
      "outputs": []
    },
    {
      "cell_type": "markdown",
      "source": [
        "Загружаем и фильтруем Y - ожидаемую продолжительность жизни"
      ],
      "metadata": {
        "id": "egV0rQUf9dyM"
      }
    },
    {
      "cell_type": "code",
      "execution_count": null,
      "metadata": {
        "id": "qMNnnNf-9U1x"
      },
      "outputs": [],
      "source": [
        "df_y = pd.read_excel('data.xls', header = 2)\n",
        "df_y.columns = ['region', 'gender', 'category', 'type'] + list(df_y.columns[4:])\n",
        "\n",
        "df_y = df_y[(df_y['gender'] == 'Оба пола') & (df_y['category'] == 'все население')] # Фильтрация\n",
        "df_y = df_y[['region'] + [str(year) for year in range(2011, 2022)]] # Оставляем только нужные нам даты и названия регионов\n",
        "df_y = df_y = df_y.reset_index(drop=True) # Сброс индексов"
      ]
    },
    {
      "cell_type": "markdown",
      "source": [
        "Загружаем Иксы: потребление продуктов питания"
      ],
      "metadata": {
        "id": "pz23jxXbZo_U"
      }
    },
    {
      "cell_type": "code",
      "source": [
        "xls = pd.ExcelFile('Potreb_Svod_2011-2021.xlsx')\n",
        "\n",
        "dfs_x = {}\n",
        "for sheet_name in xls.sheet_names[1:]:  # Начинаем с индекса 1, чтобы пропустить первый лист \"содержание\"\n",
        "    df = pd.read_excel(xls, sheet_name=sheet_name, header=4)  # Читаем данные с заголовком на 4-й строке\n",
        "    df.columns = ['region'] + list(df.columns[1:])\n",
        "    dfs_x[sheet_name] = df  # Сохраняем DataFrame в словаре по имени листа"
      ],
      "metadata": {
        "id": "ERgUMRwjF9Dy"
      },
      "execution_count": null,
      "outputs": []
    },
    {
      "cell_type": "markdown",
      "source": [
        "Чистим названия регионов у Y (они не совпдают с названиями регионов у Иксов)"
      ],
      "metadata": {
        "id": "RFZ7NZGiZ0Uv"
      }
    },
    {
      "cell_type": "code",
      "source": [
        "for region in dfs_x['мясо'].region.unique():\n",
        "  for i in range(len(df_y)):\n",
        "    if clean_reg(region) in clean_reg(df_y.loc[i, 'region']):\n",
        "      df_y.at[i, 'region'] = region"
      ],
      "metadata": {
        "id": "w-_OiBK2EWum"
      },
      "execution_count": null,
      "outputs": []
    },
    {
      "cell_type": "markdown",
      "source": [
        "Объединяем датасеты в один"
      ],
      "metadata": {
        "id": "KVVVgeVTZ_5p"
      }
    },
    {
      "cell_type": "code",
      "source": [
        "df = del_reg(df_y)\n",
        "df = pd.melt(df, id_vars=['region'], var_name='year', value_name='y')\n",
        "df['year'] = df['year'].astype(int)\n",
        "\n",
        "k = 0\n",
        "x_names = ''\n",
        "for name, df_x in dfs_x.items():\n",
        "    k += 1\n",
        "    line = f\"Фактор: {name}, название: x{k}\"\n",
        "    x_names += line + '\\n'\n",
        "    print(line)\n",
        "    df_x = del_reg(df_x[:91])\n",
        "    df_x = pd.melt(df_x, id_vars=['region'], var_name='year', value_name='x'+str(k))\n",
        "    df = pd.merge(df, df_x, on=['region', 'year'], how='outer')"
      ],
      "metadata": {
        "colab": {
          "base_uri": "https://localhost:8080/"
        },
        "id": "DmFcAhVnEWHJ",
        "outputId": "9f177e23-0171-491c-db62-073ec123c62d"
      },
      "execution_count": null,
      "outputs": [
        {
          "output_type": "stream",
          "name": "stdout",
          "text": [
            "Фактор: мясо, название: x1\n",
            "Фактор: молоко, название: x2\n",
            "Фактор: яйца, название: x3\n",
            "Фактор: картофель, название: x4\n",
            "Фактор: овощи, название: x5\n",
            "Фактор: фрукты, название: x6\n",
            "Фактор: хлебные, название: x7\n",
            "Фактор: масло раст, название: x8\n",
            "Фактор: сахар, название: x9\n"
          ]
        }
      ]
    },
    {
      "cell_type": "markdown",
      "source": [
        "Проверка пустых значений"
      ],
      "metadata": {
        "id": "p6JzXpqHYFwS"
      }
    },
    {
      "cell_type": "code",
      "source": [
        "df.isnull().sum()"
      ],
      "metadata": {
        "colab": {
          "base_uri": "https://localhost:8080/",
          "height": 460
        },
        "id": "Kd3L0JBTR5Nt",
        "outputId": "00dae798-70cf-4d36-a46e-b58861d56329"
      },
      "execution_count": null,
      "outputs": [
        {
          "output_type": "execute_result",
          "data": {
            "text/plain": [
              "region    0\n",
              "year      0\n",
              "y         0\n",
              "x1        0\n",
              "x2        0\n",
              "x3        0\n",
              "x4        0\n",
              "x5        0\n",
              "x6        0\n",
              "x7        0\n",
              "x8        0\n",
              "x9        0\n",
              "dtype: int64"
            ],
            "text/html": [
              "<div>\n",
              "<style scoped>\n",
              "    .dataframe tbody tr th:only-of-type {\n",
              "        vertical-align: middle;\n",
              "    }\n",
              "\n",
              "    .dataframe tbody tr th {\n",
              "        vertical-align: top;\n",
              "    }\n",
              "\n",
              "    .dataframe thead th {\n",
              "        text-align: right;\n",
              "    }\n",
              "</style>\n",
              "<table border=\"1\" class=\"dataframe\">\n",
              "  <thead>\n",
              "    <tr style=\"text-align: right;\">\n",
              "      <th></th>\n",
              "      <th>0</th>\n",
              "    </tr>\n",
              "  </thead>\n",
              "  <tbody>\n",
              "    <tr>\n",
              "      <th>region</th>\n",
              "      <td>0</td>\n",
              "    </tr>\n",
              "    <tr>\n",
              "      <th>year</th>\n",
              "      <td>0</td>\n",
              "    </tr>\n",
              "    <tr>\n",
              "      <th>y</th>\n",
              "      <td>0</td>\n",
              "    </tr>\n",
              "    <tr>\n",
              "      <th>x1</th>\n",
              "      <td>0</td>\n",
              "    </tr>\n",
              "    <tr>\n",
              "      <th>x2</th>\n",
              "      <td>0</td>\n",
              "    </tr>\n",
              "    <tr>\n",
              "      <th>x3</th>\n",
              "      <td>0</td>\n",
              "    </tr>\n",
              "    <tr>\n",
              "      <th>x4</th>\n",
              "      <td>0</td>\n",
              "    </tr>\n",
              "    <tr>\n",
              "      <th>x5</th>\n",
              "      <td>0</td>\n",
              "    </tr>\n",
              "    <tr>\n",
              "      <th>x6</th>\n",
              "      <td>0</td>\n",
              "    </tr>\n",
              "    <tr>\n",
              "      <th>x7</th>\n",
              "      <td>0</td>\n",
              "    </tr>\n",
              "    <tr>\n",
              "      <th>x8</th>\n",
              "      <td>0</td>\n",
              "    </tr>\n",
              "    <tr>\n",
              "      <th>x9</th>\n",
              "      <td>0</td>\n",
              "    </tr>\n",
              "  </tbody>\n",
              "</table>\n",
              "</div><br><label><b>dtype:</b> int64</label>"
            ]
          },
          "metadata": {},
          "execution_count": 29
        }
      ]
    },
    {
      "cell_type": "markdown",
      "source": [
        "Проверка типизации"
      ],
      "metadata": {
        "id": "b0EXeoaNaFIH"
      }
    },
    {
      "cell_type": "code",
      "source": [
        "df.dtypes"
      ],
      "metadata": {
        "colab": {
          "base_uri": "https://localhost:8080/",
          "height": 460
        },
        "id": "RQKZd323YKhW",
        "outputId": "ef3eaa92-ce5a-4bfe-fa2e-361ee33827e5"
      },
      "execution_count": null,
      "outputs": [
        {
          "output_type": "execute_result",
          "data": {
            "text/plain": [
              "region     object\n",
              "year       object\n",
              "y          object\n",
              "x1          int64\n",
              "x2          int64\n",
              "x3          int64\n",
              "x4        float64\n",
              "x5        float64\n",
              "x6        float64\n",
              "x7          int64\n",
              "x8        float64\n",
              "x9        float64\n",
              "dtype: object"
            ],
            "text/html": [
              "<div>\n",
              "<style scoped>\n",
              "    .dataframe tbody tr th:only-of-type {\n",
              "        vertical-align: middle;\n",
              "    }\n",
              "\n",
              "    .dataframe tbody tr th {\n",
              "        vertical-align: top;\n",
              "    }\n",
              "\n",
              "    .dataframe thead th {\n",
              "        text-align: right;\n",
              "    }\n",
              "</style>\n",
              "<table border=\"1\" class=\"dataframe\">\n",
              "  <thead>\n",
              "    <tr style=\"text-align: right;\">\n",
              "      <th></th>\n",
              "      <th>0</th>\n",
              "    </tr>\n",
              "  </thead>\n",
              "  <tbody>\n",
              "    <tr>\n",
              "      <th>region</th>\n",
              "      <td>object</td>\n",
              "    </tr>\n",
              "    <tr>\n",
              "      <th>year</th>\n",
              "      <td>object</td>\n",
              "    </tr>\n",
              "    <tr>\n",
              "      <th>y</th>\n",
              "      <td>object</td>\n",
              "    </tr>\n",
              "    <tr>\n",
              "      <th>x1</th>\n",
              "      <td>int64</td>\n",
              "    </tr>\n",
              "    <tr>\n",
              "      <th>x2</th>\n",
              "      <td>int64</td>\n",
              "    </tr>\n",
              "    <tr>\n",
              "      <th>x3</th>\n",
              "      <td>int64</td>\n",
              "    </tr>\n",
              "    <tr>\n",
              "      <th>x4</th>\n",
              "      <td>float64</td>\n",
              "    </tr>\n",
              "    <tr>\n",
              "      <th>x5</th>\n",
              "      <td>float64</td>\n",
              "    </tr>\n",
              "    <tr>\n",
              "      <th>x6</th>\n",
              "      <td>float64</td>\n",
              "    </tr>\n",
              "    <tr>\n",
              "      <th>x7</th>\n",
              "      <td>int64</td>\n",
              "    </tr>\n",
              "    <tr>\n",
              "      <th>x8</th>\n",
              "      <td>float64</td>\n",
              "    </tr>\n",
              "    <tr>\n",
              "      <th>x9</th>\n",
              "      <td>float64</td>\n",
              "    </tr>\n",
              "  </tbody>\n",
              "</table>\n",
              "</div><br><label><b>dtype:</b> object</label>"
            ]
          },
          "metadata": {},
          "execution_count": 30
        }
      ]
    },
    {
      "cell_type": "code",
      "source": [
        "df['year'], df['y'] = df['year'].astype(int), df['y'].astype(float) # стобцы year и y сделаем int и float соответственно"
      ],
      "metadata": {
        "id": "Umwtjeg5YMqz"
      },
      "execution_count": null,
      "outputs": []
    },
    {
      "cell_type": "markdown",
      "source": [
        "Получившийся датасет"
      ],
      "metadata": {
        "id": "b_iduDw4aYNr"
      }
    },
    {
      "cell_type": "code",
      "source": [
        "df"
      ],
      "metadata": {
        "colab": {
          "base_uri": "https://localhost:8080/",
          "height": 424
        },
        "id": "FIa-rCj0YhHr",
        "outputId": "93868566-0fa0-4a88-ae5e-79414875fa95"
      },
      "execution_count": null,
      "outputs": [
        {
          "output_type": "execute_result",
          "data": {
            "text/plain": [
              "                 region  year      y  x1   x2   x3     x4    x5    x6   x7  \\\n",
              "0        Алтайский край  2011  68.94  65  323  307  117.0  90.0  50.0  169   \n",
              "1        Алтайский край  2012  69.01  69  320  309  116.0  87.0  51.0  168   \n",
              "2        Алтайский край  2013  69.60  69  318  310  112.0  85.0  55.0  168   \n",
              "3        Алтайский край  2014  69.77  67  304  312  106.0  82.0  55.0  168   \n",
              "4        Алтайский край  2015  70.13  62  284  318   98.0  81.0  54.0  163   \n",
              "..                  ...   ...    ...  ..  ...  ...    ...   ...   ...  ...   \n",
              "842  г. Санкт-Петербург  2017  75.48  71  297  317   67.0  82.0  59.0   85   \n",
              "843  г. Санкт-Петербург  2018  75.97  71  289  319   63.0  82.0  58.0   82   \n",
              "844  г. Санкт-Петербург  2019  76.38  70  288  322   62.0  83.0  60.0   83   \n",
              "845  г. Санкт-Петербург  2020  74.23  71  300  335   60.0  83.0  58.0   83   \n",
              "846  г. Санкт-Петербург  2021  72.89  74  298  331   58.0  80.0  60.0   83   \n",
              "\n",
              "       x8    x9  \n",
              "0    12.8  40.0  \n",
              "1    13.6  38.0  \n",
              "2    13.9  39.0  \n",
              "3    14.5  39.0  \n",
              "4    14.3  38.0  \n",
              "..    ...   ...  \n",
              "842  11.0  36.0  \n",
              "843  10.8  36.0  \n",
              "844  10.8  36.0  \n",
              "845  10.8  36.0  \n",
              "846  10.9  36.0  \n",
              "\n",
              "[847 rows x 12 columns]"
            ],
            "text/html": [
              "\n",
              "  <div id=\"df-85aa2cd2-2f48-466f-8457-564df5a331e1\" class=\"colab-df-container\">\n",
              "    <div>\n",
              "<style scoped>\n",
              "    .dataframe tbody tr th:only-of-type {\n",
              "        vertical-align: middle;\n",
              "    }\n",
              "\n",
              "    .dataframe tbody tr th {\n",
              "        vertical-align: top;\n",
              "    }\n",
              "\n",
              "    .dataframe thead th {\n",
              "        text-align: right;\n",
              "    }\n",
              "</style>\n",
              "<table border=\"1\" class=\"dataframe\">\n",
              "  <thead>\n",
              "    <tr style=\"text-align: right;\">\n",
              "      <th></th>\n",
              "      <th>region</th>\n",
              "      <th>year</th>\n",
              "      <th>y</th>\n",
              "      <th>x1</th>\n",
              "      <th>x2</th>\n",
              "      <th>x3</th>\n",
              "      <th>x4</th>\n",
              "      <th>x5</th>\n",
              "      <th>x6</th>\n",
              "      <th>x7</th>\n",
              "      <th>x8</th>\n",
              "      <th>x9</th>\n",
              "    </tr>\n",
              "  </thead>\n",
              "  <tbody>\n",
              "    <tr>\n",
              "      <th>0</th>\n",
              "      <td>Алтайский край</td>\n",
              "      <td>2011</td>\n",
              "      <td>68.94</td>\n",
              "      <td>65</td>\n",
              "      <td>323</td>\n",
              "      <td>307</td>\n",
              "      <td>117.0</td>\n",
              "      <td>90.0</td>\n",
              "      <td>50.0</td>\n",
              "      <td>169</td>\n",
              "      <td>12.8</td>\n",
              "      <td>40.0</td>\n",
              "    </tr>\n",
              "    <tr>\n",
              "      <th>1</th>\n",
              "      <td>Алтайский край</td>\n",
              "      <td>2012</td>\n",
              "      <td>69.01</td>\n",
              "      <td>69</td>\n",
              "      <td>320</td>\n",
              "      <td>309</td>\n",
              "      <td>116.0</td>\n",
              "      <td>87.0</td>\n",
              "      <td>51.0</td>\n",
              "      <td>168</td>\n",
              "      <td>13.6</td>\n",
              "      <td>38.0</td>\n",
              "    </tr>\n",
              "    <tr>\n",
              "      <th>2</th>\n",
              "      <td>Алтайский край</td>\n",
              "      <td>2013</td>\n",
              "      <td>69.60</td>\n",
              "      <td>69</td>\n",
              "      <td>318</td>\n",
              "      <td>310</td>\n",
              "      <td>112.0</td>\n",
              "      <td>85.0</td>\n",
              "      <td>55.0</td>\n",
              "      <td>168</td>\n",
              "      <td>13.9</td>\n",
              "      <td>39.0</td>\n",
              "    </tr>\n",
              "    <tr>\n",
              "      <th>3</th>\n",
              "      <td>Алтайский край</td>\n",
              "      <td>2014</td>\n",
              "      <td>69.77</td>\n",
              "      <td>67</td>\n",
              "      <td>304</td>\n",
              "      <td>312</td>\n",
              "      <td>106.0</td>\n",
              "      <td>82.0</td>\n",
              "      <td>55.0</td>\n",
              "      <td>168</td>\n",
              "      <td>14.5</td>\n",
              "      <td>39.0</td>\n",
              "    </tr>\n",
              "    <tr>\n",
              "      <th>4</th>\n",
              "      <td>Алтайский край</td>\n",
              "      <td>2015</td>\n",
              "      <td>70.13</td>\n",
              "      <td>62</td>\n",
              "      <td>284</td>\n",
              "      <td>318</td>\n",
              "      <td>98.0</td>\n",
              "      <td>81.0</td>\n",
              "      <td>54.0</td>\n",
              "      <td>163</td>\n",
              "      <td>14.3</td>\n",
              "      <td>38.0</td>\n",
              "    </tr>\n",
              "    <tr>\n",
              "      <th>...</th>\n",
              "      <td>...</td>\n",
              "      <td>...</td>\n",
              "      <td>...</td>\n",
              "      <td>...</td>\n",
              "      <td>...</td>\n",
              "      <td>...</td>\n",
              "      <td>...</td>\n",
              "      <td>...</td>\n",
              "      <td>...</td>\n",
              "      <td>...</td>\n",
              "      <td>...</td>\n",
              "      <td>...</td>\n",
              "    </tr>\n",
              "    <tr>\n",
              "      <th>842</th>\n",
              "      <td>г. Санкт-Петербург</td>\n",
              "      <td>2017</td>\n",
              "      <td>75.48</td>\n",
              "      <td>71</td>\n",
              "      <td>297</td>\n",
              "      <td>317</td>\n",
              "      <td>67.0</td>\n",
              "      <td>82.0</td>\n",
              "      <td>59.0</td>\n",
              "      <td>85</td>\n",
              "      <td>11.0</td>\n",
              "      <td>36.0</td>\n",
              "    </tr>\n",
              "    <tr>\n",
              "      <th>843</th>\n",
              "      <td>г. Санкт-Петербург</td>\n",
              "      <td>2018</td>\n",
              "      <td>75.97</td>\n",
              "      <td>71</td>\n",
              "      <td>289</td>\n",
              "      <td>319</td>\n",
              "      <td>63.0</td>\n",
              "      <td>82.0</td>\n",
              "      <td>58.0</td>\n",
              "      <td>82</td>\n",
              "      <td>10.8</td>\n",
              "      <td>36.0</td>\n",
              "    </tr>\n",
              "    <tr>\n",
              "      <th>844</th>\n",
              "      <td>г. Санкт-Петербург</td>\n",
              "      <td>2019</td>\n",
              "      <td>76.38</td>\n",
              "      <td>70</td>\n",
              "      <td>288</td>\n",
              "      <td>322</td>\n",
              "      <td>62.0</td>\n",
              "      <td>83.0</td>\n",
              "      <td>60.0</td>\n",
              "      <td>83</td>\n",
              "      <td>10.8</td>\n",
              "      <td>36.0</td>\n",
              "    </tr>\n",
              "    <tr>\n",
              "      <th>845</th>\n",
              "      <td>г. Санкт-Петербург</td>\n",
              "      <td>2020</td>\n",
              "      <td>74.23</td>\n",
              "      <td>71</td>\n",
              "      <td>300</td>\n",
              "      <td>335</td>\n",
              "      <td>60.0</td>\n",
              "      <td>83.0</td>\n",
              "      <td>58.0</td>\n",
              "      <td>83</td>\n",
              "      <td>10.8</td>\n",
              "      <td>36.0</td>\n",
              "    </tr>\n",
              "    <tr>\n",
              "      <th>846</th>\n",
              "      <td>г. Санкт-Петербург</td>\n",
              "      <td>2021</td>\n",
              "      <td>72.89</td>\n",
              "      <td>74</td>\n",
              "      <td>298</td>\n",
              "      <td>331</td>\n",
              "      <td>58.0</td>\n",
              "      <td>80.0</td>\n",
              "      <td>60.0</td>\n",
              "      <td>83</td>\n",
              "      <td>10.9</td>\n",
              "      <td>36.0</td>\n",
              "    </tr>\n",
              "  </tbody>\n",
              "</table>\n",
              "<p>847 rows × 12 columns</p>\n",
              "</div>\n",
              "    <div class=\"colab-df-buttons\">\n",
              "\n",
              "  <div class=\"colab-df-container\">\n",
              "    <button class=\"colab-df-convert\" onclick=\"convertToInteractive('df-85aa2cd2-2f48-466f-8457-564df5a331e1')\"\n",
              "            title=\"Convert this dataframe to an interactive table.\"\n",
              "            style=\"display:none;\">\n",
              "\n",
              "  <svg xmlns=\"http://www.w3.org/2000/svg\" height=\"24px\" viewBox=\"0 -960 960 960\">\n",
              "    <path d=\"M120-120v-720h720v720H120Zm60-500h600v-160H180v160Zm220 220h160v-160H400v160Zm0 220h160v-160H400v160ZM180-400h160v-160H180v160Zm440 0h160v-160H620v160ZM180-180h160v-160H180v160Zm440 0h160v-160H620v160Z\"/>\n",
              "  </svg>\n",
              "    </button>\n",
              "\n",
              "  <style>\n",
              "    .colab-df-container {\n",
              "      display:flex;\n",
              "      gap: 12px;\n",
              "    }\n",
              "\n",
              "    .colab-df-convert {\n",
              "      background-color: #E8F0FE;\n",
              "      border: none;\n",
              "      border-radius: 50%;\n",
              "      cursor: pointer;\n",
              "      display: none;\n",
              "      fill: #1967D2;\n",
              "      height: 32px;\n",
              "      padding: 0 0 0 0;\n",
              "      width: 32px;\n",
              "    }\n",
              "\n",
              "    .colab-df-convert:hover {\n",
              "      background-color: #E2EBFA;\n",
              "      box-shadow: 0px 1px 2px rgba(60, 64, 67, 0.3), 0px 1px 3px 1px rgba(60, 64, 67, 0.15);\n",
              "      fill: #174EA6;\n",
              "    }\n",
              "\n",
              "    .colab-df-buttons div {\n",
              "      margin-bottom: 4px;\n",
              "    }\n",
              "\n",
              "    [theme=dark] .colab-df-convert {\n",
              "      background-color: #3B4455;\n",
              "      fill: #D2E3FC;\n",
              "    }\n",
              "\n",
              "    [theme=dark] .colab-df-convert:hover {\n",
              "      background-color: #434B5C;\n",
              "      box-shadow: 0px 1px 3px 1px rgba(0, 0, 0, 0.15);\n",
              "      filter: drop-shadow(0px 1px 2px rgba(0, 0, 0, 0.3));\n",
              "      fill: #FFFFFF;\n",
              "    }\n",
              "  </style>\n",
              "\n",
              "    <script>\n",
              "      const buttonEl =\n",
              "        document.querySelector('#df-85aa2cd2-2f48-466f-8457-564df5a331e1 button.colab-df-convert');\n",
              "      buttonEl.style.display =\n",
              "        google.colab.kernel.accessAllowed ? 'block' : 'none';\n",
              "\n",
              "      async function convertToInteractive(key) {\n",
              "        const element = document.querySelector('#df-85aa2cd2-2f48-466f-8457-564df5a331e1');\n",
              "        const dataTable =\n",
              "          await google.colab.kernel.invokeFunction('convertToInteractive',\n",
              "                                                    [key], {});\n",
              "        if (!dataTable) return;\n",
              "\n",
              "        const docLinkHtml = 'Like what you see? Visit the ' +\n",
              "          '<a target=\"_blank\" href=https://colab.research.google.com/notebooks/data_table.ipynb>data table notebook</a>'\n",
              "          + ' to learn more about interactive tables.';\n",
              "        element.innerHTML = '';\n",
              "        dataTable['output_type'] = 'display_data';\n",
              "        await google.colab.output.renderOutput(dataTable, element);\n",
              "        const docLink = document.createElement('div');\n",
              "        docLink.innerHTML = docLinkHtml;\n",
              "        element.appendChild(docLink);\n",
              "      }\n",
              "    </script>\n",
              "  </div>\n",
              "\n",
              "\n",
              "<div id=\"df-c43d8f1a-d12d-475e-aa1b-bf40bc65c67b\">\n",
              "  <button class=\"colab-df-quickchart\" onclick=\"quickchart('df-c43d8f1a-d12d-475e-aa1b-bf40bc65c67b')\"\n",
              "            title=\"Suggest charts\"\n",
              "            style=\"display:none;\">\n",
              "\n",
              "<svg xmlns=\"http://www.w3.org/2000/svg\" height=\"24px\"viewBox=\"0 0 24 24\"\n",
              "     width=\"24px\">\n",
              "    <g>\n",
              "        <path d=\"M19 3H5c-1.1 0-2 .9-2 2v14c0 1.1.9 2 2 2h14c1.1 0 2-.9 2-2V5c0-1.1-.9-2-2-2zM9 17H7v-7h2v7zm4 0h-2V7h2v10zm4 0h-2v-4h2v4z\"/>\n",
              "    </g>\n",
              "</svg>\n",
              "  </button>\n",
              "\n",
              "<style>\n",
              "  .colab-df-quickchart {\n",
              "      --bg-color: #E8F0FE;\n",
              "      --fill-color: #1967D2;\n",
              "      --hover-bg-color: #E2EBFA;\n",
              "      --hover-fill-color: #174EA6;\n",
              "      --disabled-fill-color: #AAA;\n",
              "      --disabled-bg-color: #DDD;\n",
              "  }\n",
              "\n",
              "  [theme=dark] .colab-df-quickchart {\n",
              "      --bg-color: #3B4455;\n",
              "      --fill-color: #D2E3FC;\n",
              "      --hover-bg-color: #434B5C;\n",
              "      --hover-fill-color: #FFFFFF;\n",
              "      --disabled-bg-color: #3B4455;\n",
              "      --disabled-fill-color: #666;\n",
              "  }\n",
              "\n",
              "  .colab-df-quickchart {\n",
              "    background-color: var(--bg-color);\n",
              "    border: none;\n",
              "    border-radius: 50%;\n",
              "    cursor: pointer;\n",
              "    display: none;\n",
              "    fill: var(--fill-color);\n",
              "    height: 32px;\n",
              "    padding: 0;\n",
              "    width: 32px;\n",
              "  }\n",
              "\n",
              "  .colab-df-quickchart:hover {\n",
              "    background-color: var(--hover-bg-color);\n",
              "    box-shadow: 0 1px 2px rgba(60, 64, 67, 0.3), 0 1px 3px 1px rgba(60, 64, 67, 0.15);\n",
              "    fill: var(--button-hover-fill-color);\n",
              "  }\n",
              "\n",
              "  .colab-df-quickchart-complete:disabled,\n",
              "  .colab-df-quickchart-complete:disabled:hover {\n",
              "    background-color: var(--disabled-bg-color);\n",
              "    fill: var(--disabled-fill-color);\n",
              "    box-shadow: none;\n",
              "  }\n",
              "\n",
              "  .colab-df-spinner {\n",
              "    border: 2px solid var(--fill-color);\n",
              "    border-color: transparent;\n",
              "    border-bottom-color: var(--fill-color);\n",
              "    animation:\n",
              "      spin 1s steps(1) infinite;\n",
              "  }\n",
              "\n",
              "  @keyframes spin {\n",
              "    0% {\n",
              "      border-color: transparent;\n",
              "      border-bottom-color: var(--fill-color);\n",
              "      border-left-color: var(--fill-color);\n",
              "    }\n",
              "    20% {\n",
              "      border-color: transparent;\n",
              "      border-left-color: var(--fill-color);\n",
              "      border-top-color: var(--fill-color);\n",
              "    }\n",
              "    30% {\n",
              "      border-color: transparent;\n",
              "      border-left-color: var(--fill-color);\n",
              "      border-top-color: var(--fill-color);\n",
              "      border-right-color: var(--fill-color);\n",
              "    }\n",
              "    40% {\n",
              "      border-color: transparent;\n",
              "      border-right-color: var(--fill-color);\n",
              "      border-top-color: var(--fill-color);\n",
              "    }\n",
              "    60% {\n",
              "      border-color: transparent;\n",
              "      border-right-color: var(--fill-color);\n",
              "    }\n",
              "    80% {\n",
              "      border-color: transparent;\n",
              "      border-right-color: var(--fill-color);\n",
              "      border-bottom-color: var(--fill-color);\n",
              "    }\n",
              "    90% {\n",
              "      border-color: transparent;\n",
              "      border-bottom-color: var(--fill-color);\n",
              "    }\n",
              "  }\n",
              "</style>\n",
              "\n",
              "  <script>\n",
              "    async function quickchart(key) {\n",
              "      const quickchartButtonEl =\n",
              "        document.querySelector('#' + key + ' button');\n",
              "      quickchartButtonEl.disabled = true;  // To prevent multiple clicks.\n",
              "      quickchartButtonEl.classList.add('colab-df-spinner');\n",
              "      try {\n",
              "        const charts = await google.colab.kernel.invokeFunction(\n",
              "            'suggestCharts', [key], {});\n",
              "      } catch (error) {\n",
              "        console.error('Error during call to suggestCharts:', error);\n",
              "      }\n",
              "      quickchartButtonEl.classList.remove('colab-df-spinner');\n",
              "      quickchartButtonEl.classList.add('colab-df-quickchart-complete');\n",
              "    }\n",
              "    (() => {\n",
              "      let quickchartButtonEl =\n",
              "        document.querySelector('#df-c43d8f1a-d12d-475e-aa1b-bf40bc65c67b button');\n",
              "      quickchartButtonEl.style.display =\n",
              "        google.colab.kernel.accessAllowed ? 'block' : 'none';\n",
              "    })();\n",
              "  </script>\n",
              "</div>\n",
              "    </div>\n",
              "  </div>\n"
            ],
            "application/vnd.google.colaboratory.intrinsic+json": {
              "type": "dataframe",
              "variable_name": "df",
              "summary": "{\n  \"name\": \"df\",\n  \"rows\": 847,\n  \"fields\": [\n    {\n      \"column\": \"region\",\n      \"properties\": {\n        \"dtype\": \"category\",\n        \"num_unique_values\": 77,\n        \"samples\": [\n          \"\\u0411\\u0435\\u043b\\u0433\\u043e\\u0440\\u043e\\u0434\\u0441\\u043a\\u0430\\u044f \\u043e\\u0431\\u043b\\u0430\\u0441\\u0442\\u044c\",\n          \"\\u041e\\u0440\\u043b\\u043e\\u0432\\u0441\\u043a\\u0430\\u044f \\u043e\\u0431\\u043b\\u0430\\u0441\\u0442\\u044c\",\n          \"\\u0415\\u0432\\u0440\\u0435\\u0439\\u0441\\u043a\\u0430\\u044f \\u0430\\u0432\\u0442\\u043e\\u043d\\u043e\\u043c\\u043d\\u0430\\u044f \\u043e\\u0431\\u043b\\u0430\\u0441\\u0442\\u044c\"\n        ],\n        \"semantic_type\": \"\",\n        \"description\": \"\"\n      }\n    },\n    {\n      \"column\": \"year\",\n      \"properties\": {\n        \"dtype\": \"number\",\n        \"std\": 3,\n        \"min\": 2011,\n        \"max\": 2021,\n        \"num_unique_values\": 11,\n        \"samples\": [\n          2016,\n          2011,\n          2020\n        ],\n        \"semantic_type\": \"\",\n        \"description\": \"\"\n      }\n    },\n    {\n      \"column\": \"y\",\n      \"properties\": {\n        \"dtype\": \"number\",\n        \"std\": 2.5564602709453927,\n        \"min\": 61.1,\n        \"max\": 79.64,\n        \"num_unique_values\": 547,\n        \"samples\": [\n          69.56,\n          70.99,\n          75.79\n        ],\n        \"semantic_type\": \"\",\n        \"description\": \"\"\n      }\n    },\n    {\n      \"column\": \"x1\",\n      \"properties\": {\n        \"dtype\": \"number\",\n        \"std\": 12,\n        \"min\": 36,\n        \"max\": 120,\n        \"num_unique_values\": 71,\n        \"samples\": [\n          97,\n          65,\n          110\n        ],\n        \"semantic_type\": \"\",\n        \"description\": \"\"\n      }\n    },\n    {\n      \"column\": \"x2\",\n      \"properties\": {\n        \"dtype\": \"number\",\n        \"std\": 43,\n        \"min\": 105,\n        \"max\": 366,\n        \"num_unique_values\": 187,\n        \"samples\": [\n          306,\n          180,\n          236\n        ],\n        \"semantic_type\": \"\",\n        \"description\": \"\"\n      }\n    },\n    {\n      \"column\": \"x3\",\n      \"properties\": {\n        \"dtype\": \"number\",\n        \"std\": 48,\n        \"min\": 89,\n        \"max\": 400,\n        \"num_unique_values\": 199,\n        \"samples\": [\n          172,\n          335,\n          226\n        ],\n        \"semantic_type\": \"\",\n        \"description\": \"\"\n      }\n    },\n    {\n      \"column\": \"x4\",\n      \"properties\": {\n        \"dtype\": \"number\",\n        \"std\": 25.111664509565163,\n        \"min\": 36.0,\n        \"max\": 176.0,\n        \"num_unique_values\": 125,\n        \"samples\": [\n          69.0,\n          85.0,\n          153.0\n        ],\n        \"semantic_type\": \"\",\n        \"description\": \"\"\n      }\n    },\n    {\n      \"column\": \"x5\",\n      \"properties\": {\n        \"dtype\": \"number\",\n        \"std\": 28.07518230204802,\n        \"min\": 38.0,\n        \"max\": 245.0,\n        \"num_unique_values\": 119,\n        \"samples\": [\n          77.0,\n          59.0,\n          81.0\n        ],\n        \"semantic_type\": \"\",\n        \"description\": \"\"\n      }\n    },\n    {\n      \"column\": \"x6\",\n      \"properties\": {\n        \"dtype\": \"number\",\n        \"std\": 14.12666057145243,\n        \"min\": 20.0,\n        \"max\": 117.0,\n        \"num_unique_values\": 70,\n        \"samples\": [\n          49.0,\n          50.0,\n          81.0\n        ],\n        \"semantic_type\": \"\",\n        \"description\": \"\"\n      }\n    },\n    {\n      \"column\": \"x7\",\n      \"properties\": {\n        \"dtype\": \"number\",\n        \"std\": 17,\n        \"min\": 30,\n        \"max\": 405,\n        \"num_unique_values\": 75,\n        \"samples\": [\n          161,\n          141,\n          128\n        ],\n        \"semantic_type\": \"\",\n        \"description\": \"\"\n      }\n    },\n    {\n      \"column\": \"x8\",\n      \"properties\": {\n        \"dtype\": \"number\",\n        \"std\": 2.4046329497520653,\n        \"min\": 7.9,\n        \"max\": 23.2,\n        \"num_unique_values\": 117,\n        \"samples\": [\n          15.5,\n          14.3,\n          13.3\n        ],\n        \"semantic_type\": \"\",\n        \"description\": \"\"\n      }\n    },\n    {\n      \"column\": \"x9\",\n      \"properties\": {\n        \"dtype\": \"number\",\n        \"std\": 7.07838039842339,\n        \"min\": 11.0,\n        \"max\": 116.0,\n        \"num_unique_values\": 37,\n        \"samples\": [\n          32.0,\n          48.0,\n          36.0\n        ],\n        \"semantic_type\": \"\",\n        \"description\": \"\"\n      }\n    }\n  ]\n}"
            }
          },
          "metadata": {},
          "execution_count": 32
        }
      ]
    },
    {
      "cell_type": "code",
      "source": [
        "len(df.region.unique())"
      ],
      "metadata": {
        "colab": {
          "base_uri": "https://localhost:8080/"
        },
        "id": "jUNKsSS9SolE",
        "outputId": "676b8060-d0bf-40c3-bdae-5066be4f3b79"
      },
      "execution_count": null,
      "outputs": [
        {
          "output_type": "execute_result",
          "data": {
            "text/plain": [
              "77"
            ]
          },
          "metadata": {},
          "execution_count": 33
        }
      ]
    },
    {
      "cell_type": "code",
      "source": [
        "df.region.unique()"
      ],
      "metadata": {
        "colab": {
          "base_uri": "https://localhost:8080/"
        },
        "id": "OR0IO2sFSrq2",
        "outputId": "cc06b2f3-66f7-450d-8df8-aa30504c4f61"
      },
      "execution_count": null,
      "outputs": [
        {
          "output_type": "execute_result",
          "data": {
            "text/plain": [
              "array(['Алтайский край', 'Амурская область', 'Архангельская область',\n",
              "       'Астраханская область', 'Белгородская область', 'Брянская область',\n",
              "       'Владимирская область', 'Волгоградская область',\n",
              "       'Вологодская область', 'Воронежская область',\n",
              "       'Еврейская автономная область', 'Забайкальский край',\n",
              "       'Ивановская область', 'Иркутская область',\n",
              "       'Кабардино-Балкарская Республика', 'Калининградская область',\n",
              "       'Калужская область', 'Камчатский край',\n",
              "       'Карачаево-Черкесская Республика', 'Кемеровская область – Кузбасс',\n",
              "       'Кировская область', 'Краснодарский край', 'Красноярский край',\n",
              "       'Курганская область', 'Курская область', 'Ленинградская область',\n",
              "       'Липецкая область', 'Магаданская область', 'Московская область',\n",
              "       'Мурманская область', 'Нижегородская область',\n",
              "       'Новгородская область', 'Новосибирская область', 'Омская область',\n",
              "       'Оренбургская область', 'Орловская область', 'Пензенская область',\n",
              "       'Пермский край', 'Приморский край', 'Псковская область',\n",
              "       'Республика Адыгея', 'Республика Алтай', 'Республика Башкортостан',\n",
              "       'Республика Бурятия', 'Республика Дагестан',\n",
              "       'Республика Ингушетия', 'Республика Калмыкия',\n",
              "       'Республика Карелия', 'Республика Коми', 'Республика Марий Эл',\n",
              "       'Республика Мордовия', 'Республика Саха (Якутия)',\n",
              "       'Республика Северная Осетия – Алания', 'Республика Татарстан',\n",
              "       'Республика Тыва', 'Республика Хакасия', 'Ростовская область',\n",
              "       'Рязанская область', 'Самарская область', 'Саратовская область',\n",
              "       'Сахалинская область', 'Свердловская область',\n",
              "       'Смоленская область', 'Ставропольский край', 'Тамбовская область',\n",
              "       'Тверская область', 'Тульская область', 'Тюменская область',\n",
              "       'Удмуртская Республика', 'Ульяновская область', 'Хабаровский край',\n",
              "       'Челябинская область', 'Чеченская Республика',\n",
              "       'Чувашская Республика', 'Ярославская область', 'г. Москва',\n",
              "       'г. Санкт-Петербург'], dtype=object)"
            ]
          },
          "metadata": {},
          "execution_count": 34
        }
      ]
    },
    {
      "cell_type": "markdown",
      "source": [
        "# Корреляционный анализ"
      ],
      "metadata": {
        "id": "pOrFo-2xbAEd"
      }
    },
    {
      "cell_type": "markdown",
      "source": [
        "Задача"
      ],
      "metadata": {
        "id": "Mjv36ggYbLOp"
      }
    },
    {
      "cell_type": "markdown",
      "source": [
        "Библиотеки"
      ],
      "metadata": {
        "id": "CL1Rk3U5ctKz"
      }
    },
    {
      "cell_type": "code",
      "source": [
        "import pandas as pd\n",
        "import seaborn as sns\n",
        "import matplotlib.pyplot as plt"
      ],
      "metadata": {
        "id": "bAac-huScvJU"
      },
      "execution_count": null,
      "outputs": []
    },
    {
      "cell_type": "markdown",
      "source": [
        "Корреляция"
      ],
      "metadata": {
        "id": "9NW2l9xAfAph"
      }
    },
    {
      "cell_type": "code",
      "source": [
        "df_corr = df.drop(columns=['region', 'year'])\n",
        "\n",
        "correlation_matrix = df_corr.corr()\n",
        "\n",
        "y_corr = correlation_matrix.loc['y', 'x1':'x9']\n",
        "\n",
        "plt.figure(figsize=(10, 1))\n",
        "sns.heatmap(y_corr.to_frame().T, annot=True, cmap='coolwarm', fmt='.2f', linewidths=0.5)\n",
        "plt.title('Корреляция между \"Продолжительность жизни\" и \"Потребление продуктов питания\"', fontsize=10)\n",
        "plt.show()"
      ],
      "metadata": {
        "colab": {
          "base_uri": "https://localhost:8080/",
          "height": 157
        },
        "id": "W5K5HX6UcwAa",
        "outputId": "f675a6c7-2e36-468f-910a-d5a164c49086"
      },
      "execution_count": null,
      "outputs": [
        {
          "output_type": "display_data",
          "data": {
            "text/plain": [
              "<Figure size 1000x100 with 2 Axes>"
            ],
            "image/png": "[encoded data removed]"
          },
          "metadata": {}
        }
      ]
    },
    {
      "cell_type": "markdown",
      "source": [
        "Обозначения"
      ],
      "metadata": {
        "id": "U9nZz-lTfCTp"
      }
    },
    {
      "cell_type": "code",
      "source": [
        "print(x_names)"
      ],
      "metadata": {
        "colab": {
          "base_uri": "https://localhost:8080/"
        },
        "id": "RSOI9_p6enq2",
        "outputId": "ec3c773a-9e2d-40a6-99dc-15a0c03c8817"
      },
      "execution_count": null,
      "outputs": [
        {
          "output_type": "stream",
          "name": "stdout",
          "text": [
            "Фактор: мясо, название: x1\n",
            "Фактор: молоко, название: x2\n",
            "Фактор: яйца, название: x3\n",
            "Фактор: картофель, название: x4\n",
            "Фактор: овощи, название: x5\n",
            "Фактор: фрукты, название: x6\n",
            "Фактор: хлебные, название: x7\n",
            "Фактор: масло раст, название: x8\n",
            "Фактор: сахар, название: x9\n",
            "\n"
          ]
        }
      ]
    },
    {
      "cell_type": "markdown",
      "source": [
        "# Линейная регрессия"
      ],
      "metadata": {
        "id": "FFgJ_HVFfF0S"
      }
    },
    {
      "cell_type": "markdown",
      "source": [
        "Задача"
      ],
      "metadata": {
        "id": "up2yWoQ3fMBb"
      }
    },
    {
      "cell_type": "markdown",
      "source": [
        "Библиотеки"
      ],
      "metadata": {
        "id": "-t6sl8b-fMsb"
      }
    },
    {
      "cell_type": "code",
      "source": [
        "import pandas as pd\n",
        "import numpy as np\n",
        "import statsmodels.api as sm\n",
        "from sklearn.model_selection import train_test_split\n",
        "from sklearn.metrics import mean_squared_error, r2_score"
      ],
      "metadata": {
        "id": "WFiEfOOXfNc4"
      },
      "execution_count": null,
      "outputs": []
    },
    {
      "cell_type": "markdown",
      "source": [
        "Модель"
      ],
      "metadata": {
        "id": "2zYMvVWmfRFS"
      }
    },
    {
      "cell_type": "code",
      "source": [
        "# Определяем X и y\n",
        "X = df.drop(columns=['region', 'year', 'y'])\n",
        "y = df['y']\n",
        "\n",
        "# Добавляем константу (для свободного члена) к X\n",
        "X = sm.add_constant(X)\n",
        "\n",
        "# Делим данные на обучающую и тестовую выборки\n",
        "X_train, X_test, y_train, y_test = train_test_split(X, y, test_size=0.2, random_state=1234)\n",
        "\n",
        "# Создаем модель линейной регрессии\n",
        "model = sm.OLS(y_train, X_train).fit()\n",
        "\n",
        "# Получаем предсказания\n",
        "y_pred = model.predict(X_test)\n",
        "\n",
        "# Оценка производительности модели\n",
        "mse = mean_squared_error(y_test, y_pred)\n",
        "r2 = r2_score(y_test, y_pred)\n",
        "\n",
        "# Выводим результаты\n",
        "print(\"Mean Squared Error:\", mse)\n",
        "print(\"R-squared:\", r2)\n",
        "\n",
        "# Анализ коэффициентов регрессии\n",
        "print(\"\\nКоэффициенты регрессии:\")\n",
        "print(model.params)\n",
        "print(\"\\nРезультаты модели:\")\n",
        "print(model.summary())"
      ],
      "metadata": {
        "colab": {
          "base_uri": "https://localhost:8080/"
        },
        "id": "fKZ9s_NwfWr6",
        "outputId": "2458414f-c2f7-45db-94e2-58626cfd7342"
      },
      "execution_count": null,
      "outputs": [
        {
          "output_type": "stream",
          "name": "stdout",
          "text": [
            "Mean Squared Error: 4.794395324933471\n",
            "R-squared: 0.2154569495368862\n",
            "\n",
            "Коэффициенты регрессии:\n",
            "const    67.167601\n",
            "x1       -0.008857\n",
            "x2        0.005347\n",
            "x3       -0.001060\n",
            "x4       -0.009535\n",
            "x5        0.028789\n",
            "x6        0.006982\n",
            "x7       -0.016040\n",
            "x8       -0.018101\n",
            "x9        0.075053\n",
            "dtype: float64\n",
            "\n",
            "Результаты модели:\n",
            "                            OLS Regression Results                            \n",
            "==============================================================================\n",
            "Dep. Variable:                      y   R-squared:                       0.196\n",
            "Model:                            OLS   Adj. R-squared:                  0.185\n",
            "Method:                 Least Squares   F-statistic:                     18.01\n",
            "Date:                Sat, 19 Oct 2024   Prob (F-statistic):           6.35e-27\n",
            "Time:                        14:46:01   Log-Likelihood:                -1527.4\n",
            "No. Observations:                 677   AIC:                             3075.\n",
            "Df Residuals:                     667   BIC:                             3120.\n",
            "Df Model:                           9                                         \n",
            "Covariance Type:            nonrobust                                         \n",
            "==============================================================================\n",
            "                 coef    std err          t      P>|t|      [0.025      0.975]\n",
            "------------------------------------------------------------------------------\n",
            "const         67.1676      1.111     60.435      0.000      64.985      69.350\n",
            "x1            -0.0089      0.007     -1.184      0.237      -0.024       0.006\n",
            "x2             0.0053      0.002      2.449      0.015       0.001       0.010\n",
            "x3            -0.0011      0.002     -0.489      0.625      -0.005       0.003\n",
            "x4            -0.0095      0.004     -2.583      0.010      -0.017      -0.002\n",
            "x5             0.0288      0.004      7.933      0.000       0.022       0.036\n",
            "x6             0.0070      0.008      0.878      0.380      -0.009       0.023\n",
            "x7            -0.0160      0.005     -3.022      0.003      -0.026      -0.006\n",
            "x8            -0.0181      0.041     -0.445      0.656      -0.098       0.062\n",
            "x9             0.0751      0.014      5.290      0.000       0.047       0.103\n",
            "==============================================================================\n",
            "Omnibus:                       35.461   Durbin-Watson:                   1.967\n",
            "Prob(Omnibus):                  0.000   Jarque-Bera (JB):               60.199\n",
            "Skew:                           0.381   Prob(JB):                     8.47e-14\n",
            "Kurtosis:                       4.246   Cond. No.                     5.12e+03\n",
            "==============================================================================\n",
            "\n",
            "Notes:\n",
            "[1] Standard Errors assume that the covariance matrix of the errors is correctly specified.\n",
            "[2] The condition number is large, 5.12e+03. This might indicate that there are\n",
            "strong multicollinearity or other numerical problems.\n"
          ]
        }
      ]
    },
    {
      "cell_type": "markdown",
      "source": [
        "# Линейная регрессия без Covid-19"
      ],
      "metadata": {
        "id": "ferpaTC_ot7c"
      }
    },
    {
      "cell_type": "markdown",
      "source": [
        "Всемирная пандемия могла резко сократить ожидаемую продолжительность жизни. Посмотрим на модель без учета данных 2019-2021 годов."
      ],
      "metadata": {
        "id": "Gar-zLMsoyna"
      }
    },
    {
      "cell_type": "code",
      "source": [
        "df_covid = df.copy()\n",
        "df_covid = df_covid[df_covid['year'].isin(range(2011, 2019))]"
      ],
      "metadata": {
        "id": "7iMGIZ69o7E4"
      },
      "execution_count": null,
      "outputs": []
    },
    {
      "cell_type": "code",
      "source": [
        "# Определяем X и y\n",
        "X = df_covid.drop(columns=['region', 'year', 'y'])\n",
        "y = df_covid['y']\n",
        "\n",
        "# Добавляем константу (для свободного члена) к X\n",
        "X = sm.add_constant(X)\n",
        "\n",
        "# Делим данные на обучающую и тестовую выборки\n",
        "X_train, X_test, y_train, y_test = train_test_split(X, y, test_size=0.2, random_state=42)\n",
        "\n",
        "# Создаем модель линейной регрессии\n",
        "model = sm.OLS(y_train, X_train).fit()\n",
        "\n",
        "# Получаем предсказания\n",
        "y_pred = model.predict(X_test)\n",
        "\n",
        "# Оценка производительности модели\n",
        "mse = mean_squared_error(y_test, y_pred)\n",
        "r2 = r2_score(y_test, y_pred)\n",
        "\n",
        "# Выводим результаты\n",
        "print(\"Mean Squared Error:\", mse)\n",
        "print(\"R-squared:\", r2)\n",
        "\n",
        "# Анализ коэффициентов регрессии\n",
        "print(\"\\nКоэффициенты регрессии:\")\n",
        "print(model.params)\n",
        "print(\"\\nРезультаты модели:\")\n",
        "print(model.summary())"
      ],
      "metadata": {
        "colab": {
          "base_uri": "https://localhost:8080/"
        },
        "id": "QShgUtfVpuNu",
        "outputId": "1e0de6d9-9c7b-4e31-c12b-054c715829e6"
      },
      "execution_count": null,
      "outputs": [
        {
          "output_type": "stream",
          "name": "stdout",
          "text": [
            "Mean Squared Error: 5.093299836519363\n",
            "R-squared: 0.19481107112596818\n",
            "\n",
            "Коэффициенты регрессии:\n",
            "const    66.377375\n",
            "x1       -0.008233\n",
            "x2        0.004838\n",
            "x3       -0.001135\n",
            "x4       -0.005386\n",
            "x5        0.030812\n",
            "x6        0.004941\n",
            "x7       -0.012147\n",
            "x8       -0.010061\n",
            "x9        0.070568\n",
            "dtype: float64\n",
            "\n",
            "Результаты модели:\n",
            "                            OLS Regression Results                            \n",
            "==============================================================================\n",
            "Dep. Variable:                      y   R-squared:                       0.200\n",
            "Model:                            OLS   Adj. R-squared:                  0.185\n",
            "Method:                 Least Squares   F-statistic:                     13.37\n",
            "Date:                Sat, 19 Oct 2024   Prob (F-statistic):           3.44e-19\n",
            "Time:                        14:46:02   Log-Likelihood:                -1109.6\n",
            "No. Observations:                 492   AIC:                             2239.\n",
            "Df Residuals:                     482   BIC:                             2281.\n",
            "Df Model:                           9                                         \n",
            "Covariance Type:            nonrobust                                         \n",
            "==============================================================================\n",
            "                 coef    std err          t      P>|t|      [0.025      0.975]\n",
            "------------------------------------------------------------------------------\n",
            "const         66.3774      1.393     47.658      0.000      63.641      69.114\n",
            "x1            -0.0082      0.009     -0.881      0.379      -0.027       0.010\n",
            "x2             0.0048      0.002      1.943      0.053   -5.45e-05       0.010\n",
            "x3            -0.0011      0.003     -0.446      0.656      -0.006       0.004\n",
            "x4            -0.0054      0.004     -1.202      0.230      -0.014       0.003\n",
            "x5             0.0308      0.004      7.230      0.000       0.022       0.039\n",
            "x6             0.0049      0.010      0.517      0.605      -0.014       0.024\n",
            "x7            -0.0121      0.008     -1.514      0.131      -0.028       0.004\n",
            "x8            -0.0101      0.048     -0.211      0.833      -0.104       0.084\n",
            "x9             0.0706      0.016      4.303      0.000       0.038       0.103\n",
            "==============================================================================\n",
            "Omnibus:                       35.110   Durbin-Watson:                   1.996\n",
            "Prob(Omnibus):                  0.000   Jarque-Bera (JB):               70.203\n",
            "Skew:                           0.426   Prob(JB):                     5.70e-16\n",
            "Kurtosis:                       4.643   Cond. No.                     5.44e+03\n",
            "==============================================================================\n",
            "\n",
            "Notes:\n",
            "[1] Standard Errors assume that the covariance matrix of the errors is correctly specified.\n",
            "[2] The condition number is large, 5.44e+03. This might indicate that there are\n",
            "strong multicollinearity or other numerical problems.\n"
          ]
        }
      ]
    },
    {
      "cell_type": "markdown",
      "source": [
        "# Lagged model"
      ],
      "metadata": {
        "id": "VvkWNV06kAt-"
      }
    },
    {
      "cell_type": "markdown",
      "source": [
        "Потребление продуктов в одном году может повляить на ожидаемую продолжительность жизни в последующие годы"
      ],
      "metadata": {
        "id": "pN8QPlZ-kPc9"
      }
    },
    {
      "cell_type": "code",
      "source": [
        "df_shift1 = df.copy()\n",
        "df_shift1['y_shifted1'] = df_shift1.groupby('region')['y'].shift(-1) # сдвигаем y на 1 год назад\n",
        "df_shift1 = df_shift1.dropna()"
      ],
      "metadata": {
        "id": "Kk0kwEIhl7fU"
      },
      "execution_count": null,
      "outputs": []
    },
    {
      "cell_type": "code",
      "source": [
        "df_shift2 = df.copy()\n",
        "df_shift2['y_shifted2'] = df_shift2.groupby('region')['y'].shift(-2) # сдвигаем y на 2 года назада\n",
        "df_shift2 = df_shift2.dropna()"
      ],
      "metadata": {
        "id": "AKUFL7TFmpIJ"
      },
      "execution_count": null,
      "outputs": []
    },
    {
      "cell_type": "markdown",
      "source": [
        "Модель на следующий год"
      ],
      "metadata": {
        "id": "h9--04kYnIXs"
      }
    },
    {
      "cell_type": "code",
      "source": [
        "# Определяем X и y\n",
        "X = df_shift1.drop(columns=['region', 'year', 'y', 'y_shifted1'])\n",
        "y = df_shift1['y_shifted1']\n",
        "\n",
        "# Добавляем константу (для свободного члена) к X\n",
        "X = sm.add_constant(X)\n",
        "\n",
        "# Делим данные на обучающую и тестовую выборки\n",
        "X_train, X_test, y_train, y_test = train_test_split(X, y, test_size=0.2, random_state=42)\n",
        "\n",
        "# Создаем модель линейной регрессии\n",
        "model = sm.OLS(y_train, X_train).fit()\n",
        "\n",
        "# Получаем предсказания\n",
        "y_pred = model.predict(X_test)\n",
        "\n",
        "# Оценка производительности модели\n",
        "mse = mean_squared_error(y_test, y_pred)\n",
        "r2 = r2_score(y_test, y_pred)\n",
        "\n",
        "# Выводим результаты\n",
        "print(\"Mean Squared Error:\", mse)\n",
        "print(\"R-squared:\", r2)\n",
        "\n",
        "# Анализ коэффициентов регрессии\n",
        "print(\"\\nКоэффициенты регрессии:\")\n",
        "print(model.params)\n",
        "print(\"\\nРезультаты модели:\")\n",
        "print(model.summary())"
      ],
      "metadata": {
        "colab": {
          "base_uri": "https://localhost:8080/"
        },
        "id": "dTGRuB4inHsB",
        "outputId": "9c774bed-7c86-4b4d-9a00-0760c198183b"
      },
      "execution_count": null,
      "outputs": [
        {
          "output_type": "stream",
          "name": "stdout",
          "text": [
            "Mean Squared Error: 6.029912464715596\n",
            "R-squared: 0.15720780339367213\n",
            "\n",
            "Коэффициенты регрессии:\n",
            "const    67.834367\n",
            "x1       -0.016390\n",
            "x2        0.005352\n",
            "x3        0.001873\n",
            "x4       -0.006045\n",
            "x5        0.027096\n",
            "x6        0.007325\n",
            "x7       -0.017053\n",
            "x8       -0.078841\n",
            "x9        0.073163\n",
            "dtype: float64\n",
            "\n",
            "Результаты модели:\n",
            "                            OLS Regression Results                            \n",
            "==============================================================================\n",
            "Dep. Variable:             y_shifted1   R-squared:                       0.194\n",
            "Model:                            OLS   Adj. R-squared:                  0.182\n",
            "Method:                 Least Squares   F-statistic:                     16.20\n",
            "Date:                Sat, 19 Oct 2024   Prob (F-statistic):           6.14e-24\n",
            "Time:                        14:46:02   Log-Likelihood:                -1360.4\n",
            "No. Observations:                 616   AIC:                             2741.\n",
            "Df Residuals:                     606   BIC:                             2785.\n",
            "Df Model:                           9                                         \n",
            "Covariance Type:            nonrobust                                         \n",
            "==============================================================================\n",
            "                 coef    std err          t      P>|t|      [0.025      0.975]\n",
            "------------------------------------------------------------------------------\n",
            "const         67.8344      1.175     57.708      0.000      65.526      70.143\n",
            "x1            -0.0164      0.008     -2.094      0.037      -0.032      -0.001\n",
            "x2             0.0054      0.002      2.464      0.014       0.001       0.010\n",
            "x3             0.0019      0.002      0.869      0.385      -0.002       0.006\n",
            "x4            -0.0060      0.004     -1.649      0.100      -0.013       0.001\n",
            "x5             0.0271      0.004      6.945      0.000       0.019       0.035\n",
            "x6             0.0073      0.008      0.916      0.360      -0.008       0.023\n",
            "x7            -0.0171      0.007     -2.470      0.014      -0.031      -0.003\n",
            "x8            -0.0788      0.041     -1.909      0.057      -0.160       0.002\n",
            "x9             0.0732      0.014      5.153      0.000       0.045       0.101\n",
            "==============================================================================\n",
            "Omnibus:                       31.980   Durbin-Watson:                   1.842\n",
            "Prob(Omnibus):                  0.000   Jarque-Bera (JB):               51.390\n",
            "Skew:                           0.392   Prob(JB):                     6.93e-12\n",
            "Kurtosis:                       4.178   Cond. No.                     5.41e+03\n",
            "==============================================================================\n",
            "\n",
            "Notes:\n",
            "[1] Standard Errors assume that the covariance matrix of the errors is correctly specified.\n",
            "[2] The condition number is large, 5.41e+03. This might indicate that there are\n",
            "strong multicollinearity or other numerical problems.\n"
          ]
        }
      ]
    },
    {
      "cell_type": "markdown",
      "source": [
        "Модель через 2 года"
      ],
      "metadata": {
        "id": "FI5iRNQfnt57"
      }
    },
    {
      "cell_type": "code",
      "source": [
        "# Определяем X и y\n",
        "X = df_shift2.drop(columns=['region', 'year', 'y', 'y_shifted2'])\n",
        "y = df_shift2['y_shifted2']\n",
        "\n",
        "# Добавляем константу (для свободного члена) к X\n",
        "X = sm.add_constant(X)\n",
        "\n",
        "# Делим данные на обучающую и тестовую выборки\n",
        "X_train, X_test, y_train, y_test = train_test_split(X, y, test_size=0.2, random_state=42)\n",
        "\n",
        "# Создаем модель линейной регрессии\n",
        "model = sm.OLS(y_train, X_train).fit()\n",
        "\n",
        "# Получаем предсказания\n",
        "y_pred = model.predict(X_test)\n",
        "\n",
        "# Оценка производительности модели\n",
        "mse = mean_squared_error(y_test, y_pred)\n",
        "r2 = r2_score(y_test, y_pred)\n",
        "\n",
        "# Выводим результаты\n",
        "print(\"Mean Squared Error:\", mse)\n",
        "print(\"R-squared:\", r2)\n",
        "\n",
        "# Анализ коэффициентов регрессии\n",
        "print(\"\\nКоэффициенты регрессии:\")\n",
        "print(model.params)\n",
        "print(\"\\nРезультаты модели:\")\n",
        "print(model.summary())"
      ],
      "metadata": {
        "colab": {
          "base_uri": "https://localhost:8080/"
        },
        "id": "yYTdxksVnyF2",
        "outputId": "78654c45-39be-44c9-bb92-73ddcbed8336"
      },
      "execution_count": null,
      "outputs": [
        {
          "output_type": "stream",
          "name": "stdout",
          "text": [
            "Mean Squared Error: 4.827356755884781\n",
            "R-squared: 0.15665157652668793\n",
            "\n",
            "Коэффициенты регрессии:\n",
            "const    68.117612\n",
            "x1       -0.016971\n",
            "x2        0.005048\n",
            "x3       -0.002081\n",
            "x4       -0.006716\n",
            "x5        0.026301\n",
            "x6        0.006375\n",
            "x7       -0.009540\n",
            "x8       -0.043215\n",
            "x9        0.070509\n",
            "dtype: float64\n",
            "\n",
            "Результаты модели:\n",
            "                            OLS Regression Results                            \n",
            "==============================================================================\n",
            "Dep. Variable:             y_shifted2   R-squared:                       0.191\n",
            "Model:                            OLS   Adj. R-squared:                  0.177\n",
            "Method:                 Least Squares   F-statistic:                     14.25\n",
            "Date:                Sat, 19 Oct 2024   Prob (F-statistic):           9.31e-21\n",
            "Time:                        14:46:02   Log-Likelihood:                -1230.0\n",
            "No. Observations:                 554   AIC:                             2480.\n",
            "Df Residuals:                     544   BIC:                             2523.\n",
            "Df Model:                           9                                         \n",
            "Covariance Type:            nonrobust                                         \n",
            "==============================================================================\n",
            "                 coef    std err          t      P>|t|      [0.025      0.975]\n",
            "------------------------------------------------------------------------------\n",
            "const         68.1176      1.178     57.821      0.000      65.803      70.432\n",
            "x1            -0.0170      0.008     -2.053      0.041      -0.033      -0.001\n",
            "x2             0.0050      0.002      2.126      0.034       0.000       0.010\n",
            "x3            -0.0021      0.002     -0.915      0.361      -0.007       0.002\n",
            "x4            -0.0067      0.004     -1.718      0.086      -0.014       0.001\n",
            "x5             0.0263      0.004      6.866      0.000       0.019       0.034\n",
            "x6             0.0064      0.009      0.735      0.463      -0.011       0.023\n",
            "x7            -0.0095      0.005     -1.797      0.073      -0.020       0.001\n",
            "x8            -0.0432      0.044     -0.982      0.327      -0.130       0.043\n",
            "x9             0.0705      0.014      4.872      0.000       0.042       0.099\n",
            "==============================================================================\n",
            "Omnibus:                       32.845   Durbin-Watson:                   1.961\n",
            "Prob(Omnibus):                  0.000   Jarque-Bera (JB):               60.919\n",
            "Skew:                           0.385   Prob(JB):                     5.91e-14\n",
            "Kurtosis:                       4.430   Cond. No.                     5.04e+03\n",
            "==============================================================================\n",
            "\n",
            "Notes:\n",
            "[1] Standard Errors assume that the covariance matrix of the errors is correctly specified.\n",
            "[2] The condition number is large, 5.04e+03. This might indicate that there are\n",
            "strong multicollinearity or other numerical problems.\n"
          ]
        }
      ]
    },
    {
      "cell_type": "markdown",
      "source": [
        "# Модель отклонений от нормы"
      ],
      "metadata": {
        "id": "FUTINYy5KoBA"
      }
    },
    {
      "cell_type": "markdown",
      "source": [
        "Возможно, не совсем правильно было оставлять потребление продуктов питания не обработав значения, сопаставив их с рекомендуемыми. Ведь в реальности не работает логика: \"чем больше овощей ешь - тем лучше\". Есть еще рекомендуемая норма, превышение которой также ухудшит ситуацию. Попробуем построить модель отталкиваясь от \"РЕКОМЕНДУЕМЫЕ РАЦИОНАЛЬНЫЕ НОРМЫ ПОТРЕБЛЕНИЯ ПИЩЕВЫХ ПРОДУКТОВ, ОТВЕЧАЮЩИХ СОВРЕМЕННЫМ ТРЕБОВАНИЯМ ЗДОРОВОГО ПИТАНИЯ\" Минздрав\n",
        "\n",
        "https://37fbuz.ru/o-tsentre/rekomendatsii-grazhdanam/746-rekomenduemye-ratsionalnye-normy-potrebleniya-pishchevykh-produktov-otvechayushchikh-sovremennym-trebovaniyam-zdorovogo-pitaniya"
      ],
      "metadata": {
        "id": "poxYVi2FKreq"
      }
    },
    {
      "cell_type": "markdown",
      "source": [
        "Рекомендованное кол-во потребления продукта кг/год/человек (Минздрав)\n",
        "*   x1: мясо, норма: 73\n",
        "*   x2: молоко, норма: 325\n",
        "*   x3: яйца, норма: 260 (штук)\n",
        "*   x4: картофель, норма: 90\n",
        "*   x5: овощи, норма: 140\n",
        "*   x6: фрукты, норма: 100\n",
        "*   x7: хлебные, норма: 96\n",
        "*   x8: масло раст, норма: 12\n",
        "*   x9: сахар, норма: 24\n",
        "\n",
        "\n",
        "\n"
      ],
      "metadata": {
        "id": "B5Zf_UmmLrrR"
      }
    },
    {
      "cell_type": "code",
      "source": [
        "norms = {'x1': 73, 'x2': 325, 'x3': 260, 'x4': 90, 'x5': 140, 'x6': 100, 'x7': 96, 'x8': 12, 'x9': 24}"
      ],
      "metadata": {
        "id": "BMCgCUQ7Lboj"
      },
      "execution_count": null,
      "outputs": []
    },
    {
      "cell_type": "code",
      "source": [
        "df_norm = df.copy()\n",
        "df_norm.head()"
      ],
      "metadata": {
        "colab": {
          "base_uri": "https://localhost:8080/",
          "height": 206
        },
        "id": "6cpskYu6OHU2",
        "outputId": "b4569cf6-059a-452a-e9ec-f6a3579b2506"
      },
      "execution_count": null,
      "outputs": [
        {
          "output_type": "execute_result",
          "data": {
            "text/plain": [
              "           region  year      y  x1   x2   x3     x4    x5    x6   x7    x8  \\\n",
              "0  Алтайский край  2011  68.94  65  323  307  117.0  90.0  50.0  169  12.8   \n",
              "1  Алтайский край  2012  69.01  69  320  309  116.0  87.0  51.0  168  13.6   \n",
              "2  Алтайский край  2013  69.60  69  318  310  112.0  85.0  55.0  168  13.9   \n",
              "3  Алтайский край  2014  69.77  67  304  312  106.0  82.0  55.0  168  14.5   \n",
              "4  Алтайский край  2015  70.13  62  284  318   98.0  81.0  54.0  163  14.3   \n",
              "\n",
              "     x9  \n",
              "0  40.0  \n",
              "1  38.0  \n",
              "2  39.0  \n",
              "3  39.0  \n",
              "4  38.0  "
            ],
            "text/html": [
              "\n",
              "  <div id=\"df-2c7d2a96-4863-4e3a-9326-12807a5321f7\" class=\"colab-df-container\">\n",
              "    <div>\n",
              "<style scoped>\n",
              "    .dataframe tbody tr th:only-of-type {\n",
              "        vertical-align: middle;\n",
              "    }\n",
              "\n",
              "    .dataframe tbody tr th {\n",
              "        vertical-align: top;\n",
              "    }\n",
              "\n",
              "    .dataframe thead th {\n",
              "        text-align: right;\n",
              "    }\n",
              "</style>\n",
              "<table border=\"1\" class=\"dataframe\">\n",
              "  <thead>\n",
              "    <tr style=\"text-align: right;\">\n",
              "      <th></th>\n",
              "      <th>region</th>\n",
              "      <th>year</th>\n",
              "      <th>y</th>\n",
              "      <th>x1</th>\n",
              "      <th>x2</th>\n",
              "      <th>x3</th>\n",
              "      <th>x4</th>\n",
              "      <th>x5</th>\n",
              "      <th>x6</th>\n",
              "      <th>x7</th>\n",
              "      <th>x8</th>\n",
              "      <th>x9</th>\n",
              "    </tr>\n",
              "  </thead>\n",
              "  <tbody>\n",
              "    <tr>\n",
              "      <th>0</th>\n",
              "      <td>Алтайский край</td>\n",
              "      <td>2011</td>\n",
              "      <td>68.94</td>\n",
              "      <td>65</td>\n",
              "      <td>323</td>\n",
              "      <td>307</td>\n",
              "      <td>117.0</td>\n",
              "      <td>90.0</td>\n",
              "      <td>50.0</td>\n",
              "      <td>169</td>\n",
              "      <td>12.8</td>\n",
              "      <td>40.0</td>\n",
              "    </tr>\n",
              "    <tr>\n",
              "      <th>1</th>\n",
              "      <td>Алтайский край</td>\n",
              "      <td>2012</td>\n",
              "      <td>69.01</td>\n",
              "      <td>69</td>\n",
              "      <td>320</td>\n",
              "      <td>309</td>\n",
              "      <td>116.0</td>\n",
              "      <td>87.0</td>\n",
              "      <td>51.0</td>\n",
              "      <td>168</td>\n",
              "      <td>13.6</td>\n",
              "      <td>38.0</td>\n",
              "    </tr>\n",
              "    <tr>\n",
              "      <th>2</th>\n",
              "      <td>Алтайский край</td>\n",
              "      <td>2013</td>\n",
              "      <td>69.60</td>\n",
              "      <td>69</td>\n",
              "      <td>318</td>\n",
              "      <td>310</td>\n",
              "      <td>112.0</td>\n",
              "      <td>85.0</td>\n",
              "      <td>55.0</td>\n",
              "      <td>168</td>\n",
              "      <td>13.9</td>\n",
              "      <td>39.0</td>\n",
              "    </tr>\n",
              "    <tr>\n",
              "      <th>3</th>\n",
              "      <td>Алтайский край</td>\n",
              "      <td>2014</td>\n",
              "      <td>69.77</td>\n",
              "      <td>67</td>\n",
              "      <td>304</td>\n",
              "      <td>312</td>\n",
              "      <td>106.0</td>\n",
              "      <td>82.0</td>\n",
              "      <td>55.0</td>\n",
              "      <td>168</td>\n",
              "      <td>14.5</td>\n",
              "      <td>39.0</td>\n",
              "    </tr>\n",
              "    <tr>\n",
              "      <th>4</th>\n",
              "      <td>Алтайский край</td>\n",
              "      <td>2015</td>\n",
              "      <td>70.13</td>\n",
              "      <td>62</td>\n",
              "      <td>284</td>\n",
              "      <td>318</td>\n",
              "      <td>98.0</td>\n",
              "      <td>81.0</td>\n",
              "      <td>54.0</td>\n",
              "      <td>163</td>\n",
              "      <td>14.3</td>\n",
              "      <td>38.0</td>\n",
              "    </tr>\n",
              "  </tbody>\n",
              "</table>\n",
              "</div>\n",
              "    <div class=\"colab-df-buttons\">\n",
              "\n",
              "  <div class=\"colab-df-container\">\n",
              "    <button class=\"colab-df-convert\" onclick=\"convertToInteractive('df-2c7d2a96-4863-4e3a-9326-12807a5321f7')\"\n",
              "            title=\"Convert this dataframe to an interactive table.\"\n",
              "            style=\"display:none;\">\n",
              "\n",
              "  <svg xmlns=\"http://www.w3.org/2000/svg\" height=\"24px\" viewBox=\"0 -960 960 960\">\n",
              "    <path d=\"M120-120v-720h720v720H120Zm60-500h600v-160H180v160Zm220 220h160v-160H400v160Zm0 220h160v-160H400v160ZM180-400h160v-160H180v160Zm440 0h160v-160H620v160ZM180-180h160v-160H180v160Zm440 0h160v-160H620v160Z\"/>\n",
              "  </svg>\n",
              "    </button>\n",
              "\n",
              "  <style>\n",
              "    .colab-df-container {\n",
              "      display:flex;\n",
              "      gap: 12px;\n",
              "    }\n",
              "\n",
              "    .colab-df-convert {\n",
              "      background-color: #E8F0FE;\n",
              "      border: none;\n",
              "      border-radius: 50%;\n",
              "      cursor: pointer;\n",
              "      display: none;\n",
              "      fill: #1967D2;\n",
              "      height: 32px;\n",
              "      padding: 0 0 0 0;\n",
              "      width: 32px;\n",
              "    }\n",
              "\n",
              "    .colab-df-convert:hover {\n",
              "      background-color: #E2EBFA;\n",
              "      box-shadow: 0px 1px 2px rgba(60, 64, 67, 0.3), 0px 1px 3px 1px rgba(60, 64, 67, 0.15);\n",
              "      fill: #174EA6;\n",
              "    }\n",
              "\n",
              "    .colab-df-buttons div {\n",
              "      margin-bottom: 4px;\n",
              "    }\n",
              "\n",
              "    [theme=dark] .colab-df-convert {\n",
              "      background-color: #3B4455;\n",
              "      fill: #D2E3FC;\n",
              "    }\n",
              "\n",
              "    [theme=dark] .colab-df-convert:hover {\n",
              "      background-color: #434B5C;\n",
              "      box-shadow: 0px 1px 3px 1px rgba(0, 0, 0, 0.15);\n",
              "      filter: drop-shadow(0px 1px 2px rgba(0, 0, 0, 0.3));\n",
              "      fill: #FFFFFF;\n",
              "    }\n",
              "  </style>\n",
              "\n",
              "    <script>\n",
              "      const buttonEl =\n",
              "        document.querySelector('#df-2c7d2a96-4863-4e3a-9326-12807a5321f7 button.colab-df-convert');\n",
              "      buttonEl.style.display =\n",
              "        google.colab.kernel.accessAllowed ? 'block' : 'none';\n",
              "\n",
              "      async function convertToInteractive(key) {\n",
              "        const element = document.querySelector('#df-2c7d2a96-4863-4e3a-9326-12807a5321f7');\n",
              "        const dataTable =\n",
              "          await google.colab.kernel.invokeFunction('convertToInteractive',\n",
              "                                                    [key], {});\n",
              "        if (!dataTable) return;\n",
              "\n",
              "        const docLinkHtml = 'Like what you see? Visit the ' +\n",
              "          '<a target=\"_blank\" href=https://colab.research.google.com/notebooks/data_table.ipynb>data table notebook</a>'\n",
              "          + ' to learn more about interactive tables.';\n",
              "        element.innerHTML = '';\n",
              "        dataTable['output_type'] = 'display_data';\n",
              "        await google.colab.output.renderOutput(dataTable, element);\n",
              "        const docLink = document.createElement('div');\n",
              "        docLink.innerHTML = docLinkHtml;\n",
              "        element.appendChild(docLink);\n",
              "      }\n",
              "    </script>\n",
              "  </div>\n",
              "\n",
              "\n",
              "<div id=\"df-bb054dfa-a5f4-4f57-b7ed-e9c2d38a8b03\">\n",
              "  <button class=\"colab-df-quickchart\" onclick=\"quickchart('df-bb054dfa-a5f4-4f57-b7ed-e9c2d38a8b03')\"\n",
              "            title=\"Suggest charts\"\n",
              "            style=\"display:none;\">\n",
              "\n",
              "<svg xmlns=\"http://www.w3.org/2000/svg\" height=\"24px\"viewBox=\"0 0 24 24\"\n",
              "     width=\"24px\">\n",
              "    <g>\n",
              "        <path d=\"M19 3H5c-1.1 0-2 .9-2 2v14c0 1.1.9 2 2 2h14c1.1 0 2-.9 2-2V5c0-1.1-.9-2-2-2zM9 17H7v-7h2v7zm4 0h-2V7h2v10zm4 0h-2v-4h2v4z\"/>\n",
              "    </g>\n",
              "</svg>\n",
              "  </button>\n",
              "\n",
              "<style>\n",
              "  .colab-df-quickchart {\n",
              "      --bg-color: #E8F0FE;\n",
              "      --fill-color: #1967D2;\n",
              "      --hover-bg-color: #E2EBFA;\n",
              "      --hover-fill-color: #174EA6;\n",
              "      --disabled-fill-color: #AAA;\n",
              "      --disabled-bg-color: #DDD;\n",
              "  }\n",
              "\n",
              "  [theme=dark] .colab-df-quickchart {\n",
              "      --bg-color: #3B4455;\n",
              "      --fill-color: #D2E3FC;\n",
              "      --hover-bg-color: #434B5C;\n",
              "      --hover-fill-color: #FFFFFF;\n",
              "      --disabled-bg-color: #3B4455;\n",
              "      --disabled-fill-color: #666;\n",
              "  }\n",
              "\n",
              "  .colab-df-quickchart {\n",
              "    background-color: var(--bg-color);\n",
              "    border: none;\n",
              "    border-radius: 50%;\n",
              "    cursor: pointer;\n",
              "    display: none;\n",
              "    fill: var(--fill-color);\n",
              "    height: 32px;\n",
              "    padding: 0;\n",
              "    width: 32px;\n",
              "  }\n",
              "\n",
              "  .colab-df-quickchart:hover {\n",
              "    background-color: var(--hover-bg-color);\n",
              "    box-shadow: 0 1px 2px rgba(60, 64, 67, 0.3), 0 1px 3px 1px rgba(60, 64, 67, 0.15);\n",
              "    fill: var(--button-hover-fill-color);\n",
              "  }\n",
              "\n",
              "  .colab-df-quickchart-complete:disabled,\n",
              "  .colab-df-quickchart-complete:disabled:hover {\n",
              "    background-color: var(--disabled-bg-color);\n",
              "    fill: var(--disabled-fill-color);\n",
              "    box-shadow: none;\n",
              "  }\n",
              "\n",
              "  .colab-df-spinner {\n",
              "    border: 2px solid var(--fill-color);\n",
              "    border-color: transparent;\n",
              "    border-bottom-color: var(--fill-color);\n",
              "    animation:\n",
              "      spin 1s steps(1) infinite;\n",
              "  }\n",
              "\n",
              "  @keyframes spin {\n",
              "    0% {\n",
              "      border-color: transparent;\n",
              "      border-bottom-color: var(--fill-color);\n",
              "      border-left-color: var(--fill-color);\n",
              "    }\n",
              "    20% {\n",
              "      border-color: transparent;\n",
              "      border-left-color: var(--fill-color);\n",
              "      border-top-color: var(--fill-color);\n",
              "    }\n",
              "    30% {\n",
              "      border-color: transparent;\n",
              "      border-left-color: var(--fill-color);\n",
              "      border-top-color: var(--fill-color);\n",
              "      border-right-color: var(--fill-color);\n",
              "    }\n",
              "    40% {\n",
              "      border-color: transparent;\n",
              "      border-right-color: var(--fill-color);\n",
              "      border-top-color: var(--fill-color);\n",
              "    }\n",
              "    60% {\n",
              "      border-color: transparent;\n",
              "      border-right-color: var(--fill-color);\n",
              "    }\n",
              "    80% {\n",
              "      border-color: transparent;\n",
              "      border-right-color: var(--fill-color);\n",
              "      border-bottom-color: var(--fill-color);\n",
              "    }\n",
              "    90% {\n",
              "      border-color: transparent;\n",
              "      border-bottom-color: var(--fill-color);\n",
              "    }\n",
              "  }\n",
              "</style>\n",
              "\n",
              "  <script>\n",
              "    async function quickchart(key) {\n",
              "      const quickchartButtonEl =\n",
              "        document.querySelector('#' + key + ' button');\n",
              "      quickchartButtonEl.disabled = true;  // To prevent multiple clicks.\n",
              "      quickchartButtonEl.classList.add('colab-df-spinner');\n",
              "      try {\n",
              "        const charts = await google.colab.kernel.invokeFunction(\n",
              "            'suggestCharts', [key], {});\n",
              "      } catch (error) {\n",
              "        console.error('Error during call to suggestCharts:', error);\n",
              "      }\n",
              "      quickchartButtonEl.classList.remove('colab-df-spinner');\n",
              "      quickchartButtonEl.classList.add('colab-df-quickchart-complete');\n",
              "    }\n",
              "    (() => {\n",
              "      let quickchartButtonEl =\n",
              "        document.querySelector('#df-bb054dfa-a5f4-4f57-b7ed-e9c2d38a8b03 button');\n",
              "      quickchartButtonEl.style.display =\n",
              "        google.colab.kernel.accessAllowed ? 'block' : 'none';\n",
              "    })();\n",
              "  </script>\n",
              "</div>\n",
              "    </div>\n",
              "  </div>\n"
            ],
            "application/vnd.google.colaboratory.intrinsic+json": {
              "type": "dataframe",
              "variable_name": "df_norm",
              "summary": "{\n  \"name\": \"df_norm\",\n  \"rows\": 847,\n  \"fields\": [\n    {\n      \"column\": \"region\",\n      \"properties\": {\n        \"dtype\": \"category\",\n        \"num_unique_values\": 77,\n        \"samples\": [\n          \"\\u0411\\u0435\\u043b\\u0433\\u043e\\u0440\\u043e\\u0434\\u0441\\u043a\\u0430\\u044f \\u043e\\u0431\\u043b\\u0430\\u0441\\u0442\\u044c\",\n          \"\\u041e\\u0440\\u043b\\u043e\\u0432\\u0441\\u043a\\u0430\\u044f \\u043e\\u0431\\u043b\\u0430\\u0441\\u0442\\u044c\",\n          \"\\u0415\\u0432\\u0440\\u0435\\u0439\\u0441\\u043a\\u0430\\u044f \\u0430\\u0432\\u0442\\u043e\\u043d\\u043e\\u043c\\u043d\\u0430\\u044f \\u043e\\u0431\\u043b\\u0430\\u0441\\u0442\\u044c\"\n        ],\n        \"semantic_type\": \"\",\n        \"description\": \"\"\n      }\n    },\n    {\n      \"column\": \"year\",\n      \"properties\": {\n        \"dtype\": \"number\",\n        \"std\": 3,\n        \"min\": 2011,\n        \"max\": 2021,\n        \"num_unique_values\": 11,\n        \"samples\": [\n          2016,\n          2011,\n          2020\n        ],\n        \"semantic_type\": \"\",\n        \"description\": \"\"\n      }\n    },\n    {\n      \"column\": \"y\",\n      \"properties\": {\n        \"dtype\": \"number\",\n        \"std\": 2.5564602709453927,\n        \"min\": 61.1,\n        \"max\": 79.64,\n        \"num_unique_values\": 547,\n        \"samples\": [\n          69.56,\n          70.99,\n          75.79\n        ],\n        \"semantic_type\": \"\",\n        \"description\": \"\"\n      }\n    },\n    {\n      \"column\": \"x1\",\n      \"properties\": {\n        \"dtype\": \"number\",\n        \"std\": 12,\n        \"min\": 36,\n        \"max\": 120,\n        \"num_unique_values\": 71,\n        \"samples\": [\n          97,\n          65,\n          110\n        ],\n        \"semantic_type\": \"\",\n        \"description\": \"\"\n      }\n    },\n    {\n      \"column\": \"x2\",\n      \"properties\": {\n        \"dtype\": \"number\",\n        \"std\": 43,\n        \"min\": 105,\n        \"max\": 366,\n        \"num_unique_values\": 187,\n        \"samples\": [\n          306,\n          180,\n          236\n        ],\n        \"semantic_type\": \"\",\n        \"description\": \"\"\n      }\n    },\n    {\n      \"column\": \"x3\",\n      \"properties\": {\n        \"dtype\": \"number\",\n        \"std\": 48,\n        \"min\": 89,\n        \"max\": 400,\n        \"num_unique_values\": 199,\n        \"samples\": [\n          172,\n          335,\n          226\n        ],\n        \"semantic_type\": \"\",\n        \"description\": \"\"\n      }\n    },\n    {\n      \"column\": \"x4\",\n      \"properties\": {\n        \"dtype\": \"number\",\n        \"std\": 25.111664509565163,\n        \"min\": 36.0,\n        \"max\": 176.0,\n        \"num_unique_values\": 125,\n        \"samples\": [\n          69.0,\n          85.0,\n          153.0\n        ],\n        \"semantic_type\": \"\",\n        \"description\": \"\"\n      }\n    },\n    {\n      \"column\": \"x5\",\n      \"properties\": {\n        \"dtype\": \"number\",\n        \"std\": 28.07518230204802,\n        \"min\": 38.0,\n        \"max\": 245.0,\n        \"num_unique_values\": 119,\n        \"samples\": [\n          77.0,\n          59.0,\n          81.0\n        ],\n        \"semantic_type\": \"\",\n        \"description\": \"\"\n      }\n    },\n    {\n      \"column\": \"x6\",\n      \"properties\": {\n        \"dtype\": \"number\",\n        \"std\": 14.12666057145243,\n        \"min\": 20.0,\n        \"max\": 117.0,\n        \"num_unique_values\": 70,\n        \"samples\": [\n          49.0,\n          50.0,\n          81.0\n        ],\n        \"semantic_type\": \"\",\n        \"description\": \"\"\n      }\n    },\n    {\n      \"column\": \"x7\",\n      \"properties\": {\n        \"dtype\": \"number\",\n        \"std\": 17,\n        \"min\": 30,\n        \"max\": 405,\n        \"num_unique_values\": 75,\n        \"samples\": [\n          161,\n          141,\n          128\n        ],\n        \"semantic_type\": \"\",\n        \"description\": \"\"\n      }\n    },\n    {\n      \"column\": \"x8\",\n      \"properties\": {\n        \"dtype\": \"number\",\n        \"std\": 2.4046329497520653,\n        \"min\": 7.9,\n        \"max\": 23.2,\n        \"num_unique_values\": 117,\n        \"samples\": [\n          15.5,\n          14.3,\n          13.3\n        ],\n        \"semantic_type\": \"\",\n        \"description\": \"\"\n      }\n    },\n    {\n      \"column\": \"x9\",\n      \"properties\": {\n        \"dtype\": \"number\",\n        \"std\": 7.07838039842339,\n        \"min\": 11.0,\n        \"max\": 116.0,\n        \"num_unique_values\": 37,\n        \"samples\": [\n          32.0,\n          48.0,\n          36.0\n        ],\n        \"semantic_type\": \"\",\n        \"description\": \"\"\n      }\n    }\n  ]\n}"
            }
          },
          "metadata": {},
          "execution_count": 81
        }
      ]
    },
    {
      "cell_type": "code",
      "source": [
        "x_labels = df_norm.columns[3:]\n",
        "for x in x_labels:\n",
        "  df_norm[x] = df_norm[x] - norms[x]"
      ],
      "metadata": {
        "id": "IZrGeFrfOITw"
      },
      "execution_count": null,
      "outputs": []
    },
    {
      "cell_type": "code",
      "source": [
        "df_norm.head()"
      ],
      "metadata": {
        "colab": {
          "base_uri": "https://localhost:8080/",
          "height": 206
        },
        "id": "-YSTwdqiPC4K",
        "outputId": "575e9792-82c8-4e76-b6ad-6f2c02fe6739"
      },
      "execution_count": null,
      "outputs": [
        {
          "output_type": "execute_result",
          "data": {
            "text/plain": [
              "           region  year      y  x1  x2  x3    x4    x5    x6  x7   x8    x9\n",
              "0  Алтайский край  2011  68.94  -8  -2  47  27.0 -50.0 -50.0  73  0.8  16.0\n",
              "1  Алтайский край  2012  69.01  -4  -5  49  26.0 -53.0 -49.0  72  1.6  14.0\n",
              "2  Алтайский край  2013  69.60  -4  -7  50  22.0 -55.0 -45.0  72  1.9  15.0\n",
              "3  Алтайский край  2014  69.77  -6 -21  52  16.0 -58.0 -45.0  72  2.5  15.0\n",
              "4  Алтайский край  2015  70.13 -11 -41  58   8.0 -59.0 -46.0  67  2.3  14.0"
            ],
            "text/html": [
              "\n",
              "  <div id=\"df-c2638a09-019c-4faf-b76e-66498474fdff\" class=\"colab-df-container\">\n",
              "    <div>\n",
              "<style scoped>\n",
              "    .dataframe tbody tr th:only-of-type {\n",
              "        vertical-align: middle;\n",
              "    }\n",
              "\n",
              "    .dataframe tbody tr th {\n",
              "        vertical-align: top;\n",
              "    }\n",
              "\n",
              "    .dataframe thead th {\n",
              "        text-align: right;\n",
              "    }\n",
              "</style>\n",
              "<table border=\"1\" class=\"dataframe\">\n",
              "  <thead>\n",
              "    <tr style=\"text-align: right;\">\n",
              "      <th></th>\n",
              "      <th>region</th>\n",
              "      <th>year</th>\n",
              "      <th>y</th>\n",
              "      <th>x1</th>\n",
              "      <th>x2</th>\n",
              "      <th>x3</th>\n",
              "      <th>x4</th>\n",
              "      <th>x5</th>\n",
              "      <th>x6</th>\n",
              "      <th>x7</th>\n",
              "      <th>x8</th>\n",
              "      <th>x9</th>\n",
              "    </tr>\n",
              "  </thead>\n",
              "  <tbody>\n",
              "    <tr>\n",
              "      <th>0</th>\n",
              "      <td>Алтайский край</td>\n",
              "      <td>2011</td>\n",
              "      <td>68.94</td>\n",
              "      <td>-8</td>\n",
              "      <td>-2</td>\n",
              "      <td>47</td>\n",
              "      <td>27.0</td>\n",
              "      <td>-50.0</td>\n",
              "      <td>-50.0</td>\n",
              "      <td>73</td>\n",
              "      <td>0.8</td>\n",
              "      <td>16.0</td>\n",
              "    </tr>\n",
              "    <tr>\n",
              "      <th>1</th>\n",
              "      <td>Алтайский край</td>\n",
              "      <td>2012</td>\n",
              "      <td>69.01</td>\n",
              "      <td>-4</td>\n",
              "      <td>-5</td>\n",
              "      <td>49</td>\n",
              "      <td>26.0</td>\n",
              "      <td>-53.0</td>\n",
              "      <td>-49.0</td>\n",
              "      <td>72</td>\n",
              "      <td>1.6</td>\n",
              "      <td>14.0</td>\n",
              "    </tr>\n",
              "    <tr>\n",
              "      <th>2</th>\n",
              "      <td>Алтайский край</td>\n",
              "      <td>2013</td>\n",
              "      <td>69.60</td>\n",
              "      <td>-4</td>\n",
              "      <td>-7</td>\n",
              "      <td>50</td>\n",
              "      <td>22.0</td>\n",
              "      <td>-55.0</td>\n",
              "      <td>-45.0</td>\n",
              "      <td>72</td>\n",
              "      <td>1.9</td>\n",
              "      <td>15.0</td>\n",
              "    </tr>\n",
              "    <tr>\n",
              "      <th>3</th>\n",
              "      <td>Алтайский край</td>\n",
              "      <td>2014</td>\n",
              "      <td>69.77</td>\n",
              "      <td>-6</td>\n",
              "      <td>-21</td>\n",
              "      <td>52</td>\n",
              "      <td>16.0</td>\n",
              "      <td>-58.0</td>\n",
              "      <td>-45.0</td>\n",
              "      <td>72</td>\n",
              "      <td>2.5</td>\n",
              "      <td>15.0</td>\n",
              "    </tr>\n",
              "    <tr>\n",
              "      <th>4</th>\n",
              "      <td>Алтайский край</td>\n",
              "      <td>2015</td>\n",
              "      <td>70.13</td>\n",
              "      <td>-11</td>\n",
              "      <td>-41</td>\n",
              "      <td>58</td>\n",
              "      <td>8.0</td>\n",
              "      <td>-59.0</td>\n",
              "      <td>-46.0</td>\n",
              "      <td>67</td>\n",
              "      <td>2.3</td>\n",
              "      <td>14.0</td>\n",
              "    </tr>\n",
              "  </tbody>\n",
              "</table>\n",
              "</div>\n",
              "    <div class=\"colab-df-buttons\">\n",
              "\n",
              "  <div class=\"colab-df-container\">\n",
              "    <button class=\"colab-df-convert\" onclick=\"convertToInteractive('df-c2638a09-019c-4faf-b76e-66498474fdff')\"\n",
              "            title=\"Convert this dataframe to an interactive table.\"\n",
              "            style=\"display:none;\">\n",
              "\n",
              "  <svg xmlns=\"http://www.w3.org/2000/svg\" height=\"24px\" viewBox=\"0 -960 960 960\">\n",
              "    <path d=\"M120-120v-720h720v720H120Zm60-500h600v-160H180v160Zm220 220h160v-160H400v160Zm0 220h160v-160H400v160ZM180-400h160v-160H180v160Zm440 0h160v-160H620v160ZM180-180h160v-160H180v160Zm440 0h160v-160H620v160Z\"/>\n",
              "  </svg>\n",
              "    </button>\n",
              "\n",
              "  <style>\n",
              "    .colab-df-container {\n",
              "      display:flex;\n",
              "      gap: 12px;\n",
              "    }\n",
              "\n",
              "    .colab-df-convert {\n",
              "      background-color: #E8F0FE;\n",
              "      border: none;\n",
              "      border-radius: 50%;\n",
              "      cursor: pointer;\n",
              "      display: none;\n",
              "      fill: #1967D2;\n",
              "      height: 32px;\n",
              "      padding: 0 0 0 0;\n",
              "      width: 32px;\n",
              "    }\n",
              "\n",
              "    .colab-df-convert:hover {\n",
              "      background-color: #E2EBFA;\n",
              "      box-shadow: 0px 1px 2px rgba(60, 64, 67, 0.3), 0px 1px 3px 1px rgba(60, 64, 67, 0.15);\n",
              "      fill: #174EA6;\n",
              "    }\n",
              "\n",
              "    .colab-df-buttons div {\n",
              "      margin-bottom: 4px;\n",
              "    }\n",
              "\n",
              "    [theme=dark] .colab-df-convert {\n",
              "      background-color: #3B4455;\n",
              "      fill: #D2E3FC;\n",
              "    }\n",
              "\n",
              "    [theme=dark] .colab-df-convert:hover {\n",
              "      background-color: #434B5C;\n",
              "      box-shadow: 0px 1px 3px 1px rgba(0, 0, 0, 0.15);\n",
              "      filter: drop-shadow(0px 1px 2px rgba(0, 0, 0, 0.3));\n",
              "      fill: #FFFFFF;\n",
              "    }\n",
              "  </style>\n",
              "\n",
              "    <script>\n",
              "      const buttonEl =\n",
              "        document.querySelector('#df-c2638a09-019c-4faf-b76e-66498474fdff button.colab-df-convert');\n",
              "      buttonEl.style.display =\n",
              "        google.colab.kernel.accessAllowed ? 'block' : 'none';\n",
              "\n",
              "      async function convertToInteractive(key) {\n",
              "        const element = document.querySelector('#df-c2638a09-019c-4faf-b76e-66498474fdff');\n",
              "        const dataTable =\n",
              "          await google.colab.kernel.invokeFunction('convertToInteractive',\n",
              "                                                    [key], {});\n",
              "        if (!dataTable) return;\n",
              "\n",
              "        const docLinkHtml = 'Like what you see? Visit the ' +\n",
              "          '<a target=\"_blank\" href=https://colab.research.google.com/notebooks/data_table.ipynb>data table notebook</a>'\n",
              "          + ' to learn more about interactive tables.';\n",
              "        element.innerHTML = '';\n",
              "        dataTable['output_type'] = 'display_data';\n",
              "        await google.colab.output.renderOutput(dataTable, element);\n",
              "        const docLink = document.createElement('div');\n",
              "        docLink.innerHTML = docLinkHtml;\n",
              "        element.appendChild(docLink);\n",
              "      }\n",
              "    </script>\n",
              "  </div>\n",
              "\n",
              "\n",
              "<div id=\"df-9067e18b-35f4-4cc7-b383-e4b677eecd05\">\n",
              "  <button class=\"colab-df-quickchart\" onclick=\"quickchart('df-9067e18b-35f4-4cc7-b383-e4b677eecd05')\"\n",
              "            title=\"Suggest charts\"\n",
              "            style=\"display:none;\">\n",
              "\n",
              "<svg xmlns=\"http://www.w3.org/2000/svg\" height=\"24px\"viewBox=\"0 0 24 24\"\n",
              "     width=\"24px\">\n",
              "    <g>\n",
              "        <path d=\"M19 3H5c-1.1 0-2 .9-2 2v14c0 1.1.9 2 2 2h14c1.1 0 2-.9 2-2V5c0-1.1-.9-2-2-2zM9 17H7v-7h2v7zm4 0h-2V7h2v10zm4 0h-2v-4h2v4z\"/>\n",
              "    </g>\n",
              "</svg>\n",
              "  </button>\n",
              "\n",
              "<style>\n",
              "  .colab-df-quickchart {\n",
              "      --bg-color: #E8F0FE;\n",
              "      --fill-color: #1967D2;\n",
              "      --hover-bg-color: #E2EBFA;\n",
              "      --hover-fill-color: #174EA6;\n",
              "      --disabled-fill-color: #AAA;\n",
              "      --disabled-bg-color: #DDD;\n",
              "  }\n",
              "\n",
              "  [theme=dark] .colab-df-quickchart {\n",
              "      --bg-color: #3B4455;\n",
              "      --fill-color: #D2E3FC;\n",
              "      --hover-bg-color: #434B5C;\n",
              "      --hover-fill-color: #FFFFFF;\n",
              "      --disabled-bg-color: #3B4455;\n",
              "      --disabled-fill-color: #666;\n",
              "  }\n",
              "\n",
              "  .colab-df-quickchart {\n",
              "    background-color: var(--bg-color);\n",
              "    border: none;\n",
              "    border-radius: 50%;\n",
              "    cursor: pointer;\n",
              "    display: none;\n",
              "    fill: var(--fill-color);\n",
              "    height: 32px;\n",
              "    padding: 0;\n",
              "    width: 32px;\n",
              "  }\n",
              "\n",
              "  .colab-df-quickchart:hover {\n",
              "    background-color: var(--hover-bg-color);\n",
              "    box-shadow: 0 1px 2px rgba(60, 64, 67, 0.3), 0 1px 3px 1px rgba(60, 64, 67, 0.15);\n",
              "    fill: var(--button-hover-fill-color);\n",
              "  }\n",
              "\n",
              "  .colab-df-quickchart-complete:disabled,\n",
              "  .colab-df-quickchart-complete:disabled:hover {\n",
              "    background-color: var(--disabled-bg-color);\n",
              "    fill: var(--disabled-fill-color);\n",
              "    box-shadow: none;\n",
              "  }\n",
              "\n",
              "  .colab-df-spinner {\n",
              "    border: 2px solid var(--fill-color);\n",
              "    border-color: transparent;\n",
              "    border-bottom-color: var(--fill-color);\n",
              "    animation:\n",
              "      spin 1s steps(1) infinite;\n",
              "  }\n",
              "\n",
              "  @keyframes spin {\n",
              "    0% {\n",
              "      border-color: transparent;\n",
              "      border-bottom-color: var(--fill-color);\n",
              "      border-left-color: var(--fill-color);\n",
              "    }\n",
              "    20% {\n",
              "      border-color: transparent;\n",
              "      border-left-color: var(--fill-color);\n",
              "      border-top-color: var(--fill-color);\n",
              "    }\n",
              "    30% {\n",
              "      border-color: transparent;\n",
              "      border-left-color: var(--fill-color);\n",
              "      border-top-color: var(--fill-color);\n",
              "      border-right-color: var(--fill-color);\n",
              "    }\n",
              "    40% {\n",
              "      border-color: transparent;\n",
              "      border-right-color: var(--fill-color);\n",
              "      border-top-color: var(--fill-color);\n",
              "    }\n",
              "    60% {\n",
              "      border-color: transparent;\n",
              "      border-right-color: var(--fill-color);\n",
              "    }\n",
              "    80% {\n",
              "      border-color: transparent;\n",
              "      border-right-color: var(--fill-color);\n",
              "      border-bottom-color: var(--fill-color);\n",
              "    }\n",
              "    90% {\n",
              "      border-color: transparent;\n",
              "      border-bottom-color: var(--fill-color);\n",
              "    }\n",
              "  }\n",
              "</style>\n",
              "\n",
              "  <script>\n",
              "    async function quickchart(key) {\n",
              "      const quickchartButtonEl =\n",
              "        document.querySelector('#' + key + ' button');\n",
              "      quickchartButtonEl.disabled = true;  // To prevent multiple clicks.\n",
              "      quickchartButtonEl.classList.add('colab-df-spinner');\n",
              "      try {\n",
              "        const charts = await google.colab.kernel.invokeFunction(\n",
              "            'suggestCharts', [key], {});\n",
              "      } catch (error) {\n",
              "        console.error('Error during call to suggestCharts:', error);\n",
              "      }\n",
              "      quickchartButtonEl.classList.remove('colab-df-spinner');\n",
              "      quickchartButtonEl.classList.add('colab-df-quickchart-complete');\n",
              "    }\n",
              "    (() => {\n",
              "      let quickchartButtonEl =\n",
              "        document.querySelector('#df-9067e18b-35f4-4cc7-b383-e4b677eecd05 button');\n",
              "      quickchartButtonEl.style.display =\n",
              "        google.colab.kernel.accessAllowed ? 'block' : 'none';\n",
              "    })();\n",
              "  </script>\n",
              "</div>\n",
              "    </div>\n",
              "  </div>\n"
            ],
            "application/vnd.google.colaboratory.intrinsic+json": {
              "type": "dataframe",
              "variable_name": "df_norm",
              "summary": "{\n  \"name\": \"df_norm\",\n  \"rows\": 847,\n  \"fields\": [\n    {\n      \"column\": \"region\",\n      \"properties\": {\n        \"dtype\": \"category\",\n        \"num_unique_values\": 77,\n        \"samples\": [\n          \"\\u0411\\u0435\\u043b\\u0433\\u043e\\u0440\\u043e\\u0434\\u0441\\u043a\\u0430\\u044f \\u043e\\u0431\\u043b\\u0430\\u0441\\u0442\\u044c\",\n          \"\\u041e\\u0440\\u043b\\u043e\\u0432\\u0441\\u043a\\u0430\\u044f \\u043e\\u0431\\u043b\\u0430\\u0441\\u0442\\u044c\",\n          \"\\u0415\\u0432\\u0440\\u0435\\u0439\\u0441\\u043a\\u0430\\u044f \\u0430\\u0432\\u0442\\u043e\\u043d\\u043e\\u043c\\u043d\\u0430\\u044f \\u043e\\u0431\\u043b\\u0430\\u0441\\u0442\\u044c\"\n        ],\n        \"semantic_type\": \"\",\n        \"description\": \"\"\n      }\n    },\n    {\n      \"column\": \"year\",\n      \"properties\": {\n        \"dtype\": \"number\",\n        \"std\": 3,\n        \"min\": 2011,\n        \"max\": 2021,\n        \"num_unique_values\": 11,\n        \"samples\": [\n          2016,\n          2011,\n          2020\n        ],\n        \"semantic_type\": \"\",\n        \"description\": \"\"\n      }\n    },\n    {\n      \"column\": \"y\",\n      \"properties\": {\n        \"dtype\": \"number\",\n        \"std\": 2.5564602709453927,\n        \"min\": 61.1,\n        \"max\": 79.64,\n        \"num_unique_values\": 547,\n        \"samples\": [\n          69.56,\n          70.99,\n          75.79\n        ],\n        \"semantic_type\": \"\",\n        \"description\": \"\"\n      }\n    },\n    {\n      \"column\": \"x1\",\n      \"properties\": {\n        \"dtype\": \"number\",\n        \"std\": 12,\n        \"min\": -37,\n        \"max\": 47,\n        \"num_unique_values\": 71,\n        \"samples\": [\n          24,\n          -8,\n          37\n        ],\n        \"semantic_type\": \"\",\n        \"description\": \"\"\n      }\n    },\n    {\n      \"column\": \"x2\",\n      \"properties\": {\n        \"dtype\": \"number\",\n        \"std\": 43,\n        \"min\": -220,\n        \"max\": 41,\n        \"num_unique_values\": 187,\n        \"samples\": [\n          -19,\n          -145,\n          -89\n        ],\n        \"semantic_type\": \"\",\n        \"description\": \"\"\n      }\n    },\n    {\n      \"column\": \"x3\",\n      \"properties\": {\n        \"dtype\": \"number\",\n        \"std\": 48,\n        \"min\": -171,\n        \"max\": 140,\n        \"num_unique_values\": 199,\n        \"samples\": [\n          -88,\n          75,\n          -34\n        ],\n        \"semantic_type\": \"\",\n        \"description\": \"\"\n      }\n    },\n    {\n      \"column\": \"x4\",\n      \"properties\": {\n        \"dtype\": \"number\",\n        \"std\": 25.11166450956517,\n        \"min\": -54.0,\n        \"max\": 86.0,\n        \"num_unique_values\": 125,\n        \"samples\": [\n          -21.0,\n          -5.0,\n          63.0\n        ],\n        \"semantic_type\": \"\",\n        \"description\": \"\"\n      }\n    },\n    {\n      \"column\": \"x5\",\n      \"properties\": {\n        \"dtype\": \"number\",\n        \"std\": 28.07518230204802,\n        \"min\": -102.0,\n        \"max\": 105.0,\n        \"num_unique_values\": 119,\n        \"samples\": [\n          -63.0,\n          -81.0,\n          -59.0\n        ],\n        \"semantic_type\": \"\",\n        \"description\": \"\"\n      }\n    },\n    {\n      \"column\": \"x6\",\n      \"properties\": {\n        \"dtype\": \"number\",\n        \"std\": 14.12666057145243,\n        \"min\": -80.0,\n        \"max\": 17.0,\n        \"num_unique_values\": 70,\n        \"samples\": [\n          -51.0,\n          -50.0,\n          -19.0\n        ],\n        \"semantic_type\": \"\",\n        \"description\": \"\"\n      }\n    },\n    {\n      \"column\": \"x7\",\n      \"properties\": {\n        \"dtype\": \"number\",\n        \"std\": 17,\n        \"min\": -66,\n        \"max\": 309,\n        \"num_unique_values\": 75,\n        \"samples\": [\n          65,\n          45,\n          32\n        ],\n        \"semantic_type\": \"\",\n        \"description\": \"\"\n      }\n    },\n    {\n      \"column\": \"x8\",\n      \"properties\": {\n        \"dtype\": \"number\",\n        \"std\": 2.4046329497520653,\n        \"min\": -4.1,\n        \"max\": 11.2,\n        \"num_unique_values\": 117,\n        \"samples\": [\n          3.5,\n          2.3000000000000007,\n          1.3000000000000007\n        ],\n        \"semantic_type\": \"\",\n        \"description\": \"\"\n      }\n    },\n    {\n      \"column\": \"x9\",\n      \"properties\": {\n        \"dtype\": \"number\",\n        \"std\": 7.07838039842339,\n        \"min\": -13.0,\n        \"max\": 92.0,\n        \"num_unique_values\": 37,\n        \"samples\": [\n          8.0,\n          24.0,\n          12.0\n        ],\n        \"semantic_type\": \"\",\n        \"description\": \"\"\n      }\n    }\n  ]\n}"
            }
          },
          "metadata": {},
          "execution_count": 83
        }
      ]
    },
    {
      "cell_type": "markdown",
      "source": [
        "Модель"
      ],
      "metadata": {
        "id": "lF4EYhrpPn88"
      }
    },
    {
      "cell_type": "code",
      "source": [
        "# Определяем X и y\n",
        "X = df_norm.drop(columns=['region', 'year', 'y'])\n",
        "y = df_norm['y']\n",
        "\n",
        "# Добавляем константу (для свободного члена) к X\n",
        "X = sm.add_constant(X)\n",
        "\n",
        "# Делим данные на обучающую и тестовую выборки\n",
        "X_train, X_test, y_train, y_test = train_test_split(X, y, test_size=0.2, random_state=1234)\n",
        "\n",
        "# Создаем модель линейной регрессии\n",
        "model = sm.OLS(y_train, X_train).fit()\n",
        "\n",
        "# Получаем предсказания\n",
        "y_pred = model.predict(X_test)\n",
        "\n",
        "# Оценка производительности модели\n",
        "mse = mean_squared_error(y_test, y_pred)\n",
        "r2 = r2_score(y_test, y_pred)\n",
        "\n",
        "# Выводим результаты\n",
        "print(\"Mean Squared Error:\", mse)\n",
        "print(\"R-squared:\", r2)\n",
        "\n",
        "# Анализ коэффициентов регрессии\n",
        "print(\"\\nКоэффициенты регрессии:\")\n",
        "print(model.params)\n",
        "print(\"\\nРезультаты модели:\")\n",
        "print(model.summary())"
      ],
      "metadata": {
        "colab": {
          "base_uri": "https://localhost:8080/"
        },
        "id": "M4_LxYmoPm29",
        "outputId": "7b9a5539-5f2d-4377-95c4-03489854c140"
      },
      "execution_count": null,
      "outputs": [
        {
          "output_type": "stream",
          "name": "stdout",
          "text": [
            "Mean Squared Error: 4.79439532493337\n",
            "R-squared: 0.21545694953690286\n",
            "\n",
            "Коэффициенты регрессии:\n",
            "const    71.898117\n",
            "x1       -0.008857\n",
            "x2        0.005347\n",
            "x3       -0.001060\n",
            "x4       -0.009535\n",
            "x5        0.028789\n",
            "x6        0.006982\n",
            "x7       -0.016040\n",
            "x8       -0.018101\n",
            "x9        0.075053\n",
            "dtype: float64\n",
            "\n",
            "Результаты модели:\n",
            "                            OLS Regression Results                            \n",
            "==============================================================================\n",
            "Dep. Variable:                      y   R-squared:                       0.196\n",
            "Model:                            OLS   Adj. R-squared:                  0.185\n",
            "Method:                 Least Squares   F-statistic:                     18.01\n",
            "Date:                Sat, 19 Oct 2024   Prob (F-statistic):           6.35e-27\n",
            "Time:                        14:49:18   Log-Likelihood:                -1527.4\n",
            "No. Observations:                 677   AIC:                             3075.\n",
            "Df Residuals:                     667   BIC:                             3120.\n",
            "Df Model:                           9                                         \n",
            "Covariance Type:            nonrobust                                         \n",
            "==============================================================================\n",
            "                 coef    std err          t      P>|t|      [0.025      0.975]\n",
            "------------------------------------------------------------------------------\n",
            "const         71.8981      0.464    154.877      0.000      70.987      72.810\n",
            "x1            -0.0089      0.007     -1.184      0.237      -0.024       0.006\n",
            "x2             0.0053      0.002      2.449      0.015       0.001       0.010\n",
            "x3            -0.0011      0.002     -0.489      0.625      -0.005       0.003\n",
            "x4            -0.0095      0.004     -2.583      0.010      -0.017      -0.002\n",
            "x5             0.0288      0.004      7.933      0.000       0.022       0.036\n",
            "x6             0.0070      0.008      0.878      0.380      -0.009       0.023\n",
            "x7            -0.0160      0.005     -3.022      0.003      -0.026      -0.006\n",
            "x8            -0.0181      0.041     -0.445      0.656      -0.098       0.062\n",
            "x9             0.0751      0.014      5.290      0.000       0.047       0.103\n",
            "==============================================================================\n",
            "Omnibus:                       35.461   Durbin-Watson:                   1.967\n",
            "Prob(Omnibus):                  0.000   Jarque-Bera (JB):               60.199\n",
            "Skew:                           0.381   Prob(JB):                     8.47e-14\n",
            "Kurtosis:                       4.246   Cond. No.                         615.\n",
            "==============================================================================\n",
            "\n",
            "Notes:\n",
            "[1] Standard Errors assume that the covariance matrix of the errors is correctly specified.\n"
          ]
        }
      ]
    },
    {
      "cell_type": "markdown",
      "source": [
        "тоже самое, но с модулем"
      ],
      "metadata": {
        "id": "XcGqJsO0Pz0r"
      }
    },
    {
      "cell_type": "code",
      "source": [
        "df_norm_abs = df.copy()\n",
        "x_labels = df_norm_abs.columns[3:]\n",
        "for x in x_labels:\n",
        "  df_norm_abs[x] = abs(df_norm_abs[x] - norms[x])"
      ],
      "metadata": {
        "id": "MaYUP0LtP2L3"
      },
      "execution_count": null,
      "outputs": []
    },
    {
      "cell_type": "code",
      "source": [
        "# Определяем X и y\n",
        "X = df_norm_abs.drop(columns=['region', 'year', 'y'])\n",
        "y = df_norm_abs['y']\n",
        "\n",
        "# Добавляем константу (для свободного члена) к X\n",
        "X = sm.add_constant(X)\n",
        "\n",
        "# Делим данные на обучающую и тестовую выборки\n",
        "X_train, X_test, y_train, y_test = train_test_split(X, y, test_size=0.2, random_state=1234)\n",
        "\n",
        "# Создаем модель линейной регрессии\n",
        "model = sm.OLS(y_train, X_train).fit()\n",
        "\n",
        "# Получаем предсказания\n",
        "y_pred = model.predict(X_test)\n",
        "\n",
        "# Оценка производительности модели\n",
        "mse = mean_squared_error(y_test, y_pred)\n",
        "r2 = r2_score(y_test, y_pred)\n",
        "\n",
        "# Выводим результаты\n",
        "print(\"Mean Squared Error:\", mse)\n",
        "print(\"R-squared:\", r2)\n",
        "\n",
        "# Анализ коэффициентов регрессии\n",
        "print(\"\\nКоэффициенты регрессии:\")\n",
        "print(model.params)\n",
        "print(\"\\nРезультаты модели:\")\n",
        "print(model.summary())"
      ],
      "metadata": {
        "id": "e_QKTb-yQQTp",
        "outputId": "cc3d505f-ce5d-4d33-9a17-f69d1f3fa6ef",
        "colab": {
          "base_uri": "https://localhost:8080/"
        }
      },
      "execution_count": null,
      "outputs": [
        {
          "output_type": "stream",
          "name": "stdout",
          "text": [
            "Mean Squared Error: 5.074944037715702\n",
            "R-squared: 0.16954864869548125\n",
            "\n",
            "Коэффициенты регрессии:\n",
            "const    71.207575\n",
            "x1        0.060993\n",
            "x2       -0.005163\n",
            "x3        0.002304\n",
            "x4        0.005834\n",
            "x5       -0.003536\n",
            "x6       -0.040073\n",
            "x7       -0.011461\n",
            "x8        0.171509\n",
            "x9        0.067522\n",
            "dtype: float64\n",
            "\n",
            "Результаты модели:\n",
            "                            OLS Regression Results                            \n",
            "==============================================================================\n",
            "Dep. Variable:                      y   R-squared:                       0.156\n",
            "Model:                            OLS   Adj. R-squared:                  0.145\n",
            "Method:                 Least Squares   F-statistic:                     13.72\n",
            "Date:                Sat, 19 Oct 2024   Prob (F-statistic):           2.35e-20\n",
            "Time:                        14:49:39   Log-Likelihood:                -1543.5\n",
            "No. Observations:                 677   AIC:                             3107.\n",
            "Df Residuals:                     667   BIC:                             3152.\n",
            "Df Model:                           9                                         \n",
            "Covariance Type:            nonrobust                                         \n",
            "==============================================================================\n",
            "                 coef    std err          t      P>|t|      [0.025      0.975]\n",
            "------------------------------------------------------------------------------\n",
            "const         71.2076      0.547    130.151      0.000      70.133      72.282\n",
            "x1             0.0610      0.012      5.164      0.000       0.038       0.084\n",
            "x2            -0.0052      0.002     -2.289      0.022      -0.010      -0.001\n",
            "x3             0.0023      0.003      0.668      0.505      -0.004       0.009\n",
            "x4             0.0058      0.006      0.982      0.326      -0.006       0.018\n",
            "x5            -0.0035      0.006     -0.607      0.544      -0.015       0.008\n",
            "x6            -0.0401      0.008     -5.009      0.000      -0.056      -0.024\n",
            "x7            -0.0115      0.006     -2.061      0.040      -0.022      -0.001\n",
            "x8             0.1715      0.055      3.103      0.002       0.063       0.280\n",
            "x9             0.0675      0.015      4.648      0.000       0.039       0.096\n",
            "==============================================================================\n",
            "Omnibus:                       26.820   Durbin-Watson:                   1.941\n",
            "Prob(Omnibus):                  0.000   Jarque-Bera (JB):               42.370\n",
            "Skew:                           0.317   Prob(JB):                     6.30e-10\n",
            "Kurtosis:                       4.049   Cond. No.                         763.\n",
            "==============================================================================\n",
            "\n",
            "Notes:\n",
            "[1] Standard Errors assume that the covariance matrix of the errors is correctly specified.\n"
          ]
        }
      ]
    },
    {
      "cell_type": "markdown",
      "source": [
        "Модель, построенная на основе данных о потреблении различных групп продуктов, объясняет примерно 20% вариации в ожидаемой продолжительности жизни регионов РФ. Это свидетельствует о статистически значимой связи между пищевыми факторами и продолжительностью жизни. Однако следует отметить, что оставшиеся 80% вариаций обусловлены другими факторами, не включёнными в модель, а также случайными вариациями. Доверительные интервалы для коэффициентов (например, для потребления овощей и сахара) подтверждают значимость влияния отдельных пищевых групп на ожидаемую продолжительность жизни."
      ],
      "metadata": {
        "id": "bazxE6Myz4dA"
      }
    }
  ]
}